


import pandas as pd
import numpy as np
import prince

import matplotlib.pyplot as plt
import seaborn as sns

import plotly.express as px

from ydata_profiling import ProfileReport

import scipy.stats as stats











marketing = pd.read_csv("marketing_campaign.csv", encoding="utf-8", sep= "\t")


#On affiche les premières lignes pour se familiariser avec le jeu de données et identifier les données quali/quanti ...
marketing.head()


marketing.shape


#Affichage des colonnes: 
marketing.columns





marketing.drop(['Z_CostContact','Z_Revenue'], axis=1, inplace=True)


#On vérifie: 216
marketing.shape


#Obtenir des infos sur les types de données et valeurs manquantes
marketing.info()





print('Income - Nombre de valeurs manquantes:', marketing['Income'].isnull().sum())
#On ajoute la médiane pour les valeurs manquantes et non pas la moyenne car la médiane correspond à la valeur centrale de notre jeu de données
#On évite ainsi tout risque de fortes influences sur la moyenne par des valeurs extrêmes (outliers)
print('Income - Valeur médiane: ', marketing['Income'].median())
marketing.fillna({'Income': marketing['Income'].median()}, inplace=True)





print(marketing['Education'].value_counts())


marketing['Education'] = marketing['Education'].astype('category')
marketing['Marital_Status'] = marketing['Marital_Status'].astype('category')
marketing['Kidhome'] = marketing['Kidhome'].astype('category')
marketing['Teenhome'] = marketing['Teenhome'].astype('category')

#Il est préférable de convertir la colonne Dt_Customer en type datetime pour faciliter les analyses et les manipulations
marketing['Dt_Customer'] = pd.to_datetime(marketing['Dt_Customer'], format='%d-%m-%Y')


nb_conflits = ((marketing['AcceptedCmp1'] == 1) & (marketing['AcceptedCmp2'] == 1)).sum()
print(f"Nombre de cas où AcceptedCmp1 et AcceptedCmp2 valent 1 en même temps : {nb_conflits}")
print("On ne peut donc pas transformer mes variables AcceptedCmp1, AcceptedCmp2, AcceptedCmp3, AcceptedCmp4, AcceptedCmp5 en une variable AcceptedCmp qui prend 1,2,3,4 ou 5")


marketing['AcceptedCmp1'] = marketing['AcceptedCmp1'].astype('category')
marketing['AcceptedCmp1'] = marketing['AcceptedCmp1'].cat.rename_categories({0: 'No', 1:'Yes'})
marketing['AcceptedCmp2'] = marketing['AcceptedCmp2'].astype('category')
marketing['AcceptedCmp2'] = marketing['AcceptedCmp2'].cat.rename_categories({0: 'No', 1:'Yes'})
marketing['AcceptedCmp3'] = marketing['AcceptedCmp3'].astype('category')
marketing['AcceptedCmp3'] = marketing['AcceptedCmp3'].cat.rename_categories({0: 'No', 1:'Yes'})
marketing['AcceptedCmp4'] = marketing['AcceptedCmp4'].astype('category')
marketing['AcceptedCmp4'] = marketing['AcceptedCmp4'].cat.rename_categories({0: 'No', 1:'Yes'})
marketing['AcceptedCmp5'] = marketing['AcceptedCmp5'].astype('category')
marketing['AcceptedCmp5'] = marketing['AcceptedCmp5'].cat.rename_categories({0: 'No', 1:'Yes'})
marketing['Complain'] = marketing['Complain'].astype('category')
marketing['Complain'] = marketing['Complain'].cat.rename_categories({0: 'No', 1:'Yes'})
marketing['Response'] = marketing['Response'].astype('category')
marketing['Response'] = marketing['Response'].cat.rename_categories({0: 'No', 1:'Yes'})














sns.histplot(marketing['Income'], kde=False)


riche = marketing.loc[marketing['Income'] > 6e5, 'ID']
print(riche)

#2233 c'est le numéro de la ligne


marketing = marketing.drop(marketing[marketing['ID'] == 9432].index)
plt.boxplot(marketing['Income'])








plt.boxplot(marketing['Year_Birth'])
nb_vieux = (marketing['Year_Birth'] < 1920).sum()
print(f"Nombre de vieux : {nb_vieux}")
print("Il n'y en a que 3 donc on les retire car cela n'a pas de sens de garder des gens qui sont nés avant 1905 et qui ne sont surement plus en vie")


vieux = marketing.loc[marketing['Year_Birth'] < 1920, 'ID']
for i in vieux: 
    marketing = marketing.drop(marketing[marketing['ID'] == i].index)


plt.hist(marketing["Year_Birth"])


print(marketing["Year_Birth"].max())





marketing["Age_Categorie"] = pd.cut(
    2015 - marketing["Year_Birth"],  # On calcule l'âge
    bins=[18, 30, 45, 60, float('inf')],  # Définition des tranches d'âge
    labels=["Age_18-30", "Age_30-45", "Age_45-60", "Age_>60"],  # Noms des catégories
    right=True  # Inclut la borne supérieure dans l'intervalle
)


plt.figure(figsize=(8, 5))  # Ajuster la taille du graphique
sns.countplot(data=marketing, x="Age_Categorie", order=["Age_18-30", "Age_30-45", "Age_45-60", "Age_>60"])

plt.title("Répartition des clients par tranche d'âge")
plt.xlabel("Tranche d'âge")
plt.ylabel("Nombre de clients")
plt.xticks(rotation=45)  # Incliner les labels si besoin


#marketing.drop(['Year_Birth'], axis=1, inplace=True)


marketing["Age"]= 2015 - marketing["Year_Birth"]








plt.boxplot(marketing['MntWines'])


nb_alcooliques = (marketing['MntWines'] > 1200).sum()
print(f"Nombre d'alcooliques : {nb_alcooliques}")
print("Il y en a beacoup, on les laisse")





sns.histplot(marketing['MntFruits'], kde=False)








plt.boxplot(marketing['MntMeatProducts'])


viandards = marketing.loc[marketing['MntMeatProducts'] > 1500, 'ID']
for i in viandards: 
    marketing = marketing.drop(marketing[marketing['ID'] == i].index)





sns.histplot(marketing['MntFishProducts'], kde=False)





plt.boxplot(marketing['MntSweetProducts'])


gourmands = marketing.loc[marketing['MntSweetProducts'] > 225, 'ID']
for i in gourmands: 
    marketing = marketing.drop(marketing[marketing['ID'] == i].index)





plt.boxplot(marketing['MntGoldProds'])


for i in range(3):
    marketing = marketing.drop(marketing['MntGoldProds'].idxmax())
#On retire les 3 premiers parce que j'arrive pas à voir quel est la valeur du seuil. Par contre, il faut pas le run 





plt.boxplot(marketing['NumDealsPurchases'])


print("Pour l'instant, on décide de tout garder car les valeurs ne nous semble pas aberrantes")





# Créer deux boxplots côte à côte
plt.boxplot([marketing['NumWebPurchases'], marketing['NumCatalogPurchases'], marketing['NumStorePurchases'], marketing['NumWebVisitsMonth']], positions=[1, 2, 3, 4])

# Ajouter des labels sur l'axe x pour chaque boxplot
plt.xticks([1, 2, 3, 4], ['NumWebPurchases', 'NumCatalogPurchases', 'NumStorePurchases', 'NumWebVisitsMonth'])

# Afficher le graphique
plt.xticks(rotation=45) #permet d'orienter la légende
plt.show()








marketing['Depense_Total']= marketing[['MntWines', 'MntFruits', 'MntMeatProducts', 'MntFishProducts', 'MntSweetProducts', 'MntGoldProds']].sum(axis=1)
marketing['Total_Achat'] = marketing[['NumWebPurchases', 'NumCatalogPurchases', 'NumStorePurchases']].sum(axis=1)


marketing[['Depense_Total', 'Total_Achat']].describe()


nbr_individu_zero_achat = marketing[marketing['Total_Achat'] == 0].shape[0]
print(nbr_individu_zero_achat)


individus_zero_achat = marketing[marketing['Total_Achat'] == 0]

# Afficher chaque individu avec toutes ses variables
for index, row in individus_zero_achat.iterrows():
    print(row)  # Affiche toutes les variables (colonnes) pour chaque individu
    print()  # Ajouter une ligne vide pour séparer les individus





print(marketing[['NumWebPurchases', 'NumCatalogPurchases', 'NumStorePurchases']].isnull().sum())








# On choisit la date de référence : 1er janvier 2015
date_reference = pd.to_datetime('2015-01-01')

# Calcul du nombre de jours d'ancienneté
marketing['Anciennete_jours'] = (date_reference - marketing['Dt_Customer']).dt.days

# Conversion en mois
marketing['Anciennete_mois'] = (marketing['Anciennete_jours'] / 30.44).round(1) # On arrondit à 1 chiffre après la virgule
#on divise le nombre de jours par 30.44 (nbr moyen de jours par mois) 


plt.boxplot(marketing['Anciennete_mois'])





print(marketing.dtypes)


# Vérifier les valeurs manquantes pour toutes les variables de type category
print(marketing.select_dtypes(include='category').isnull().sum())








for col in marketing.select_dtypes(include=['category']).columns:
    print(f"Modalités de la variable {col} :")
    print(marketing[col].value_counts())
    print("\n")





marketing['Marital_Status'] = marketing['Marital_Status'].replace({
    'YOLO': None,  # Retirer YOLO
    'Absurd': None,  # Retirer Absurd
    'Married': 'Couple',  # Réunir Married et Together dans 'Couple'
    'Together': 'Couple',
    'Single': 'Seule',  # Réunir Single, Alone, Widow dans 'Seule'
    'Alone': 'Seule',
    'Widow': 'Seule',
    'Divorced': 'Divorcé'  # Garder Divorced sous 'Divorcé'
})


# Vérifier les modalités après modification
print(marketing['Marital_Status'].value_counts().plot(kind='bar'))





marketing['Total_Enfants'] = marketing['Kidhome'].astype(int) + marketing['Teenhome'].astype(int)
marketing['Total_Enfants'] = marketing['Total_Enfants'].astype('category')


print(marketing['Total_Enfants'].value_counts().plot(kind='bar'))


marketing.drop(['Kidhome', 'Teenhome'], axis=1, inplace=True)





marketing['Niveau_Etude'] = marketing['Education'].replace({
    'Graduation': 'Moyen',  # Réunir Married et Together dans 'Couple'
    'PhD': 'Eleve',
    'Master': 'Eleve',  # Réunir Single, Alone, Widow dans 'Seule'
    '2n Cycle': 'Faible',
    'Basic': 'Moyen',
})


# Vérifier les modalités après modification
print(marketing['Niveau_Etude'].value_counts().plot(kind='bar'))


marketing.drop(['Education'], axis=1, inplace=True)








marketing['Nbr_Cmp'] = marketing[['AcceptedCmp1', 'AcceptedCmp2', 'AcceptedCmp3', 'AcceptedCmp4', 'AcceptedCmp5', 'Response']].apply(lambda x: x.cat.codes).sum(axis=1)


print(marketing['Nbr_Cmp'].value_counts())





print(marketing.iloc[9])





print(marketing.duplicated().sum())








# Sélectionner uniquement les colonnes numériques (int64, float64)
numeric_columns = marketing.select_dtypes(include=['number']).drop(columns=['ID'])

# Calculer la matrice de corrélation
correlation_matrix = numeric_columns.corr()

plt.figure(figsize=(12, 10))
sns.heatmap(correlation_matrix, annot=True, cmap='coolwarm', fmt='.2f', linewidths=0.5)
plt.title('Matrice de Corrélation')
plt.show()








# Sélectionner uniquement les colonnes numériques (int64, float64)
numeric_columns = marketing.select_dtypes(include=['number']).drop(columns=['ID'])

sns.pairplot(numeric_columns)
plt.show()





# Création de la figure avec 2 sous-graphes
fig, axes = plt.subplots(1, 2, figsize=(14, 6))

# Scatter plot Total_Achat en fonction de Income
axes[0].scatter(marketing['Income'], marketing['MntWines'], alpha=0.6, color='cornflowerblue')
axes[0].set_xlabel('Income')
axes[0].set_ylabel('MntWines')
axes[0].set_title('Achat de vins en fonction de Income')

# Scatter plot Depense_Total en fonction de Income
axes[1].scatter(marketing['Income'], marketing['MntMeatProducts'], alpha=0.6, color='salmon')
axes[1].set_xlabel('Income')
axes[1].set_ylabel('MntMeatProducts')
axes[1].set_title('Achat de viande en fonction de Income')

plt.tight_layout()
plt.show()





fig, axes = plt.subplots(1, 2, figsize=(14, 6))

# Scatter plot : Depense_Total vs MntWines
axes[0].scatter(marketing['MntWines'], marketing['Depense_Total'], alpha=0.6, color='mediumseagreen')
axes[0].set_xlabel('MntWines')
axes[0].set_ylabel('Depense_Total')
axes[0].set_title('Depense_Total en fonction de MntWines')

# Scatter plot : Depense_Total vs MntMeatProducts
axes[1].scatter(marketing['MntMeatProducts'], marketing['Depense_Total'], alpha=0.6, color='tomato')
axes[1].set_xlabel('MntMeatProducts')
axes[1].set_ylabel('Depense_Total')
axes[1].set_title('Depense_Total en fonction de MntMeatProducts')

plt.tight_layout()
plt.show()






# Création de la figure avec 2 sous-graphes
fig, axes = plt.subplots(1, 2, figsize=(14, 6))

# Scatter plot Total_Achat en fonction de Income
axes[0].scatter(marketing['Income'], marketing['Total_Achat'], alpha=0.6, color='cornflowerblue')
axes[0].set_xlabel('Income')
axes[0].set_ylabel('Total_Achat')
axes[0].set_title('Total_Achat en fonction de Income')

# Scatter plot Depense_Total en fonction de Income
axes[1].scatter(marketing['Income'], marketing['Depense_Total'], alpha=0.6, color='salmon')
axes[1].set_xlabel('Income')
axes[1].set_ylabel('Depense_Total')
axes[1].set_title('Depense_Total en fonction de Income')

plt.tight_layout()
plt.show()


# Liste des variables à comparer à Total_Achat
x_vars = ['NumWebPurchases', 'NumCatalogPurchases', 'NumStorePurchases']

# Création de la figure avec 3 sous-graphes (1 ligne, 3 colonnes)
fig, axes = plt.subplots(1, 3, figsize=(18, 5))

# Boucle pour créer les scatter plots
for i, var in enumerate(x_vars):
    axes[i].scatter(marketing[var], marketing['Total_Achat'], alpha=0.6, color='teal')
    axes[i].set_xlabel(var)
    axes[i].set_ylabel('Total_Achat' if i == 0 else "")
    axes[i].set_title(f'Total_Achat vs {var}')

plt.tight_layout()
plt.show()











pd.crosstab(marketing['Marital_Status'], marketing['Niveau_Etude'])





contingency_table = pd.crosstab(marketing['Marital_Status'], marketing['Niveau_Etude'])

# Créer le mosaic plot avec Plotly
fig = px.imshow(contingency_table, text_auto=True, labels={'x': 'Niveau_études', 'y': 'Marital Status'})
fig.update_layout(title="Mosaic Plot entre Niveau d'études et Marital Status")
fig.show()





contingency_table = pd.crosstab(marketing['Marital_Status'], marketing['Niveau_Etude'])

# Effectuer le test du Khi-Deux
chi2_stat, p_value, dof, expected = stats.chi2_contingency(contingency_table)

# Afficher les résultats du test
print(f"Khi-deux Statistique: {chi2_stat}")
print(f"P-value: {p_value}")
print(f"Degrés de liberté: {dof}")
print(f"Fréquences attendues: \n{expected}")

# Interpréter le p-value
if p_value < 0.05:
    print("Il y a une relation significative entre les variables.")
else:
    print("Aucune relation significative n'a été trouvée.")





# Sélectionner uniquement les colonnes de type 'category'
qualitative_columns = marketing.select_dtypes(include=['category']).columns

# Créer une fonction pour effectuer le test de chi-deux
def chi2_test(dataframe, col1, col2):
    # Créer un tableau croisé (contingency table)
    contingency_table = pd.crosstab(dataframe[col1], dataframe[col2])
    
    # Effectuer le test du chi-deux
    chi2, p, dof, expected = stats.chi2_contingency(contingency_table)
    
    # Retourner le p-value du test
    return p

# Faire un test de chi-deux entre chaque paire de variables qualitatives
for i in range(len(qualitative_columns)):
    for j in range(i + 1, len(qualitative_columns)):
        col1 = qualitative_columns[i]
        col2 = qualitative_columns[j]
        
        # Effectuer le test et récupérer la p-value
        p_value = chi2_test(marketing, col1, col2)
        
        # Afficher uniquement si la p-value est inférieure à 0.05
        if p_value < 0.05:
            print(f"Test Chi-2 entre {col1} et {col2}: p-value = {p_value}")
            print(f"Il y a une relation significative entre {col1} et {col2}\n")





contingency_table = pd.crosstab(marketing['Marital_Status'], marketing['Age_Categorie'])

# Créer le mosaic plot avec Plotly
fig = px.imshow(contingency_table, text_auto=True, labels={'x':'Age categorie', 'y': 'Marital Status'})
fig.update_layout(title="Mosaic Plot entre Categorie d'age et Marital Status")
fig.show()

# Effectuer le test du Khi-Deux
chi2_stat, p_value, dof, expected = stats.chi2_contingency(contingency_table)

# Afficher les résultats du test
print(f"Khi-deux Statistique: {chi2_stat}")
print(f"P-value: {p_value}")
print(f"Degrés de liberté: {dof}")
print(f"Fréquences attendues: \n{expected}")








sns.boxplot(x='Marital_Status', y='Income', data=marketing)








sns.violinplot(x='Marital_Status', y='Income', data=marketing)


sns.violinplot(x='Age_Categorie', y='Income', data=marketing)








marketing.groupby('Age_Categorie')['Income'].mean()





marketing.dtypes





from sklearn.preprocessing import StandardScaler

# Sélectionner les colonnes à utiliser
X = marketing[['Income', 'Age', 'Anciennete_mois', 'Depense_Total']]

# Standardisation car les données n'ont pas du tout le même ordre de grandeur (Income très grand)
scaler = StandardScaler()
X_scaled = scaler.fit_transform(X)


from sklearn.decomposition import PCA
from sklearn.cluster import KMeans
from sklearn.preprocessing import StandardScaler

# PCA est une classe de la bibliothèque scikit-learn qui permet d'effectuer des ACP.

pca = PCA()

# Ici, on fait fit_transform : fit calcule les composantes principales et les valeurs propres de notre ACP
# transform applique la transformation, càd projete nos données dans cet espace de dimension réduite.

marketing_pca = pca.fit_transform(X_scaled)

# On print le % de variance qu'explique chaque axe (valeur propre de chaque axe)

print(pca.explained_variance_ratio_)

# On trace le graphique des variances cumulées, avec un trait à 80 % de variance expliquée

plt.scatter(np.arange(4),np.cumsum(pca.explained_variance_ratio_))
plt.plot(np.arange(4),np.cumsum(pca.explained_variance_ratio_), color='blue', linestyle='-', marker='o')
plt.axhline(y=0.8, color='red', linestyle='--')
plt.show()





# Même méthode qu'avant, mais ici on met directement qu'on veut s'arrêter à 2 dim

pca = PCA(2)
marketing_pca = pca.fit_transform(X_scaled)
print(pca.explained_variance_ratio_)


# on peut visualiser les deux premières dimensions

plt.figure(figsize=(8, 6))
plt.scatter(marketing_pca[:, 0], marketing_pca[:, 1], c='blue',alpha=0.5)
plt.title('PCA')
plt.xlabel('Composante principale 1')
plt.ylabel('Composante principale 2')
plt.show()


coord1 = pca.components_[0] * np.sqrt(pca.explained_variance_[0])
coord2 = pca.components_[1] * np.sqrt(pca.explained_variance_[1])

fig = plt.figure(figsize=(5, 5))
ax = fig.add_subplot(1, 1, 1)
for i, j, nom in zip(coord1, coord2, X.columns):
    plt.text(i, j, nom, fontsize=10)
    plt.arrow(0, 0, i, j, color = 'purple', alpha=0.7, width = 0.01)

plt.axis((-1, 1, -1, 1))
plt.gcf().gca().add_artist(plt.Circle((0, 0), radius = 1, color = 'cornflowerblue', fill = False))

plt.title('Variables factor map - PCA')
plt.xlabel('Principal Component 1')
plt.ylabel('Principal Component 2')

plt.grid(True)
plt.show()





plt.figure(figsize=(8, 6))
plt.scatter(marketing_pca[:, 0], marketing_pca[:, 1], c=marketing['MntWines'], cmap='viridis', alpha=0.7)
plt.colorbar(label='Dépenses en vin')
plt.title('ACP - Coloration par Dépenses en vin')
plt.xlabel('Composante principale 1 (Income / Dépenses Totales)')
plt.ylabel('Composante principale 2 (Ancienneté)')
plt.show()









# Discrétisation en 2 groupes égaux
marketing['Wines_Cat'] = pd.qcut(marketing['MntWines'], q=2, labels=['Faible', 'Élevé'])

sns.scatterplot(x=marketing_pca[:, 0], y=marketing_pca[:, 1], hue=marketing['Wines_Cat'], palette='bright', alpha=0.7)
plt.title('ACP - Dépenses en vin (2 classes)')
plt.xlabel('Composante principale 1 (Income / Dépenses Totales)')
plt.ylabel('Composante principale 2 (Ancienneté)')
plt.legend(title='Dépenses en vin')
plt.show()








# Discrétisation en 2 groupes égaux
marketing['S_Cat'] = pd.qcut(marketing['MntSweetProducts'], q=2, labels=['Faible', 'Élevé'])

sns.scatterplot(x=marketing_pca[:, 0], y=marketing_pca[:, 1], hue=marketing['S_Cat'], palette='bright', alpha = 0.7)
plt.title('ACP - Dépenses en bonbons (2 classes)')
plt.xlabel('Composante principale 1 (Income / Dépenses Totales)')
plt.ylabel('Composante principale 2 (Ancienneté)')
plt.legend(title='Dépenses en bonbons')
plt.show()








from sklearn.mixture import GaussianMixture
from sklearn.metrics import silhouette_score 


# On utilise la classe GaussianMixture de scikit-learn

K = 2

gmm = GaussianMixture(n_components=K, n_init=10, random_state=42)
clusters_gmm = gmm.fit_predict(marketing_pca)


# On va visulaliser les résultats

colors_gmm = ['blue', 'magenta', 'black', 'pink']

plt.scatter(marketing_pca[:, 0], marketing_pca[:, 1], c=[colors_gmm[i-1] for i in clusters_gmm])
plt.title('Scatter Plot - GMM')
plt.xlabel('Composante principale 1')
plt.ylabel('Composante principale 2')
plt.show()



from sklearn.cluster import AgglomerativeClustering
import scipy.cluster.hierarchy as sch

# On trace le dendogramme 

K = 2

ac = AgglomerativeClustering(n_clusters=K, compute_distances=True, linkage='ward')
clusters_h = ac.fit_predict(marketing_pca)

children = ac.children_
distances = ac.distances_
n_observations = np.arange(2, children.shape[0]+2)
linkage_matrix = np.c_[children, distances, n_observations]

# Cutting the dendrogram to get K classes
max_d = .5*(ac.distances_[-K]+ac.distances_[-K+1])
plt.axhline(y=max_d, c='k')

sch.dendrogram(linkage_matrix, color_threshold=max_d, labels=ac.labels_)

plt.title("Dendrogram with Ward linkage")
plt.show()


# On visualise les individus classés dans l'espace de l'acp

colors = ['red', 'green', 'orange']

plt.scatter(marketing_pca[:, 0], marketing_pca[:, 1], c=[colors[i-1] for i in clusters_h])
plt.title('Scatter Plot - Clustering Hiérarchique')
plt.xlabel('Composante principale 1')
plt.ylabel('Composante principale 2')
plt.show()



# On essaye la méthode du coude pour obtenir le nombre de clusters optimaux

wcss = []

# On teste pour différents nombres de clusters k

for k in range(1, 10):
    kmeans = KMeans(n_clusters=k, random_state=42)
    kmeans.fit(marketing_pca)
    wcss.append(kmeans.inertia_)

# On trace le graphique du coude

plt.plot(range(1, 10), wcss)
plt.title("Méthode du coude")
plt.xlabel("Nombre de clusters (k)")
plt.ylabel("WCSS (inertie intra-cluster)")
plt.show()


# On applique le K-Means sur nos données projetées dans l'espace de l'ACP (de dimension 6)

kmeans = KMeans(n_clusters=2, random_state=42)  # Choisir le nombre de clusters (ici 3)
clusters_k = kmeans.fit_predict(marketing_pca)  # Effectuer le clustering

plt.scatter(marketing_pca[:, 0], marketing_pca[:, 1], c=clusters_k, cmap='viridis')
plt.title("Clustering K-Means sur les Composantes Principales 1 et 2")
plt.xlabel("Composante principale 1")
plt.ylabel("Composante principale 2")
plt.show()


fig, axs = plt.subplots(1, 3, figsize=(15, 5))  # 1 ligne, 3 colonnes

axs[0].scatter(marketing_pca[:, 0], marketing_pca[:, 1], c=clusters_k, cmap='viridis')
axs[0].set_title("K-means - x = Dim 1, y = Dim2")

axs[1].scatter(marketing_pca[:, 0], marketing_pca[:, 1], c=[colors[i-1] for i in clusters_h])
axs[1].set_title("HAC - x = Dim1 , y = Dim2")

axs[2].scatter(marketing_pca[:, 0], marketing_pca[:, 1], c=[colors_gmm[i-1] for i in clusters_gmm])
axs[2].set_title("GMM - x = Dim1 , y = Dim2")

plt.tight_layout()
plt.show()





# On utilise la classe GaussianMixture de scikit-learn

K = 4

gmm = GaussianMixture(n_components=K, n_init=10, random_state=42)
clusters_gmm = gmm.fit_predict(marketing_pca)


# On va visulaliser les résultats

colors_gmm = ['blue', 'magenta', 'black', 'pink']

plt.scatter(marketing_pca[:, 0], marketing_pca[:, 1], c=[colors_gmm[i-1] for i in clusters_gmm], alpha = 0.4)
plt.title('Scatter Plot - GMM')
plt.xlabel('Composante principale 1')
plt.ylabel('Composante principale 2')
plt.show()






marketing.dtypes





from sklearn.preprocessing import StandardScaler

# Sélectionner les colonnes à utiliser
Y = marketing[['MntWines', 'MntMeatProducts', 'MntFishProducts', 'MntFruits', 'MntSweetProducts', 'MntGoldProds']]

# Standardisation car les données n'ont pas du tout le même ordre de grandeur (Income très grand)
scaler = StandardScaler()
Y_scaled = scaler.fit_transform(Y)


from sklearn.decomposition import PCA
from sklearn.cluster import KMeans
from sklearn.preprocessing import StandardScaler

# PCA est une classe de la bibliothèque scikit-learn qui permet d'effectuer des ACP.

pca = PCA()

# Ici, on fait fit_transform : fit calcule les composantes principales et les valeurs propres de notre ACP
# transform applique la transformation, càd projete nos données dans cet espace de dimension réduite.

marketing_pca1 = pca.fit_transform(Y_scaled)

# On print le % de variance qu'explique chaque axe (valeur propre de chaque axe)

print(pca.explained_variance_ratio_)

# On trace le graphique des variances cumulées, avec un trait à 80 % de variance expliquée

plt.scatter(np.arange(6),np.cumsum(pca.explained_variance_ratio_))
plt.plot(np.arange(6),np.cumsum(pca.explained_variance_ratio_), color='blue', linestyle='-', marker='o')
plt.axhline(y=0.8, color='red', linestyle='--')
plt.show()


# Même méthode qu'avant, mais ici on met directement qu'on veut s'arrêter à 2 dim

pca = PCA(2)
marketing_pca1 = pca.fit_transform(Y_scaled)
print(pca.explained_variance_ratio_)


# on peut visualiser les deux premières dimensions

plt.figure(figsize=(8, 6))
plt.scatter(marketing_pca1[:, 0], marketing_pca1[:, 1], c='blue',alpha=0.5)
plt.title('PCA')
plt.xlabel('Composante principale 1')
plt.ylabel('Composante principale 2')
plt.show()


# Discrétisation en 4 groupes égaux (q=4 et non 3 car 4 labels)
marketing['Cat'] = pd.qcut(marketing['Income'], q=3, labels=['Faible', 'Moyen', 'Élevé'])

# Plot avec palette catégorielle claire
sns.scatterplot(x=marketing_pca1[:, 0], y=marketing_pca1[:, 1], hue=marketing['Cat'], palette='Set1')
plt.title('ACP - Catégories de revenu (4 classes)')
plt.xlabel('Composante principale 1')
plt.ylabel('Composante principale 2')
plt.legend(title='Income')
plt.show()



# On utilise la classe GaussianMixture de scikit-learn

K = 3

gmm = GaussianMixture(n_components=K, n_init=10, random_state=42)
clusters_gmm = gmm.fit_predict(marketing_pca1)

# On va visulaliser les résultats

colors_gmm = ['blue', 'magenta', 'black', 'pink']

plt.scatter(marketing_pca1[:, 0], marketing_pca1[:, 1], c=[colors_gmm[i-1] for i in clusters_gmm])
plt.title('Scatter Plot - GMM')
plt.xlabel('Composante principale 1')
plt.ylabel('Composante principale 2')
plt.show()



