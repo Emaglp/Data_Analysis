import pandas as pd
import numpy as np
import prince

import matplotlib.pyplot as plt
import seaborn as sns





marketing = pd.read_csv("marketing_campaign.csv", encoding="utf-8", sep= "\t")


#On affiche les premières lignes pour se familiariser avec le jeu de données et identifier les données quali/quanti ...
marketing.head()


marketing.shape


#Affichage des colonnes: 
marketing.columns


#On remarque que les colonnes 'Z_CostContact' et 'Z_Revenue' contiennent les mêmes valeurs pour tous les individus et on 
#conclut que ces données nous ne seront pas utiles pour l'analyse que l'on veut effectuer dans le cadre de ce projet. On les retire donc de 
#notre dataset
marketing.drop(['Z_CostContact','Z_Revenue'], axis=1, inplace=True)


#On vérifie: 216
marketing.shape


#Obtenir des infos sur les types de données et valeurs manquantes
marketing.info()





print('Income - Nombre de valeurs manquantes:', marketing['Income'].isnull().sum())
#On ajoute la médiane pour les valeurs manquantes et non pas la moyenne car la médiane correspond à la valeur centrale de notre jeu de données
#On évite ainsi tout risque de fortes influences sur la moyenne par des valeurs extrêmes (outliers)
print('Income - Valeur médiane: ', marketing['Income'].median())
marketing.fillna({'Income': marketing['Income'].median()}, inplace=True)


marketing.info()


marketing.describe()



