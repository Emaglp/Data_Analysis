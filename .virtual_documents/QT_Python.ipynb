import pandas as pd


marketing = pd.read_csv("marketing_campaign.csv", encoding="utf-8", sep= "\t")


marketing.head()



