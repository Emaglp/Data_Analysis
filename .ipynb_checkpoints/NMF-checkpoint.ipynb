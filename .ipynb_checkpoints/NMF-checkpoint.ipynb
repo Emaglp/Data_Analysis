{
 "cells": [
  {
   "cell_type": "code",
   "execution_count": 31,
   "id": "52341584-6deb-406d-bf83-fe45f6e181e8",
   "metadata": {},
   "outputs": [],
   "source": [
    "import pandas as pd\n",
    "import numpy as np\n",
    "import prince\n",
    "\n",
    "import matplotlib.pyplot as plt\n",
    "import seaborn as sns\n",
    "\n",
    "from sklearn.preprocessing import MinMaxScaler\n",
    "from sklearn.cluster import KMeans"
   ]
  },
  {
   "cell_type": "code",
   "execution_count": 2,
   "id": "4812f632-4f22-4b3e-a9ae-023f9d8b07e8",
   "metadata": {},
   "outputs": [],
   "source": [
    "marketing = pd.read_csv(\"marketing_campaign.csv\", encoding=\"utf-8\", sep= \"\\t\")"
   ]
  },
  {
   "cell_type": "markdown",
   "id": "f0e8c44e-1b1c-47e7-b93f-73182bea324a",
   "metadata": {},
   "source": [
    "## Pré traitement des données"
   ]
  },
  {
   "cell_type": "code",
   "execution_count": 3,
   "id": "0397a62e-6f19-4950-b750-390e21303ad5",
   "metadata": {},
   "outputs": [],
   "source": [
    "marketing.drop(['Z_CostContact','Z_Revenue'], axis=1, inplace=True)"
   ]
  },
  {
   "cell_type": "code",
   "execution_count": 4,
   "id": "8932fdc7-bfa6-41ad-8385-89be6011cbc7",
   "metadata": {},
   "outputs": [],
   "source": [
    "marketing.fillna({'Income': marketing['Income'].median()}, inplace=True)"
   ]
  },
  {
   "cell_type": "code",
   "execution_count": 5,
   "id": "a67ddcc6-f9e4-4dda-827b-79eb44d69980",
   "metadata": {},
   "outputs": [],
   "source": [
    "marketing['Education'] = marketing['Education'].astype('category')\n",
    "marketing['Marital_Status'] = marketing['Marital_Status'].astype('category')\n",
    "marketing['Kidhome'] = marketing['Kidhome'].astype('category')\n",
    "marketing['Teenhome'] = marketing['Teenhome'].astype('category')\n",
    "marketing['Dt_Customer'] = pd.to_datetime(marketing['Dt_Customer'], format='%d-%m-%Y')"
   ]
  },
  {
   "cell_type": "code",
   "execution_count": 6,
   "id": "0e90ed07-100e-4370-8ea9-e1a745a0d8a0",
   "metadata": {},
   "outputs": [],
   "source": [
    "marketing['AcceptedCmp1'] = marketing['AcceptedCmp1'].astype('category')\n",
    "marketing['AcceptedCmp1'] = marketing['AcceptedCmp1'].cat.rename_categories({0: 'No', 1:'Yes'})\n",
    "marketing['AcceptedCmp2'] = marketing['AcceptedCmp2'].astype('category')\n",
    "marketing['AcceptedCmp2'] = marketing['AcceptedCmp2'].cat.rename_categories({0: 'No', 1:'Yes'})\n",
    "marketing['AcceptedCmp3'] = marketing['AcceptedCmp3'].astype('category')\n",
    "marketing['AcceptedCmp3'] = marketing['AcceptedCmp3'].cat.rename_categories({0: 'No', 1:'Yes'})\n",
    "marketing['AcceptedCmp4'] = marketing['AcceptedCmp4'].astype('category')\n",
    "marketing['AcceptedCmp4'] = marketing['AcceptedCmp4'].cat.rename_categories({0: 'No', 1:'Yes'})\n",
    "marketing['AcceptedCmp5'] = marketing['AcceptedCmp5'].astype('category')\n",
    "marketing['AcceptedCmp5'] = marketing['AcceptedCmp5'].cat.rename_categories({0: 'No', 1:'Yes'})\n",
    "marketing['Complain'] = marketing['Complain'].astype('category')\n",
    "marketing['Complain'] = marketing['Complain'].cat.rename_categories({0: 'No', 1:'Yes'})\n",
    "marketing['Response'] = marketing['Response'].astype('category')\n",
    "marketing['Response'] = marketing['Response'].cat.rename_categories({0: 'No', 1:'Yes'})"
   ]
  },
  {
   "cell_type": "code",
   "execution_count": 7,
   "id": "0a407d74-6317-44c3-8e41-1cc31b3a07a9",
   "metadata": {},
   "outputs": [],
   "source": [
    "marketing = marketing.drop(marketing[marketing['ID'] == 9432].index)"
   ]
  },
  {
   "cell_type": "code",
   "execution_count": 8,
   "id": "8102b5a7-5dad-47f5-8bb2-6eaf789ad9c9",
   "metadata": {},
   "outputs": [],
   "source": [
    "vieux = marketing.loc[marketing['Year_Birth'] < 1920, 'ID']\n",
    "for i in vieux: \n",
    "    marketing = marketing.drop(marketing[marketing['ID'] == i].index)"
   ]
  },
  {
   "cell_type": "code",
   "execution_count": 9,
   "id": "bbe2db2d-5139-4f0a-8415-ce0c7a696c9a",
   "metadata": {},
   "outputs": [],
   "source": [
    "marketing[\"Age_Categorie\"] = pd.cut(\n",
    "    2015 - marketing[\"Year_Birth\"],\n",
    "    bins=[18, 30, 45, 60, float('inf')],\n",
    "    labels=[\"Age_18-30\", \"Age_30-45\", \"Age_45-60\", \"Age_>60\"],\n",
    "    right=True\n",
    ")"
   ]
  },
  {
   "cell_type": "code",
   "execution_count": 10,
   "id": "f8327477-c677-4b5e-bae5-80590c714e91",
   "metadata": {},
   "outputs": [],
   "source": [
    "viandards = marketing.loc[marketing['MntMeatProducts'] > 1500, 'ID']\n",
    "for i in viandards: \n",
    "    marketing = marketing.drop(marketing[marketing['ID'] == i].index)"
   ]
  },
  {
   "cell_type": "code",
   "execution_count": 11,
   "id": "261f7f97-0f90-49ef-aed0-ef1da153894e",
   "metadata": {},
   "outputs": [],
   "source": [
    "gourmands = marketing.loc[marketing['MntSweetProducts'] > 225, 'ID']\n",
    "for i in gourmands: \n",
    "    marketing = marketing.drop(marketing[marketing['ID'] == i].index)"
   ]
  },
  {
   "cell_type": "code",
   "execution_count": 12,
   "id": "2a33385c-6b1e-446f-bea2-60d5aa75d4c2",
   "metadata": {},
   "outputs": [],
   "source": [
    "marketing['Depense_Total']= marketing[['MntWines', 'MntFruits', 'MntMeatProducts', 'MntFishProducts', 'MntSweetProducts', 'MntGoldProds']].sum(axis=1)\n",
    "marketing['Total_Achat'] = marketing[['NumWebPurchases', 'NumCatalogPurchases', 'NumStorePurchases']].sum(axis=1)"
   ]
  },
  {
   "cell_type": "code",
   "execution_count": 13,
   "id": "e6d07e44-ad5f-4025-b3db-1c9c9ac7604c",
   "metadata": {},
   "outputs": [],
   "source": [
    "date_reference = pd.to_datetime('2015-01-01')\n",
    "\n",
    "marketing['Anciennete_jours'] = (date_reference - marketing['Dt_Customer']).dt.days\n",
    "\n",
    "marketing['Anciennete_mois'] = (marketing['Anciennete_jours'] / 30.44).round(1)"
   ]
  },
  {
   "cell_type": "code",
   "execution_count": 14,
   "id": "3556d43d-12c4-4083-beab-74e72e66bbd5",
   "metadata": {},
   "outputs": [
    {
     "name": "stderr",
     "output_type": "stream",
     "text": [
      "/tmp/ipykernel_1823/2065117912.py:1: FutureWarning: The behavior of Series.replace (and DataFrame.replace) with CategoricalDtype is deprecated. In a future version, replace will only be used for cases that preserve the categories. To change the categories, use ser.cat.rename_categories instead.\n",
      "  marketing['Marital_Status'] = marketing['Marital_Status'].replace({\n"
     ]
    }
   ],
   "source": [
    "marketing['Marital_Status'] = marketing['Marital_Status'].replace({\n",
    "    'YOLO': None,\n",
    "    'Absurd': None,\n",
    "    'Married': 'Couple',\n",
    "    'Together': 'Couple',\n",
    "    'Single': 'Seul',\n",
    "    'Alone': 'Seul',\n",
    "    'Widow': 'Seul',\n",
    "    'Divorced': 'Divorcé'\n",
    "})"
   ]
  },
  {
   "cell_type": "code",
   "execution_count": 16,
   "id": "a5af3053-17ec-4192-b55b-13b2adaa372c",
   "metadata": {},
   "outputs": [],
   "source": [
    "marketing['Total_Enfants'] = marketing['Kidhome'].astype(int) + marketing['Teenhome'].astype(int)\n",
    "marketing['Total_Enfants'] = marketing['Total_Enfants'].astype('category')\n",
    "marketing.drop(['Kidhome', 'Teenhome'], axis=1, inplace=True)"
   ]
  },
  {
   "cell_type": "code",
   "execution_count": 18,
   "id": "7b8f7a20-5a56-42b1-b238-e06a7a9855e9",
   "metadata": {},
   "outputs": [
    {
     "name": "stderr",
     "output_type": "stream",
     "text": [
      "/tmp/ipykernel_1823/501913221.py:1: FutureWarning: The behavior of Series.replace (and DataFrame.replace) with CategoricalDtype is deprecated. In a future version, replace will only be used for cases that preserve the categories. To change the categories, use ser.cat.rename_categories instead.\n",
      "  marketing['Niveau_Etude'] = marketing['Education'].replace({\n"
     ]
    }
   ],
   "source": [
    "marketing['Niveau_Etude'] = marketing['Education'].replace({\n",
    "    'Graduation': 'Moyen',\n",
    "    'PhD': 'Eleve',\n",
    "    'Master': 'Eleve',\n",
    "    '2n Cycle': 'Faible',\n",
    "    'Basic': 'Moyen',\n",
    "})\n",
    "marketing.drop(['Education'], axis=1, inplace=True)"
   ]
  },
  {
   "cell_type": "code",
   "execution_count": 19,
   "id": "4238800d-6fa2-480c-b470-e0cd11cb6ddc",
   "metadata": {},
   "outputs": [],
   "source": [
    "marketing['Nbr_Cmp'] = marketing[['AcceptedCmp1', 'AcceptedCmp2', 'AcceptedCmp3', 'AcceptedCmp4', 'AcceptedCmp5', 'Response']].apply(lambda x: x.cat.codes).sum(axis=1)"
   ]
  },
  {
   "cell_type": "code",
   "execution_count": 20,
   "id": "ffe8efd0-beab-4d52-81f1-77bd71af73f0",
   "metadata": {},
   "outputs": [
    {
     "data": {
      "text/html": [
       "<div>\n",
       "<style scoped>\n",
       "    .dataframe tbody tr th:only-of-type {\n",
       "        vertical-align: middle;\n",
       "    }\n",
       "\n",
       "    .dataframe tbody tr th {\n",
       "        vertical-align: top;\n",
       "    }\n",
       "\n",
       "    .dataframe thead th {\n",
       "        text-align: right;\n",
       "    }\n",
       "</style>\n",
       "<table border=\"1\" class=\"dataframe\">\n",
       "  <thead>\n",
       "    <tr style=\"text-align: right;\">\n",
       "      <th></th>\n",
       "      <th>ID</th>\n",
       "      <th>Year_Birth</th>\n",
       "      <th>Marital_Status</th>\n",
       "      <th>Income</th>\n",
       "      <th>Dt_Customer</th>\n",
       "      <th>Recency</th>\n",
       "      <th>MntWines</th>\n",
       "      <th>MntFruits</th>\n",
       "      <th>MntMeatProducts</th>\n",
       "      <th>MntFishProducts</th>\n",
       "      <th>...</th>\n",
       "      <th>Complain</th>\n",
       "      <th>Response</th>\n",
       "      <th>Age_Categorie</th>\n",
       "      <th>Depense_Total</th>\n",
       "      <th>Total_Achat</th>\n",
       "      <th>Anciennete_jours</th>\n",
       "      <th>Anciennete_mois</th>\n",
       "      <th>Total_Enfants</th>\n",
       "      <th>Niveau_Etude</th>\n",
       "      <th>Nbr_Cmp</th>\n",
       "    </tr>\n",
       "  </thead>\n",
       "  <tbody>\n",
       "    <tr>\n",
       "      <th>0</th>\n",
       "      <td>5524</td>\n",
       "      <td>1957</td>\n",
       "      <td>Seul</td>\n",
       "      <td>58138.0</td>\n",
       "      <td>2012-09-04</td>\n",
       "      <td>58</td>\n",
       "      <td>635</td>\n",
       "      <td>88</td>\n",
       "      <td>546</td>\n",
       "      <td>172</td>\n",
       "      <td>...</td>\n",
       "      <td>No</td>\n",
       "      <td>Yes</td>\n",
       "      <td>Age_45-60</td>\n",
       "      <td>1617</td>\n",
       "      <td>22</td>\n",
       "      <td>849</td>\n",
       "      <td>27.9</td>\n",
       "      <td>0</td>\n",
       "      <td>Moyen</td>\n",
       "      <td>1</td>\n",
       "    </tr>\n",
       "    <tr>\n",
       "      <th>1</th>\n",
       "      <td>2174</td>\n",
       "      <td>1954</td>\n",
       "      <td>Seul</td>\n",
       "      <td>46344.0</td>\n",
       "      <td>2014-03-08</td>\n",
       "      <td>38</td>\n",
       "      <td>11</td>\n",
       "      <td>1</td>\n",
       "      <td>6</td>\n",
       "      <td>2</td>\n",
       "      <td>...</td>\n",
       "      <td>No</td>\n",
       "      <td>No</td>\n",
       "      <td>Age_&gt;60</td>\n",
       "      <td>27</td>\n",
       "      <td>4</td>\n",
       "      <td>299</td>\n",
       "      <td>9.8</td>\n",
       "      <td>2</td>\n",
       "      <td>Moyen</td>\n",
       "      <td>0</td>\n",
       "    </tr>\n",
       "    <tr>\n",
       "      <th>2</th>\n",
       "      <td>4141</td>\n",
       "      <td>1965</td>\n",
       "      <td>Couple</td>\n",
       "      <td>71613.0</td>\n",
       "      <td>2013-08-21</td>\n",
       "      <td>26</td>\n",
       "      <td>426</td>\n",
       "      <td>49</td>\n",
       "      <td>127</td>\n",
       "      <td>111</td>\n",
       "      <td>...</td>\n",
       "      <td>No</td>\n",
       "      <td>No</td>\n",
       "      <td>Age_45-60</td>\n",
       "      <td>776</td>\n",
       "      <td>20</td>\n",
       "      <td>498</td>\n",
       "      <td>16.4</td>\n",
       "      <td>0</td>\n",
       "      <td>Moyen</td>\n",
       "      <td>0</td>\n",
       "    </tr>\n",
       "    <tr>\n",
       "      <th>3</th>\n",
       "      <td>6182</td>\n",
       "      <td>1984</td>\n",
       "      <td>Couple</td>\n",
       "      <td>26646.0</td>\n",
       "      <td>2014-02-10</td>\n",
       "      <td>26</td>\n",
       "      <td>11</td>\n",
       "      <td>4</td>\n",
       "      <td>20</td>\n",
       "      <td>10</td>\n",
       "      <td>...</td>\n",
       "      <td>No</td>\n",
       "      <td>No</td>\n",
       "      <td>Age_30-45</td>\n",
       "      <td>53</td>\n",
       "      <td>6</td>\n",
       "      <td>325</td>\n",
       "      <td>10.7</td>\n",
       "      <td>1</td>\n",
       "      <td>Moyen</td>\n",
       "      <td>0</td>\n",
       "    </tr>\n",
       "    <tr>\n",
       "      <th>4</th>\n",
       "      <td>5324</td>\n",
       "      <td>1981</td>\n",
       "      <td>Couple</td>\n",
       "      <td>58293.0</td>\n",
       "      <td>2014-01-19</td>\n",
       "      <td>94</td>\n",
       "      <td>173</td>\n",
       "      <td>43</td>\n",
       "      <td>118</td>\n",
       "      <td>46</td>\n",
       "      <td>...</td>\n",
       "      <td>No</td>\n",
       "      <td>No</td>\n",
       "      <td>Age_30-45</td>\n",
       "      <td>422</td>\n",
       "      <td>14</td>\n",
       "      <td>347</td>\n",
       "      <td>11.4</td>\n",
       "      <td>1</td>\n",
       "      <td>Eleve</td>\n",
       "      <td>0</td>\n",
       "    </tr>\n",
       "  </tbody>\n",
       "</table>\n",
       "<p>5 rows × 32 columns</p>\n",
       "</div>"
      ],
      "text/plain": [
       "     ID  Year_Birth Marital_Status   Income Dt_Customer  Recency  MntWines  \\\n",
       "0  5524        1957           Seul  58138.0  2012-09-04       58       635   \n",
       "1  2174        1954           Seul  46344.0  2014-03-08       38        11   \n",
       "2  4141        1965         Couple  71613.0  2013-08-21       26       426   \n",
       "3  6182        1984         Couple  26646.0  2014-02-10       26        11   \n",
       "4  5324        1981         Couple  58293.0  2014-01-19       94       173   \n",
       "\n",
       "   MntFruits  MntMeatProducts  MntFishProducts  ...  Complain  Response  \\\n",
       "0         88              546              172  ...        No       Yes   \n",
       "1          1                6                2  ...        No        No   \n",
       "2         49              127              111  ...        No        No   \n",
       "3          4               20               10  ...        No        No   \n",
       "4         43              118               46  ...        No        No   \n",
       "\n",
       "   Age_Categorie  Depense_Total  Total_Achat  Anciennete_jours  \\\n",
       "0      Age_45-60           1617           22               849   \n",
       "1        Age_>60             27            4               299   \n",
       "2      Age_45-60            776           20               498   \n",
       "3      Age_30-45             53            6               325   \n",
       "4      Age_30-45            422           14               347   \n",
       "\n",
       "   Anciennete_mois Total_Enfants Niveau_Etude Nbr_Cmp  \n",
       "0             27.9             0        Moyen       1  \n",
       "1              9.8             2        Moyen       0  \n",
       "2             16.4             0        Moyen       0  \n",
       "3             10.7             1        Moyen       0  \n",
       "4             11.4             1        Eleve       0  \n",
       "\n",
       "[5 rows x 32 columns]"
      ]
     },
     "execution_count": 20,
     "metadata": {},
     "output_type": "execute_result"
    }
   ],
   "source": [
    "marketing.head()"
   ]
  },
  {
   "cell_type": "code",
   "execution_count": 22,
   "id": "98a22273-68fe-4d21-9453-bf3f463694b0",
   "metadata": {},
   "outputs": [
    {
     "data": {
      "text/plain": [
       "Index(['ID', 'Year_Birth', 'Marital_Status', 'Income', 'Dt_Customer',\n",
       "       'Recency', 'MntWines', 'MntFruits', 'MntMeatProducts',\n",
       "       'MntFishProducts', 'MntSweetProducts', 'MntGoldProds',\n",
       "       'NumDealsPurchases', 'NumWebPurchases', 'NumCatalogPurchases',\n",
       "       'NumStorePurchases', 'NumWebVisitsMonth', 'AcceptedCmp3',\n",
       "       'AcceptedCmp4', 'AcceptedCmp5', 'AcceptedCmp1', 'AcceptedCmp2',\n",
       "       'Complain', 'Response', 'Age_Categorie', 'Depense_Total', 'Total_Achat',\n",
       "       'Anciennete_jours', 'Anciennete_mois', 'Total_Enfants', 'Niveau_Etude',\n",
       "       'Nbr_Cmp'],\n",
       "      dtype='object')"
      ]
     },
     "execution_count": 22,
     "metadata": {},
     "output_type": "execute_result"
    }
   ],
   "source": [
    "marketing.columns"
   ]
  },
  {
   "cell_type": "markdown",
   "id": "3e570a30-5c02-4f24-b339-2a23e4f9a0c6",
   "metadata": {},
   "source": [
    "## Application de la NMF"
   ]
  },
  {
   "cell_type": "code",
   "execution_count": 58,
   "id": "89a18ec8-da1b-4ddf-8024-9fac88174e2a",
   "metadata": {},
   "outputs": [],
   "source": [
    "# on garde que les variables quanti (et positives mais ici elles l'étaient dèjà toutes). On fait aussi un peu le tri pour\n",
    "# ne pas avoir de variables redondantes.\n",
    "\n",
    "features_nmf = [\n",
    "    'Income', 'Recency',\n",
    "    'NumDealsPurchases', 'NumWebPurchases', 'NumCatalogPurchases',\n",
    "    'NumStorePurchases', 'NumWebVisitsMonth', 'Depense_Total',\n",
    "    'Total_Achat', 'Anciennete_mois', 'Nbr_Cmp'\n",
    "]"
   ]
  },
  {
   "cell_type": "code",
   "execution_count": 59,
   "id": "20c668dd-6b81-48b7-9482-fcca063a763b",
   "metadata": {},
   "outputs": [],
   "source": [
    "# on normalise les données\n",
    "\n",
    "scaler = MinMaxScaler()\n",
    "X_scaled = scaler.fit_transform(marketing[features_nmf])"
   ]
  },
  {
   "cell_type": "code",
   "execution_count": 62,
   "id": "8362ec23-d2f4-4e13-85cf-c4642e0ae7da",
   "metadata": {},
   "outputs": [],
   "source": [
    "# on applique la NMF\n",
    "\n",
    "from sklearn.decomposition import NMF\n",
    "\n",
    "# on choisit arbitrairement un nombre de composants pour commencer\n",
    "\n",
    "nmf = NMF(n_components=3, random_state=0)\n",
    "W = nmf.fit_transform(X_scaled)  # Matrice des clients x composantes\n",
    "H = nmf.components_              # Matrice des composantes x variables"
   ]
  },
  {
   "cell_type": "code",
   "execution_count": 63,
   "id": "2e6276f4-77a7-4e47-8bfc-36a90c078af4",
   "metadata": {},
   "outputs": [
    {
     "data": {
      "text/html": [
       "<div>\n",
       "<style scoped>\n",
       "    .dataframe tbody tr th:only-of-type {\n",
       "        vertical-align: middle;\n",
       "    }\n",
       "\n",
       "    .dataframe tbody tr th {\n",
       "        vertical-align: top;\n",
       "    }\n",
       "\n",
       "    .dataframe thead th {\n",
       "        text-align: right;\n",
       "    }\n",
       "</style>\n",
       "<table border=\"1\" class=\"dataframe\">\n",
       "  <thead>\n",
       "    <tr style=\"text-align: right;\">\n",
       "      <th></th>\n",
       "      <th>0</th>\n",
       "      <th>1</th>\n",
       "      <th>2</th>\n",
       "    </tr>\n",
       "  </thead>\n",
       "  <tbody>\n",
       "    <tr>\n",
       "      <th>NumStorePurchases</th>\n",
       "      <td>4.869077</td>\n",
       "      <td>0.887985</td>\n",
       "      <td>0.745030</td>\n",
       "    </tr>\n",
       "    <tr>\n",
       "      <th>Total_Achat</th>\n",
       "      <td>4.679492</td>\n",
       "      <td>0.735298</td>\n",
       "      <td>0.477357</td>\n",
       "    </tr>\n",
       "    <tr>\n",
       "      <th>NumCatalogPurchases</th>\n",
       "      <td>4.242505</td>\n",
       "      <td>0.000000</td>\n",
       "      <td>0.000000</td>\n",
       "    </tr>\n",
       "    <tr>\n",
       "      <th>Depense_Total</th>\n",
       "      <td>4.222689</td>\n",
       "      <td>0.000000</td>\n",
       "      <td>0.000000</td>\n",
       "    </tr>\n",
       "    <tr>\n",
       "      <th>Income</th>\n",
       "      <td>2.956889</td>\n",
       "      <td>0.479029</td>\n",
       "      <td>0.829643</td>\n",
       "    </tr>\n",
       "    <tr>\n",
       "      <th>NumWebPurchases</th>\n",
       "      <td>1.551795</td>\n",
       "      <td>0.548070</td>\n",
       "      <td>0.197656</td>\n",
       "    </tr>\n",
       "    <tr>\n",
       "      <th>Nbr_Cmp</th>\n",
       "      <td>1.513401</td>\n",
       "      <td>0.028719</td>\n",
       "      <td>0.000000</td>\n",
       "    </tr>\n",
       "    <tr>\n",
       "      <th>Anciennete_mois</th>\n",
       "      <td>1.098418</td>\n",
       "      <td>4.625136</td>\n",
       "      <td>0.000000</td>\n",
       "    </tr>\n",
       "    <tr>\n",
       "      <th>Recency</th>\n",
       "      <td>0.545892</td>\n",
       "      <td>0.000000</td>\n",
       "      <td>5.189003</td>\n",
       "    </tr>\n",
       "    <tr>\n",
       "      <th>NumDealsPurchases</th>\n",
       "      <td>0.322453</td>\n",
       "      <td>1.029279</td>\n",
       "      <td>0.333765</td>\n",
       "    </tr>\n",
       "    <tr>\n",
       "      <th>NumWebVisitsMonth</th>\n",
       "      <td>0.000000</td>\n",
       "      <td>1.756884</td>\n",
       "      <td>0.840559</td>\n",
       "    </tr>\n",
       "  </tbody>\n",
       "</table>\n",
       "</div>"
      ],
      "text/plain": [
       "                            0         1         2\n",
       "NumStorePurchases    4.869077  0.887985  0.745030\n",
       "Total_Achat          4.679492  0.735298  0.477357\n",
       "NumCatalogPurchases  4.242505  0.000000  0.000000\n",
       "Depense_Total        4.222689  0.000000  0.000000\n",
       "Income               2.956889  0.479029  0.829643\n",
       "NumWebPurchases      1.551795  0.548070  0.197656\n",
       "Nbr_Cmp              1.513401  0.028719  0.000000\n",
       "Anciennete_mois      1.098418  4.625136  0.000000\n",
       "Recency              0.545892  0.000000  5.189003\n",
       "NumDealsPurchases    0.322453  1.029279  0.333765\n",
       "NumWebVisitsMonth    0.000000  1.756884  0.840559"
      ]
     },
     "execution_count": 63,
     "metadata": {},
     "output_type": "execute_result"
    }
   ],
   "source": [
    "components = pd.DataFrame(H, columns=features_nmf)\n",
    "components.T.sort_values(by=0, ascending=False)"
   ]
  },
  {
   "cell_type": "code",
   "execution_count": 64,
   "id": "b1f471e7-773a-4e22-9b77-fa4f63d2ec86",
   "metadata": {},
   "outputs": [],
   "source": [
    "# On a ici une représentation des composantes latentes de la NMF. On a réduit nos données en 4 composantes latentes.\n",
    "# On voit que le poids des achats et dépenses en tout genre est le plus fort dans la composante 0, avec la salaire en plus.\n",
    "# On peut assimiler cette composante latente au pouvoir d'achat.\n",
    "# La 1 est surtout influencée par l'ancienneté.\n",
    "# La 2 par le nombre de jours depuis le dernier achat"
   ]
  },
  {
   "cell_type": "code",
   "execution_count": 65,
   "id": "ec4a133a-ed12-424e-ae14-a9f3b5ceb872",
   "metadata": {},
   "outputs": [],
   "source": [
    "# on peut faire un sorte de clustering sans vraiment en faire un. On va ajouter une variable à chaque client qui est sa\n",
    "# composante dominante dans la NMF. Ainsi, on peut dresser des profils.\n",
    "\n",
    "marketing['Profil_NMF'] = np.argmax(W, axis=1)"
   ]
  },
  {
   "cell_type": "code",
   "execution_count": 66,
   "id": "0f14dd1c-98c6-4180-90ba-129a37b41020",
   "metadata": {},
   "outputs": [
    {
     "data": {
      "image/png": "[encoded data removed]",
      "text/plain": [
       "<Figure size 800x500 with 1 Axes>"
      ]
     },
     "metadata": {},
     "output_type": "display_data"
    }
   ],
   "source": [
    "# on peut aussi effectuer un clustering sur la matrice W de la NMF. \n",
    "\n",
    "# on commence par une méthode du coude\n",
    "\n",
    "inertias = []\n",
    "K_range = range(1, 11)\n",
    "\n",
    "for k in K_range:\n",
    "    kmeans = KMeans(n_clusters=k, random_state=0)\n",
    "    kmeans.fit(W)\n",
    "    inertias.append(kmeans.inertia_)\n",
    "\n",
    "plt.figure(figsize=(8,5))\n",
    "plt.plot(K_range, inertias, marker='o')\n",
    "plt.title(\"Méthode du coude pour KMeans (sur la matrice NMF)\")\n",
    "plt.xlabel(\"Nombre de clusters (k)\")\n",
    "plt.ylabel(\"Inertie intra-cluster\")\n",
    "plt.xticks(K_range)\n",
    "plt.grid(True)\n",
    "plt.show()"
   ]
  },
  {
   "cell_type": "code",
   "execution_count": 67,
   "id": "e5db6547-b81d-4e4f-a627-9db8411ca8c1",
   "metadata": {},
   "outputs": [
    {
     "name": "stdout",
     "output_type": "stream",
     "text": [
      "                   Income    Recency  NumDealsPurchases  NumWebPurchases  \\\n",
      "Cluster_NMF                                                                \n",
      "0            44581.484453  75.837065           2.384328         3.440299   \n",
      "1            65243.943135  38.816921           1.654646         4.624133   \n",
      "2            46289.080256  29.274148           2.906250         4.241477   \n",
      "\n",
      "             NumCatalogPurchases  NumStorePurchases  NumWebVisitsMonth  \\\n",
      "Cluster_NMF                                                              \n",
      "0                       1.553483           4.715174           5.907960   \n",
      "1                       4.381415           7.368932           3.601942   \n",
      "2                       2.046875           5.473011           6.451705   \n",
      "\n",
      "             Depense_Total  Total_Achat  Anciennete_mois   Nbr_Cmp  \n",
      "Cluster_NMF                                                         \n",
      "0               361.776119     9.708955        17.380597  0.187811  \n",
      "1               950.231623    16.374480        12.913870  0.761442  \n",
      "2               525.032670    11.761364        23.044744  0.424716  \n"
     ]
    }
   ],
   "source": [
    "# on peut effectuer le k means dans notre matrice W des clients\n",
    "\n",
    "kmeans = KMeans(n_clusters=3, random_state=0)\n",
    "marketing['Cluster_NMF'] = kmeans.fit_predict(W)\n",
    "\n",
    "# et on peut calculer la moyenne dans chaque cluster\n",
    "\n",
    "marketing['Cluster_NMF'] = kmeans.labels_\n",
    "\n",
    "cluster_profiles = marketing.groupby('Cluster_NMF')[features_nmf].mean()\n",
    "\n",
    "print(cluster_profiles)"
   ]
  },
  {
   "cell_type": "code",
   "execution_count": 69,
   "id": "ddf0df92-75aa-4628-8705-8739217c67c4",
   "metadata": {},
   "outputs": [],
   "source": [
    "# On voit que le cluster 0 est composé de gens ayant les revenus les plus bas, ayant ahceté le moins, qui ont visité le site\n",
    "# il y a le plus longtemps.\n",
    "# Le 1 sont les plus riches, qui achètent le plus, qui profitent moins des promotions, qui achètent beaucoup sur catalogue et en magasin,\n",
    "# et qui visitent peu le site web, et qui sont les moins anciens.\n",
    "# Le 3 sont ceux qui dépensent dans la moyenne, sans avoir forcément énormément plus de revenus que le cluster 0. Ils sont venus récemment \n",
    "# sur le site, et le visitent fréquemment. Surtout ce sont les plus anciens.\n",
    "\n",
    "# On pourrait donc voir ces 3 clusters de la forme suivante :\n",
    "\n",
    "# 1 - Moins fortunés, visites rares, et peu d'achats. -> Les frileux\n",
    "# 2 - Plus fortunés, préference pour les achats en vrai, nouveaux clients -> Les chercheurs de qualité\n",
    "# 3 - Pas très fortunés, mais visites fréquentes et les plus anciens -> Les habitués\n",
    "\n",
    "# On peut ensuite proposer des promos ou communications personnalisés pour chaque cluster."
   ]
  },
  {
   "cell_type": "code",
   "execution_count": null,
   "id": "6dd2dad7-1d79-4f35-8169-4b967934f38b",
   "metadata": {},
   "outputs": [],
   "source": []
  }
 ],
 "metadata": {
  "kernelspec": {
   "display_name": "Python 3 (ipykernel)",
   "language": "python",
   "name": "python3"
  },
  "language_info": {
   "codemirror_mode": {
    "name": "ipython",
    "version": 3
   },
   "file_extension": ".py",
   "mimetype": "text/x-python",
   "name": "python",
   "nbconvert_exporter": "python",
   "pygments_lexer": "ipython3",
   "version": "3.12.9"
  }
 },
 "nbformat": 4,
 "nbformat_minor": 5
}
