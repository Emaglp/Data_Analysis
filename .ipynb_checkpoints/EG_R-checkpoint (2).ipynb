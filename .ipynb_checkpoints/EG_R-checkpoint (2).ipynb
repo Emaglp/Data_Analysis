{
 "cells": [
  {
   "cell_type": "markdown",
   "id": "c066b9b4-6ec4-479c-a463-2358e8fb7858",
   "metadata": {},
   "source": [
    "**Projet Data Analysis_R**"
   ]
  },
  {
   "cell_type": "markdown",
   "id": "5173c2f1-b543-4589-81d5-e4289c05834e",
   "metadata": {},
   "source": [
    "L’analyse de la personnalité des clients est une analyse détaillée des clients idéaux d’une entreprise. Elle aide une entreprise à mieux comprendre ses clients et lui permet de modifier plus facilement ses produits en fonction des besoins, comportements et préoccupations spécifiques des différents types de clients.\n",
    "\n",
    "L’analyse de la personnalité des clients aide une entreprise à adapter son produit en fonction de ses clients cibles provenant de différents segments de clientèle. Par exemple, au lieu de dépenser de l’argent pour commercialiser un nouveau produit auprès de tous les clients de la base de données de l’entreprise, une entreprise peut analyser quel segment de clientèle est le plus susceptible d’acheter le produit et ensuite commercialiser le produit uniquement auprès de ce segment particulier.\n",
    "\n",
    "données :\n",
    "*People\n",
    "\n",
    "    ID: Customer's unique identifier\n",
    "    Year_Birth: Customer's birth year\n",
    "    Education: Customer's education level\n",
    "    Marital_Status: Customer's marital status\n",
    "    Income: Customer's yearly household income\n",
    "    Kidhome: Number of children in customer's household\n",
    "    Teenhome: Number of teenagers in customer's household\n",
    "    Dt_Customer: Date of customer's enrollment with the company\n",
    "    Recency: Number of days since customer's last purchase\n",
    "    Complain: 1 if the customer complained in the last 2 years, 0 otherwise\n",
    "\n",
    "*Products\n",
    "\n",
    "    MntWines: Amount spent on wine in last 2 years\n",
    "    MntFruits: Amount spent on fruits in last 2 years\n",
    "    MntMeatProducts: Amount spent on meat in last 2 years\n",
    "    MntFishProducts: Amount spent on fish in last 2 years\n",
    "    MntSweetProducts: Amount spent on sweets in last 2 years\n",
    "    MntGoldProds: Amount spent on gold in last 2 years\n",
    "\n",
    "*Promotion\n",
    "\n",
    "    NumDealsPurchases: Number of purchases made with a discount\n",
    "    AcceptedCmp1: 1 if customer accepted the offer in the 1st campaign, 0 otherwise\n",
    "    AcceptedCmp2: 1 if customer accepted the offer in the 2nd campaign, 0 otherwise\n",
    "    AcceptedCmp3: 1 if customer accepted the offer in the 3rd campaign, 0 otherwise\n",
    "    AcceptedCmp4: 1 if customer accepted the offer in the 4th campaign, 0 otherwise\n",
    "    AcceptedCmp5: 1 if customer accepted the offer in the 5th campaign, 0 otherwise\n",
    "    Response: 1 if customer accepted the offer in the last campaign, 0 otherwise\n",
    "\n",
    "*Place\n",
    "\n",
    "    NumWebPurchases: Number of purchases made through the company’s website\n",
    "    NumCatalogPurchases: Number of purchases made using a catalogue\n",
    "    NumStorePurchases: Number of purchases made directly in stores\n",
    "    NumWebVisitsMonth: Number of visits to company’s website in the last month\n",
    "\n",
    "Questions :\n",
    "\n",
    "Qualité du jeu de données proposé? Un pre-processing des données est-il nécessaire? Comment se comportent les différentes variables entre elles? Les achats dépendent-ils du style de vie de l'acheteur (famille, marié, revenu etc)? Les promotions proposées sont elles efficaces ? Sur quels types de clients ? Sur quels types de produits ? Quels endroits de ventes sont le plus utilisés ? Sur quels types de clients ? Sur quels types de produits ? Des profils de clients se dessinent-ils ? Si oui, quels types de clients, quels types d'achats, grace à quels endroits de ventes ?"
   ]
  },
  {
   "cell_type": "code",
   "execution_count": 42,
   "id": "2cdee08a-282b-4e18-b8fb-f0dd9d94fbf9",
   "metadata": {},
   "outputs": [
    {
     "ename": "ERROR",
     "evalue": "Error in library(ggplot2): there is no package called 'ggplot2'\n",
     "output_type": "error",
     "traceback": [
      "Error in library(ggplot2): there is no package called 'ggplot2'\nTraceback:\n",
      "1. library(ggplot2)"
     ]
    }
   ],
   "source": []
  },
  {
   "cell_type": "code",
   "execution_count": 28,
   "id": "6f2207be-ac5f-4bce-912a-f516c7f8bd1f",
   "metadata": {},
   "outputs": [
    {
     "data": {
      "text/html": [
       "<table>\n",
       "<thead><tr><th scope=col>ID</th><th scope=col>Year_Birth</th><th scope=col>Education</th><th scope=col>Marital_Status</th><th scope=col>Income</th><th scope=col>Kidhome</th><th scope=col>Teenhome</th><th scope=col>Dt_Customer</th><th scope=col>Recency</th><th scope=col>MntWines</th><th scope=col>...</th><th scope=col>NumWebVisitsMonth</th><th scope=col>AcceptedCmp3</th><th scope=col>AcceptedCmp4</th><th scope=col>AcceptedCmp5</th><th scope=col>AcceptedCmp1</th><th scope=col>AcceptedCmp2</th><th scope=col>Complain</th><th scope=col>Z_CostContact</th><th scope=col>Z_Revenue</th><th scope=col>Response</th></tr></thead>\n",
       "<tbody>\n",
       "\t<tr><td>5524      </td><td>1957      </td><td>Graduation</td><td>Single    </td><td>58138     </td><td>0         </td><td>0         </td><td>04-09-2012</td><td>58        </td><td>635       </td><td>...       </td><td>7         </td><td>0         </td><td>0         </td><td>0         </td><td>0         </td><td>0         </td><td>0         </td><td>3         </td><td>11        </td><td>1         </td></tr>\n",
       "\t<tr><td>2174      </td><td>1954      </td><td>Graduation</td><td>Single    </td><td>46344     </td><td>1         </td><td>1         </td><td>08-03-2014</td><td>38        </td><td> 11       </td><td>...       </td><td>5         </td><td>0         </td><td>0         </td><td>0         </td><td>0         </td><td>0         </td><td>0         </td><td>3         </td><td>11        </td><td>0         </td></tr>\n",
       "\t<tr><td>4141      </td><td>1965      </td><td>Graduation</td><td>Together  </td><td>71613     </td><td>0         </td><td>0         </td><td>21-08-2013</td><td>26        </td><td>426       </td><td>...       </td><td>4         </td><td>0         </td><td>0         </td><td>0         </td><td>0         </td><td>0         </td><td>0         </td><td>3         </td><td>11        </td><td>0         </td></tr>\n",
       "\t<tr><td>6182      </td><td>1984      </td><td>Graduation</td><td>Together  </td><td>26646     </td><td>1         </td><td>0         </td><td>10-02-2014</td><td>26        </td><td> 11       </td><td>...       </td><td>6         </td><td>0         </td><td>0         </td><td>0         </td><td>0         </td><td>0         </td><td>0         </td><td>3         </td><td>11        </td><td>0         </td></tr>\n",
       "\t<tr><td>5324      </td><td>1981      </td><td>PhD       </td><td>Married   </td><td>58293     </td><td>1         </td><td>0         </td><td>19-01-2014</td><td>94        </td><td>173       </td><td>...       </td><td>5         </td><td>0         </td><td>0         </td><td>0         </td><td>0         </td><td>0         </td><td>0         </td><td>3         </td><td>11        </td><td>0         </td></tr>\n",
       "\t<tr><td>7446      </td><td>1967      </td><td>Master    </td><td>Together  </td><td>62513     </td><td>0         </td><td>1         </td><td>09-09-2013</td><td>16        </td><td>520       </td><td>...       </td><td>6         </td><td>0         </td><td>0         </td><td>0         </td><td>0         </td><td>0         </td><td>0         </td><td>3         </td><td>11        </td><td>0         </td></tr>\n",
       "</tbody>\n",
       "</table>\n"
      ],
      "text/latex": [
       "\\begin{tabular}{r|lllllllllllllllllllllllllllll}\n",
       " ID & Year\\_Birth & Education & Marital\\_Status & Income & Kidhome & Teenhome & Dt\\_Customer & Recency & MntWines & ... & NumWebVisitsMonth & AcceptedCmp3 & AcceptedCmp4 & AcceptedCmp5 & AcceptedCmp1 & AcceptedCmp2 & Complain & Z\\_CostContact & Z\\_Revenue & Response\\\\\n",
       "\\hline\n",
       "\t 5524       & 1957       & Graduation & Single     & 58138      & 0          & 0          & 04-09-2012 & 58         & 635        & ...        & 7          & 0          & 0          & 0          & 0          & 0          & 0          & 3          & 11         & 1         \\\\\n",
       "\t 2174       & 1954       & Graduation & Single     & 46344      & 1          & 1          & 08-03-2014 & 38         &  11        & ...        & 5          & 0          & 0          & 0          & 0          & 0          & 0          & 3          & 11         & 0         \\\\\n",
       "\t 4141       & 1965       & Graduation & Together   & 71613      & 0          & 0          & 21-08-2013 & 26         & 426        & ...        & 4          & 0          & 0          & 0          & 0          & 0          & 0          & 3          & 11         & 0         \\\\\n",
       "\t 6182       & 1984       & Graduation & Together   & 26646      & 1          & 0          & 10-02-2014 & 26         &  11        & ...        & 6          & 0          & 0          & 0          & 0          & 0          & 0          & 3          & 11         & 0         \\\\\n",
       "\t 5324       & 1981       & PhD        & Married    & 58293      & 1          & 0          & 19-01-2014 & 94         & 173        & ...        & 5          & 0          & 0          & 0          & 0          & 0          & 0          & 3          & 11         & 0         \\\\\n",
       "\t 7446       & 1967       & Master     & Together   & 62513      & 0          & 1          & 09-09-2013 & 16         & 520        & ...        & 6          & 0          & 0          & 0          & 0          & 0          & 0          & 3          & 11         & 0         \\\\\n",
       "\\end{tabular}\n"
      ],
      "text/markdown": [
       "\n",
       "| ID | Year_Birth | Education | Marital_Status | Income | Kidhome | Teenhome | Dt_Customer | Recency | MntWines | ... | NumWebVisitsMonth | AcceptedCmp3 | AcceptedCmp4 | AcceptedCmp5 | AcceptedCmp1 | AcceptedCmp2 | Complain | Z_CostContact | Z_Revenue | Response |\n",
       "|---|---|---|---|---|---|---|---|---|---|---|---|---|---|---|---|---|---|---|---|---|\n",
       "| 5524       | 1957       | Graduation | Single     | 58138      | 0          | 0          | 04-09-2012 | 58         | 635        | ...        | 7          | 0          | 0          | 0          | 0          | 0          | 0          | 3          | 11         | 1          |\n",
       "| 2174       | 1954       | Graduation | Single     | 46344      | 1          | 1          | 08-03-2014 | 38         |  11        | ...        | 5          | 0          | 0          | 0          | 0          | 0          | 0          | 3          | 11         | 0          |\n",
       "| 4141       | 1965       | Graduation | Together   | 71613      | 0          | 0          | 21-08-2013 | 26         | 426        | ...        | 4          | 0          | 0          | 0          | 0          | 0          | 0          | 3          | 11         | 0          |\n",
       "| 6182       | 1984       | Graduation | Together   | 26646      | 1          | 0          | 10-02-2014 | 26         |  11        | ...        | 6          | 0          | 0          | 0          | 0          | 0          | 0          | 3          | 11         | 0          |\n",
       "| 5324       | 1981       | PhD        | Married    | 58293      | 1          | 0          | 19-01-2014 | 94         | 173        | ...        | 5          | 0          | 0          | 0          | 0          | 0          | 0          | 3          | 11         | 0          |\n",
       "| 7446       | 1967       | Master     | Together   | 62513      | 0          | 1          | 09-09-2013 | 16         | 520        | ...        | 6          | 0          | 0          | 0          | 0          | 0          | 0          | 3          | 11         | 0          |\n",
       "\n"
      ],
      "text/plain": [
       "  ID   Year_Birth Education  Marital_Status Income Kidhome Teenhome Dt_Customer\n",
       "1 5524 1957       Graduation Single         58138  0       0        04-09-2012 \n",
       "2 2174 1954       Graduation Single         46344  1       1        08-03-2014 \n",
       "3 4141 1965       Graduation Together       71613  0       0        21-08-2013 \n",
       "4 6182 1984       Graduation Together       26646  1       0        10-02-2014 \n",
       "5 5324 1981       PhD        Married        58293  1       0        19-01-2014 \n",
       "6 7446 1967       Master     Together       62513  0       1        09-09-2013 \n",
       "  Recency MntWines ... NumWebVisitsMonth AcceptedCmp3 AcceptedCmp4 AcceptedCmp5\n",
       "1 58      635      ... 7                 0            0            0           \n",
       "2 38       11      ... 5                 0            0            0           \n",
       "3 26      426      ... 4                 0            0            0           \n",
       "4 26       11      ... 6                 0            0            0           \n",
       "5 94      173      ... 5                 0            0            0           \n",
       "6 16      520      ... 6                 0            0            0           \n",
       "  AcceptedCmp1 AcceptedCmp2 Complain Z_CostContact Z_Revenue Response\n",
       "1 0            0            0        3             11        1       \n",
       "2 0            0            0        3             11        0       \n",
       "3 0            0            0        3             11        0       \n",
       "4 0            0            0        3             11        0       \n",
       "5 0            0            0        3             11        0       \n",
       "6 0            0            0        3             11        0       "
      ]
     },
     "metadata": {},
     "output_type": "display_data"
    }
   ],
   "source": [
    "data <- read.csv(\"marketing_campaign.csv\", header=TRUE, sep=\"\\t\")\n",
    "head(data)"
   ]
  },
  {
   "cell_type": "code",
   "execution_count": 4,
   "id": "faa575bd-b6ed-4db0-abc0-cc87ef81892a",
   "metadata": {},
   "outputs": [
    {
     "data": {
      "text/plain": [
       "       ID          Year_Birth        Education     Marital_Status\n",
       " Min.   :    0   Min.   :1893   2n Cycle  : 203   Married :864   \n",
       " 1st Qu.: 2828   1st Qu.:1959   Basic     :  54   Together:580   \n",
       " Median : 5458   Median :1970   Graduation:1127   Single  :480   \n",
       " Mean   : 5592   Mean   :1969   Master    : 370   Divorced:232   \n",
       " 3rd Qu.: 8428   3rd Qu.:1977   PhD       : 486   Widow   : 77   \n",
       " Max.   :11191   Max.   :1996                     Alone   :  3   \n",
       "                                                  (Other) :  4   \n",
       "     Income          Kidhome          Teenhome          Dt_Customer  \n",
       " Min.   :  1730   Min.   :0.0000   Min.   :0.0000   31-08-2012:  12  \n",
       " 1st Qu.: 35303   1st Qu.:0.0000   1st Qu.:0.0000   12-05-2014:  11  \n",
       " Median : 51382   Median :0.0000   Median :0.0000   12-09-2012:  11  \n",
       " Mean   : 52247   Mean   :0.4442   Mean   :0.5062   14-02-2013:  11  \n",
       " 3rd Qu.: 68522   3rd Qu.:1.0000   3rd Qu.:1.0000   20-08-2013:  10  \n",
       " Max.   :666666   Max.   :2.0000   Max.   :2.0000   22-05-2014:  10  \n",
       " NA's   :24                                         (Other)   :2175  \n",
       "    Recency         MntWines         MntFruits     MntMeatProducts \n",
       " Min.   : 0.00   Min.   :   0.00   Min.   :  0.0   Min.   :   0.0  \n",
       " 1st Qu.:24.00   1st Qu.:  23.75   1st Qu.:  1.0   1st Qu.:  16.0  \n",
       " Median :49.00   Median : 173.50   Median :  8.0   Median :  67.0  \n",
       " Mean   :49.11   Mean   : 303.94   Mean   : 26.3   Mean   : 166.9  \n",
       " 3rd Qu.:74.00   3rd Qu.: 504.25   3rd Qu.: 33.0   3rd Qu.: 232.0  \n",
       " Max.   :99.00   Max.   :1493.00   Max.   :199.0   Max.   :1725.0  \n",
       "                                                                   \n",
       " MntFishProducts  MntSweetProducts  MntGoldProds    NumDealsPurchases\n",
       " Min.   :  0.00   Min.   :  0.00   Min.   :  0.00   Min.   : 0.000   \n",
       " 1st Qu.:  3.00   1st Qu.:  1.00   1st Qu.:  9.00   1st Qu.: 1.000   \n",
       " Median : 12.00   Median :  8.00   Median : 24.00   Median : 2.000   \n",
       " Mean   : 37.53   Mean   : 27.06   Mean   : 44.02   Mean   : 2.325   \n",
       " 3rd Qu.: 50.00   3rd Qu.: 33.00   3rd Qu.: 56.00   3rd Qu.: 3.000   \n",
       " Max.   :259.00   Max.   :263.00   Max.   :362.00   Max.   :15.000   \n",
       "                                                                     \n",
       " NumWebPurchases  NumCatalogPurchases NumStorePurchases NumWebVisitsMonth\n",
       " Min.   : 0.000   Min.   : 0.000      Min.   : 0.00     Min.   : 0.000   \n",
       " 1st Qu.: 2.000   1st Qu.: 0.000      1st Qu.: 3.00     1st Qu.: 3.000   \n",
       " Median : 4.000   Median : 2.000      Median : 5.00     Median : 6.000   \n",
       " Mean   : 4.085   Mean   : 2.662      Mean   : 5.79     Mean   : 5.317   \n",
       " 3rd Qu.: 6.000   3rd Qu.: 4.000      3rd Qu.: 8.00     3rd Qu.: 7.000   \n",
       " Max.   :27.000   Max.   :28.000      Max.   :13.00     Max.   :20.000   \n",
       "                                                                         \n",
       "  AcceptedCmp3      AcceptedCmp4      AcceptedCmp5      AcceptedCmp1    \n",
       " Min.   :0.00000   Min.   :0.00000   Min.   :0.00000   Min.   :0.00000  \n",
       " 1st Qu.:0.00000   1st Qu.:0.00000   1st Qu.:0.00000   1st Qu.:0.00000  \n",
       " Median :0.00000   Median :0.00000   Median :0.00000   Median :0.00000  \n",
       " Mean   :0.07277   Mean   :0.07455   Mean   :0.07277   Mean   :0.06429  \n",
       " 3rd Qu.:0.00000   3rd Qu.:0.00000   3rd Qu.:0.00000   3rd Qu.:0.00000  \n",
       " Max.   :1.00000   Max.   :1.00000   Max.   :1.00000   Max.   :1.00000  \n",
       "                                                                        \n",
       "  AcceptedCmp2        Complain        Z_CostContact   Z_Revenue \n",
       " Min.   :0.00000   Min.   :0.000000   Min.   :3     Min.   :11  \n",
       " 1st Qu.:0.00000   1st Qu.:0.000000   1st Qu.:3     1st Qu.:11  \n",
       " Median :0.00000   Median :0.000000   Median :3     Median :11  \n",
       " Mean   :0.01339   Mean   :0.009375   Mean   :3     Mean   :11  \n",
       " 3rd Qu.:0.00000   3rd Qu.:0.000000   3rd Qu.:3     3rd Qu.:11  \n",
       " Max.   :1.00000   Max.   :1.000000   Max.   :3     Max.   :11  \n",
       "                                                                \n",
       "    Response     \n",
       " Min.   :0.0000  \n",
       " 1st Qu.:0.0000  \n",
       " Median :0.0000  \n",
       " Mean   :0.1491  \n",
       " 3rd Qu.:0.0000  \n",
       " Max.   :1.0000  \n",
       "                 "
      ]
     },
     "metadata": {},
     "output_type": "display_data"
    }
   ],
   "source": [
    "summary(data)"
   ]
  },
  {
   "cell_type": "markdown",
   "id": "86db757a-3cef-420d-a14e-4f82703a5e44",
   "metadata": {},
   "source": [
    "Transformation des données:"
   ]
  },
  {
   "cell_type": "code",
   "execution_count": 6,
   "id": "a7ed632e-91a1-42fc-a3ce-79ec4fe44464",
   "metadata": {},
   "outputs": [
    {
     "data": {
      "text/plain": [
       "       ID          Year_Birth        Education     Marital_Status\n",
       " Min.   :    0   Min.   :1893   2n Cycle  : 203   Married :864   \n",
       " 1st Qu.: 2828   1st Qu.:1959   Basic     :  54   Together:580   \n",
       " Median : 5458   Median :1970   Graduation:1127   Single  :480   \n",
       " Mean   : 5592   Mean   :1969   Master    : 370   Divorced:232   \n",
       " 3rd Qu.: 8428   3rd Qu.:1977   PhD       : 486   Widow   : 77   \n",
       " Max.   :11191   Max.   :1996                     Alone   :  3   \n",
       "                                                  (Other) :  4   \n",
       "     Income          Kidhome          Teenhome          Dt_Customer  \n",
       " Min.   :  1730   Min.   :0.0000   Min.   :0.0000   31-08-2012:  12  \n",
       " 1st Qu.: 35303   1st Qu.:0.0000   1st Qu.:0.0000   12-05-2014:  11  \n",
       " Median : 51382   Median :0.0000   Median :0.0000   12-09-2012:  11  \n",
       " Mean   : 52247   Mean   :0.4442   Mean   :0.5062   14-02-2013:  11  \n",
       " 3rd Qu.: 68522   3rd Qu.:1.0000   3rd Qu.:1.0000   20-08-2013:  10  \n",
       " Max.   :666666   Max.   :2.0000   Max.   :2.0000   22-05-2014:  10  \n",
       " NA's   :24                                         (Other)   :2175  \n",
       "    Recency         MntWines         MntFruits     MntMeatProducts \n",
       " Min.   : 0.00   Min.   :   0.00   Min.   :  0.0   Min.   :   0.0  \n",
       " 1st Qu.:24.00   1st Qu.:  23.75   1st Qu.:  1.0   1st Qu.:  16.0  \n",
       " Median :49.00   Median : 173.50   Median :  8.0   Median :  67.0  \n",
       " Mean   :49.11   Mean   : 303.94   Mean   : 26.3   Mean   : 166.9  \n",
       " 3rd Qu.:74.00   3rd Qu.: 504.25   3rd Qu.: 33.0   3rd Qu.: 232.0  \n",
       " Max.   :99.00   Max.   :1493.00   Max.   :199.0   Max.   :1725.0  \n",
       "                                                                   \n",
       " MntFishProducts  MntSweetProducts  MntGoldProds    NumDealsPurchases\n",
       " Min.   :  0.00   Min.   :  0.00   Min.   :  0.00   Min.   : 0.000   \n",
       " 1st Qu.:  3.00   1st Qu.:  1.00   1st Qu.:  9.00   1st Qu.: 1.000   \n",
       " Median : 12.00   Median :  8.00   Median : 24.00   Median : 2.000   \n",
       " Mean   : 37.53   Mean   : 27.06   Mean   : 44.02   Mean   : 2.325   \n",
       " 3rd Qu.: 50.00   3rd Qu.: 33.00   3rd Qu.: 56.00   3rd Qu.: 3.000   \n",
       " Max.   :259.00   Max.   :263.00   Max.   :362.00   Max.   :15.000   \n",
       "                                                                     \n",
       " NumWebPurchases  NumCatalogPurchases NumStorePurchases NumWebVisitsMonth\n",
       " Min.   : 0.000   Min.   : 0.000      Min.   : 0.00     Min.   : 0.000   \n",
       " 1st Qu.: 2.000   1st Qu.: 0.000      1st Qu.: 3.00     1st Qu.: 3.000   \n",
       " Median : 4.000   Median : 2.000      Median : 5.00     Median : 6.000   \n",
       " Mean   : 4.085   Mean   : 2.662      Mean   : 5.79     Mean   : 5.317   \n",
       " 3rd Qu.: 6.000   3rd Qu.: 4.000      3rd Qu.: 8.00     3rd Qu.: 7.000   \n",
       " Max.   :27.000   Max.   :28.000      Max.   :13.00     Max.   :20.000   \n",
       "                                                                         \n",
       "  AcceptedCmp3      AcceptedCmp4      AcceptedCmp5      AcceptedCmp1    \n",
       " Min.   :0.00000   Min.   :0.00000   Min.   :0.00000   Min.   :0.00000  \n",
       " 1st Qu.:0.00000   1st Qu.:0.00000   1st Qu.:0.00000   1st Qu.:0.00000  \n",
       " Median :0.00000   Median :0.00000   Median :0.00000   Median :0.00000  \n",
       " Mean   :0.07277   Mean   :0.07455   Mean   :0.07277   Mean   :0.06429  \n",
       " 3rd Qu.:0.00000   3rd Qu.:0.00000   3rd Qu.:0.00000   3rd Qu.:0.00000  \n",
       " Max.   :1.00000   Max.   :1.00000   Max.   :1.00000   Max.   :1.00000  \n",
       "                                                                        \n",
       "  AcceptedCmp2        Complain           Response     \n",
       " Min.   :0.00000   Min.   :0.000000   Min.   :0.0000  \n",
       " 1st Qu.:0.00000   1st Qu.:0.000000   1st Qu.:0.0000  \n",
       " Median :0.00000   Median :0.000000   Median :0.0000  \n",
       " Mean   :0.01339   Mean   :0.009375   Mean   :0.1491  \n",
       " 3rd Qu.:0.00000   3rd Qu.:0.000000   3rd Qu.:0.0000  \n",
       " Max.   :1.00000   Max.   :1.000000   Max.   :1.0000  \n",
       "                                                      "
      ]
     },
     "metadata": {},
     "output_type": "display_data"
    }
   ],
   "source": [
    "data<-data[,-27] #on enleve Zcontact et Zrevenue pcq ce sont des constantes\n",
    "data<-data[,-27]\n",
    "summary(data)"
   ]
  },
  {
   "cell_type": "code",
   "execution_count": 8,
   "id": "b66c2da8-77a7-4448-b226-6109588cb364",
   "metadata": {},
   "outputs": [
    {
     "data": {
      "text/html": [
       "'Income'"
      ],
      "text/latex": [
       "'Income'"
      ],
      "text/markdown": [
       "'Income'"
      ],
      "text/plain": [
       "[1] \"Income\""
      ]
     },
     "metadata": {},
     "output_type": "display_data"
    }
   ],
   "source": [
    "colnames(data)[apply(data, 2, anyNA)]\n",
    "#on voit que dans la colonne Income, il y a des valeurs manquantes (24 comme on peut le voir dans le summary)"
   ]
  },
  {
   "cell_type": "code",
   "execution_count": 10,
   "id": "23cc55e6-2201-44d3-82f5-667f94ff1d3e",
   "metadata": {},
   "outputs": [],
   "source": [
    "data$Income <-ifelse(is.na(data$Income), median(data$Income, na.rm = TRUE), data$Income)\n",
    "#on remplace les valeurs manquantes par la médiane des valeurs de Income\n",
    "#on utilise la médiane au lieu de la moyenne pour que les outliers (ici 6666) n'influence la valeur que l'on va prendre "
   ]
  },
  {
   "cell_type": "code",
   "execution_count": 12,
   "id": "3d01038f-6982-4850-a4e3-30ffdd0856b5",
   "metadata": {},
   "outputs": [
    {
     "data": {
      "text/plain": [
       "       ID          Year_Birth        Education     Marital_Status\n",
       " Min.   :    0   Min.   :1893   2n Cycle  : 203   Married :864   \n",
       " 1st Qu.: 2828   1st Qu.:1959   Basic     :  54   Together:580   \n",
       " Median : 5458   Median :1970   Graduation:1127   Single  :480   \n",
       " Mean   : 5592   Mean   :1969   Master    : 370   Divorced:232   \n",
       " 3rd Qu.: 8428   3rd Qu.:1977   PhD       : 486   Widow   : 77   \n",
       " Max.   :11191   Max.   :1996                     Alone   :  3   \n",
       "                                                  (Other) :  4   \n",
       "     Income          Kidhome          Teenhome          Dt_Customer  \n",
       " Min.   :  1730   Min.   :0.0000   Min.   :0.0000   31-08-2012:  12  \n",
       " 1st Qu.: 35539   1st Qu.:0.0000   1st Qu.:0.0000   12-05-2014:  11  \n",
       " Median : 51382   Median :0.0000   Median :0.0000   12-09-2012:  11  \n",
       " Mean   : 52238   Mean   :0.4442   Mean   :0.5062   14-02-2013:  11  \n",
       " 3rd Qu.: 68290   3rd Qu.:1.0000   3rd Qu.:1.0000   20-08-2013:  10  \n",
       " Max.   :666666   Max.   :2.0000   Max.   :2.0000   22-05-2014:  10  \n",
       "                                                    (Other)   :2175  \n",
       "    Recency         MntWines         MntFruits     MntMeatProducts \n",
       " Min.   : 0.00   Min.   :   0.00   Min.   :  0.0   Min.   :   0.0  \n",
       " 1st Qu.:24.00   1st Qu.:  23.75   1st Qu.:  1.0   1st Qu.:  16.0  \n",
       " Median :49.00   Median : 173.50   Median :  8.0   Median :  67.0  \n",
       " Mean   :49.11   Mean   : 303.94   Mean   : 26.3   Mean   : 166.9  \n",
       " 3rd Qu.:74.00   3rd Qu.: 504.25   3rd Qu.: 33.0   3rd Qu.: 232.0  \n",
       " Max.   :99.00   Max.   :1493.00   Max.   :199.0   Max.   :1725.0  \n",
       "                                                                   \n",
       " MntFishProducts  MntSweetProducts  MntGoldProds    NumDealsPurchases\n",
       " Min.   :  0.00   Min.   :  0.00   Min.   :  0.00   Min.   : 0.000   \n",
       " 1st Qu.:  3.00   1st Qu.:  1.00   1st Qu.:  9.00   1st Qu.: 1.000   \n",
       " Median : 12.00   Median :  8.00   Median : 24.00   Median : 2.000   \n",
       " Mean   : 37.53   Mean   : 27.06   Mean   : 44.02   Mean   : 2.325   \n",
       " 3rd Qu.: 50.00   3rd Qu.: 33.00   3rd Qu.: 56.00   3rd Qu.: 3.000   \n",
       " Max.   :259.00   Max.   :263.00   Max.   :362.00   Max.   :15.000   \n",
       "                                                                     \n",
       " NumWebPurchases  NumCatalogPurchases NumStorePurchases NumWebVisitsMonth\n",
       " Min.   : 0.000   Min.   : 0.000      Min.   : 0.00     Min.   : 0.000   \n",
       " 1st Qu.: 2.000   1st Qu.: 0.000      1st Qu.: 3.00     1st Qu.: 3.000   \n",
       " Median : 4.000   Median : 2.000      Median : 5.00     Median : 6.000   \n",
       " Mean   : 4.085   Mean   : 2.662      Mean   : 5.79     Mean   : 5.317   \n",
       " 3rd Qu.: 6.000   3rd Qu.: 4.000      3rd Qu.: 8.00     3rd Qu.: 7.000   \n",
       " Max.   :27.000   Max.   :28.000      Max.   :13.00     Max.   :20.000   \n",
       "                                                                         \n",
       "  AcceptedCmp3      AcceptedCmp4      AcceptedCmp5      AcceptedCmp1    \n",
       " Min.   :0.00000   Min.   :0.00000   Min.   :0.00000   Min.   :0.00000  \n",
       " 1st Qu.:0.00000   1st Qu.:0.00000   1st Qu.:0.00000   1st Qu.:0.00000  \n",
       " Median :0.00000   Median :0.00000   Median :0.00000   Median :0.00000  \n",
       " Mean   :0.07277   Mean   :0.07455   Mean   :0.07277   Mean   :0.06429  \n",
       " 3rd Qu.:0.00000   3rd Qu.:0.00000   3rd Qu.:0.00000   3rd Qu.:0.00000  \n",
       " Max.   :1.00000   Max.   :1.00000   Max.   :1.00000   Max.   :1.00000  \n",
       "                                                                        \n",
       "  AcceptedCmp2        Complain           Response     \n",
       " Min.   :0.00000   Min.   :0.000000   Min.   :0.0000  \n",
       " 1st Qu.:0.00000   1st Qu.:0.000000   1st Qu.:0.0000  \n",
       " Median :0.00000   Median :0.000000   Median :0.0000  \n",
       " Mean   :0.01339   Mean   :0.009375   Mean   :0.1491  \n",
       " 3rd Qu.:0.00000   3rd Qu.:0.000000   3rd Qu.:0.0000  \n",
       " Max.   :1.00000   Max.   :1.000000   Max.   :1.0000  \n",
       "                                                      "
      ]
     },
     "metadata": {},
     "output_type": "display_data"
    }
   ],
   "source": [
    "summary(data)"
   ]
  },
  {
   "cell_type": "code",
   "execution_count": 16,
   "id": "5a3f9189-99b6-4044-a057-597e64292b9c",
   "metadata": {},
   "outputs": [],
   "source": [
    "#on met en facteur les variables qualitatives pour pouvoir travailler dessus\n",
    "data[, \"Education\"] <- as.factor(data[, \"Education\"])\n",
    "data[, \"Marital_Status\"] <- as.factor(data[, \"Marital_Status\"])\n",
    "data[, \"Kidhome\"] <- as.factor(data[, \"Kidhome\"])\n",
    "data[, \"Teenhome\"] <- as.factor(data[, \"Teenhome\"])\n",
    "data[, \"AcceptedCmp3\"] <- as.factor(data[, \"AcceptedCmp3\"])\n",
    "data[, \"AcceptedCmp4\"] <- as.factor(data[, \"AcceptedCmp4\"])\n",
    "data[, \"AcceptedCmp5\"] <- as.factor(data[, \"AcceptedCmp5\"])\n",
    "data[, \"AcceptedCmp1\"] <- as.factor(data[, \"AcceptedCmp1\"])\n",
    "data[, \"AcceptedCmp2\"] <- as.factor(data[, \"AcceptedCmp2\"])\n",
    "data[, \"Complain\"] <- as.factor(data[, \"Complain\"])\n",
    "data[, \"Response\"] <- as.factor(data[, \"Response\"])"
   ]
  },
  {
   "cell_type": "code",
   "execution_count": 36,
   "id": "72d1377e-4489-432e-aef6-97aa5cbc51b0",
   "metadata": {},
   "outputs": [
    {
     "ename": "ERROR",
     "evalue": "Error in ggplot(data, aes(x = Groupe, y = Valeur, fill = Groupe)): impossible de trouver la fonction \"ggplot\"\n",
     "output_type": "error",
     "traceback": [
      "Error in ggplot(data, aes(x = Groupe, y = Valeur, fill = Groupe)): impossible de trouver la fonction \"ggplot\"\nTraceback:\n"
     ]
    }
   ],
   "source": [
    "ggplot(data, aes(x = Groupe, y = Valeur, fill = Groupe)) +\n",
    "  geom_boxplot() +\n",
    "  theme_minimal() +\n",
    "  labs(title = \"Boxplot des valeurs par groupe\", x = \"Groupe\", y = \"Valeur\") +\n",
    "  scale_fill_brewer(palette = \"Set2\")"
   ]
  },
  {
   "cell_type": "code",
   "execution_count": 44,
   "id": "c349c95d-327b-4725-a50e-5d1ce5d05cfe",
   "metadata": {},
   "outputs": [
    {
     "ename": "ERROR",
     "evalue": "Error in library(corrplot): there is no package called 'corrplot'\n",
     "output_type": "error",
     "traceback": [
      "Error in library(corrplot): there is no package called 'corrplot'\nTraceback:\n",
      "1. library(corrplot)"
     ]
    }
   ],
   "source": [
    "library(corrplot)\n",
    "corrplot(cor(data[, c(2, 5,9:19)]),method=\"ellipse\")"
   ]
  },
  {
   "cell_type": "code",
   "execution_count": null,
   "id": "71f19832-becb-4875-be8e-3f1185aa0ec1",
   "metadata": {},
   "outputs": [],
   "source": [
    "library(gplots)\n",
    "library(ggplot2)\n",
    "library(graphics)"
   ]
  },
  {
   "cell_type": "code",
   "execution_count": null,
   "id": "48ba566c-02b3-4d3f-b178-166a0f4a4eee",
   "metadata": {},
   "outputs": [],
   "source": [
    "boxplot(data$Income)"
   ]
  },
  {
   "cell_type": "code",
   "execution_count": null,
   "id": "f9ff1e05-a37f-4cb0-a95c-63637572059d",
   "metadata": {},
   "outputs": [],
   "source": [
    "par(mfrow = c(2, 4))  \n",
    "boxplot(data$Income)\n",
    "boxplot(data$Year_Birth)\n",
    "boxplot(data$Dt_Customer)\n",
    "boxplot(data$Recency)\n",
    "boxplot(data$MntFruits)\n",
    "boxplot(data$MntWines)\n",
    "boxplot(data$MntMeatProducts)\n",
    "boxplot(data$MntFishProducts)"
   ]
  }
 ],
 "metadata": {
  "kernelspec": {
   "display_name": "R",
   "language": "R",
   "name": "ir"
  },
  "language_info": {
   "codemirror_mode": "r",
   "file_extension": ".r",
   "mimetype": "text/x-r-source",
   "name": "R",
   "pygments_lexer": "r",
   "version": "3.6.1"
  }
 },
 "nbformat": 4,
 "nbformat_minor": 5
}
