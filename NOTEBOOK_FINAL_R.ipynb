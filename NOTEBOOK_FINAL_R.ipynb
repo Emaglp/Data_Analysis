{
 "cells": [
  {
   "cell_type": "markdown",
   "id": "5173c2f1-b543-4589-81d5-e4289c05834e",
   "metadata": {},
   "source": [
    "# Jeu de Données \"Marketing Campaign\"\n",
    "### Julie Laurent, Quentin Senatore, Quentin Touil et Ema Galuppini"
   ]
  },
  {
   "cell_type": "markdown",
   "id": "d04312de-b2c1-42b0-b38b-dcd03340ce6e",
   "metadata": {},
   "source": [
    "## Présentation des Données à analyser : \n",
    "\n",
    "#### Introduction :\n",
    "Le jeu de données étudié provient d'une campagne marketing et contient diverses informations sur les clients, incluant leurs caractéristiques démographiques, leurs habitudes de consommation et leur réponse aux actions marketing. Ce type de données est particulièrement intéressant pour comprendre les comportements des consommateurs et optimiser les stratégies marketing des entreprises.\n",
    "\n",
    "L’analyse de la personnalité des clients est une analyse détaillée des clients idéaux d’une entreprise. Elle aide une entreprise à mieux comprendre ses clients et lui permet de modifier plus facilement ses produits en fonction des besoins, comportements et préoccupations spécifiques des différents types de clients.\n",
    "\n",
    "L’analyse de la personnalité des clients aide une entreprise à adapter son produit en fonction de ses clients cibles provenant de différents segments de clientèle. Par exemple, au lieu de dépenser de l’argent pour commercialiser un nouveau produit auprès de tous les clients de la base de données de l’entreprise, une entreprise peut analyser quel segment de clientèle est le plus susceptible d’acheter le produit et ensuite commercialiser le produit uniquement auprès de ce segment particulier.\n",
    "\n",
    "Finalement, l’objectif de notre analyse est de dégager des tendances et d’identifier des segments de clients ayant des comportements similaires. Cela permettra d'affiner les stratégies marketing et d’optimiser les campagnes futures. Nous utiliserons des outils statistiques et des visualisations pour mieux comprendre les données.\n",
    "\n",
    "#### Jeu de données à analyser :\n",
    "\n",
    "* People\n",
    "\n",
    "    ID: Customer's unique identifier  \n",
    "    Year_Birth: Customer's birth year  \n",
    "    Education: Customer's education level  \n",
    "    Marital_Status: Customer's marital status  \n",
    "    Income: Customer's yearly household income  \n",
    "    Kidhome: Number of children in customer's household  \n",
    "    Teenhome: Number of teenagers in customer's household  \n",
    "    Dt_Customer: Date of customer's enrollment with the company  \n",
    "    Recency: Number of days since customer's last purchase  \n",
    "    Complain: 1 if the customer complained in the last 2 years, 0 otherwise  \n",
    "\n",
    "* Products\n",
    "\n",
    "    MntWines: Amount spent on wine in last 2 years  \n",
    "    MntFruits: Amount spent on fruits in last 2 years  \n",
    "    MntMeatProducts: Amount spent on meat in last 2 years  \n",
    "    MntFishProducts: Amount spent on fish in last 2 years  \n",
    "    MntSweetProducts: Amount spent on sweets in last 2 years  \n",
    "    MntGoldProds: Amount spent on gold in last 2 years  \n",
    "\n",
    "* Promotion\n",
    "\n",
    "    NumDealsPurchases: Number of purchases made with a discount  \n",
    "    AcceptedCmp1: 1 if customer accepted the offer in the 1st campaign, 0 otherwise  \n",
    "    AcceptedCmp2: 1 if customer accepted the offer in the 2nd campaign, 0 otherwise  \n",
    "    AcceptedCmp3: 1 if customer accepted the offer in the 3rd campaign, 0 otherwise  \n",
    "    AcceptedCmp4: 1 if customer accepted the offer in the 4th campaign, 0 otherwise  \n",
    "    AcceptedCmp5: 1 if customer accepted the offer in the 5th campaign, 0 otherwise  \n",
    "    Response: 1 if customer accepted the offer in the last campaign, 0 otherwise  \n",
    "\n",
    "* Place\n",
    "\n",
    "    NumWebPurchases: Number of purchases made through the company’s website  \n",
    "    NumCatalogPurchases: Number of purchases made using a catalogue  \n",
    "    NumStorePurchases: Number of purchases made directly in stores  \n",
    "    NumWebVisitsMonth: Number of visits to company’s website in the last month  \n",
    "\n",
    "#### Questions sucitées :\n",
    "\n",
    "* Qualité du jeu de données proposé ?\n",
    "* Un pre-processing des données est-il nécessaire ?\n",
    "* Comment se comportent les différentes variables entre elles ?\n",
    "* Les achats dépendent-ils du style de vie de l'acheteur (famille, marié, revenu etc) ?\n",
    "* Les promotions proposées sont elles efficaces ? Sur quels types de clients ? Sur quels types de produits ?\n",
    "* Quels endroits de ventes sont le plus utilisés ? Sur quels types de clients ? Sur quels types de produits ?\n",
    "* Des profils de clients se dessinent-ils ? Si oui, quels types de clients, quels types d'achats, grace à quels endroits de ventes ?"
   ]
  },
  {
   "cell_type": "markdown",
   "id": "e9a5420f-5b9e-4cbf-a448-35246e7a9810",
   "metadata": {},
   "source": [
    "## I- Installation des packages utilisés et chargement des données : "
   ]
  },
  {
   "cell_type": "code",
   "execution_count": 42,
   "id": "71f19832-becb-4875-be8e-3f1185aa0ec1",
   "metadata": {},
   "outputs": [
    {
     "name": "stderr",
     "output_type": "stream",
     "text": [
      "Le chargement a nécessité le package : registry\n",
      "\n",
      "Le chargement a nécessité le package : rngtools\n",
      "\n",
      "Le chargement a nécessité le package : cluster\n",
      "\n",
      "NMF - BioConductor layer [OK] | Shared memory capabilities [NO: bigmemory] | Cores 2/2\n",
      "\n",
      "  To enable shared memory capabilities, try: install.extras('\n",
      "NMF\n",
      "')\n",
      "\n",
      "\n",
      "Attachement du package : ‘NMF’\n",
      "\n",
      "\n",
      "L'objet suivant est masqué depuis ‘package:generics’:\n",
      "\n",
      "    fit\n",
      "\n",
      "\n"
     ]
    }
   ],
   "source": [
    "library(ggplot2)\n",
    "library(graphics)\n",
    "library(corrplot)\n",
    "library(FactoMineR)\n",
    "library(factoextra)\n",
    "library(GGally)\n",
    "library(dplyr)\n",
    "library(scales) \n",
    "library(NMF)"
   ]
  },
  {
   "cell_type": "markdown",
   "id": "b3b6c534-bf8f-468e-a2ad-6742d93e5aaf",
   "metadata": {},
   "source": [
    "On charge nos données."
   ]
  },
  {
   "cell_type": "code",
   "execution_count": 2,
   "id": "6f2207be-ac5f-4bce-912a-f516c7f8bd1f",
   "metadata": {},
   "outputs": [
    {
     "data": {
      "text/html": [
       "<table class=\"dataframe\">\n",
       "<caption>A data.frame: 6 × 29</caption>\n",
       "<thead>\n",
       "\t<tr><th></th><th scope=col>ID</th><th scope=col>Year_Birth</th><th scope=col>Education</th><th scope=col>Marital_Status</th><th scope=col>Income</th><th scope=col>Kidhome</th><th scope=col>Teenhome</th><th scope=col>Dt_Customer</th><th scope=col>Recency</th><th scope=col>MntWines</th><th scope=col>⋯</th><th scope=col>NumWebVisitsMonth</th><th scope=col>AcceptedCmp3</th><th scope=col>AcceptedCmp4</th><th scope=col>AcceptedCmp5</th><th scope=col>AcceptedCmp1</th><th scope=col>AcceptedCmp2</th><th scope=col>Complain</th><th scope=col>Z_CostContact</th><th scope=col>Z_Revenue</th><th scope=col>Response</th></tr>\n",
       "\t<tr><th></th><th scope=col>&lt;int&gt;</th><th scope=col>&lt;int&gt;</th><th scope=col>&lt;chr&gt;</th><th scope=col>&lt;chr&gt;</th><th scope=col>&lt;int&gt;</th><th scope=col>&lt;int&gt;</th><th scope=col>&lt;int&gt;</th><th scope=col>&lt;chr&gt;</th><th scope=col>&lt;int&gt;</th><th scope=col>&lt;int&gt;</th><th scope=col>⋯</th><th scope=col>&lt;int&gt;</th><th scope=col>&lt;int&gt;</th><th scope=col>&lt;int&gt;</th><th scope=col>&lt;int&gt;</th><th scope=col>&lt;int&gt;</th><th scope=col>&lt;int&gt;</th><th scope=col>&lt;int&gt;</th><th scope=col>&lt;int&gt;</th><th scope=col>&lt;int&gt;</th><th scope=col>&lt;int&gt;</th></tr>\n",
       "</thead>\n",
       "<tbody>\n",
       "\t<tr><th scope=row>1</th><td>5524</td><td>1957</td><td>Graduation</td><td>Single  </td><td>58138</td><td>0</td><td>0</td><td>04-09-2012</td><td>58</td><td>635</td><td>⋯</td><td>7</td><td>0</td><td>0</td><td>0</td><td>0</td><td>0</td><td>0</td><td>3</td><td>11</td><td>1</td></tr>\n",
       "\t<tr><th scope=row>2</th><td>2174</td><td>1954</td><td>Graduation</td><td>Single  </td><td>46344</td><td>1</td><td>1</td><td>08-03-2014</td><td>38</td><td> 11</td><td>⋯</td><td>5</td><td>0</td><td>0</td><td>0</td><td>0</td><td>0</td><td>0</td><td>3</td><td>11</td><td>0</td></tr>\n",
       "\t<tr><th scope=row>3</th><td>4141</td><td>1965</td><td>Graduation</td><td>Together</td><td>71613</td><td>0</td><td>0</td><td>21-08-2013</td><td>26</td><td>426</td><td>⋯</td><td>4</td><td>0</td><td>0</td><td>0</td><td>0</td><td>0</td><td>0</td><td>3</td><td>11</td><td>0</td></tr>\n",
       "\t<tr><th scope=row>4</th><td>6182</td><td>1984</td><td>Graduation</td><td>Together</td><td>26646</td><td>1</td><td>0</td><td>10-02-2014</td><td>26</td><td> 11</td><td>⋯</td><td>6</td><td>0</td><td>0</td><td>0</td><td>0</td><td>0</td><td>0</td><td>3</td><td>11</td><td>0</td></tr>\n",
       "\t<tr><th scope=row>5</th><td>5324</td><td>1981</td><td>PhD       </td><td>Married </td><td>58293</td><td>1</td><td>0</td><td>19-01-2014</td><td>94</td><td>173</td><td>⋯</td><td>5</td><td>0</td><td>0</td><td>0</td><td>0</td><td>0</td><td>0</td><td>3</td><td>11</td><td>0</td></tr>\n",
       "\t<tr><th scope=row>6</th><td>7446</td><td>1967</td><td>Master    </td><td>Together</td><td>62513</td><td>0</td><td>1</td><td>09-09-2013</td><td>16</td><td>520</td><td>⋯</td><td>6</td><td>0</td><td>0</td><td>0</td><td>0</td><td>0</td><td>0</td><td>3</td><td>11</td><td>0</td></tr>\n",
       "</tbody>\n",
       "</table>\n"
      ],
      "text/latex": [
       "A data.frame: 6 × 29\n",
       "\\begin{tabular}{r|lllllllllllllllllllll}\n",
       "  & ID & Year\\_Birth & Education & Marital\\_Status & Income & Kidhome & Teenhome & Dt\\_Customer & Recency & MntWines & ⋯ & NumWebVisitsMonth & AcceptedCmp3 & AcceptedCmp4 & AcceptedCmp5 & AcceptedCmp1 & AcceptedCmp2 & Complain & Z\\_CostContact & Z\\_Revenue & Response\\\\\n",
       "  & <int> & <int> & <chr> & <chr> & <int> & <int> & <int> & <chr> & <int> & <int> & ⋯ & <int> & <int> & <int> & <int> & <int> & <int> & <int> & <int> & <int> & <int>\\\\\n",
       "\\hline\n",
       "\t1 & 5524 & 1957 & Graduation & Single   & 58138 & 0 & 0 & 04-09-2012 & 58 & 635 & ⋯ & 7 & 0 & 0 & 0 & 0 & 0 & 0 & 3 & 11 & 1\\\\\n",
       "\t2 & 2174 & 1954 & Graduation & Single   & 46344 & 1 & 1 & 08-03-2014 & 38 &  11 & ⋯ & 5 & 0 & 0 & 0 & 0 & 0 & 0 & 3 & 11 & 0\\\\\n",
       "\t3 & 4141 & 1965 & Graduation & Together & 71613 & 0 & 0 & 21-08-2013 & 26 & 426 & ⋯ & 4 & 0 & 0 & 0 & 0 & 0 & 0 & 3 & 11 & 0\\\\\n",
       "\t4 & 6182 & 1984 & Graduation & Together & 26646 & 1 & 0 & 10-02-2014 & 26 &  11 & ⋯ & 6 & 0 & 0 & 0 & 0 & 0 & 0 & 3 & 11 & 0\\\\\n",
       "\t5 & 5324 & 1981 & PhD        & Married  & 58293 & 1 & 0 & 19-01-2014 & 94 & 173 & ⋯ & 5 & 0 & 0 & 0 & 0 & 0 & 0 & 3 & 11 & 0\\\\\n",
       "\t6 & 7446 & 1967 & Master     & Together & 62513 & 0 & 1 & 09-09-2013 & 16 & 520 & ⋯ & 6 & 0 & 0 & 0 & 0 & 0 & 0 & 3 & 11 & 0\\\\\n",
       "\\end{tabular}\n"
      ],
      "text/markdown": [
       "\n",
       "A data.frame: 6 × 29\n",
       "\n",
       "| <!--/--> | ID &lt;int&gt; | Year_Birth &lt;int&gt; | Education &lt;chr&gt; | Marital_Status &lt;chr&gt; | Income &lt;int&gt; | Kidhome &lt;int&gt; | Teenhome &lt;int&gt; | Dt_Customer &lt;chr&gt; | Recency &lt;int&gt; | MntWines &lt;int&gt; | ⋯ ⋯ | NumWebVisitsMonth &lt;int&gt; | AcceptedCmp3 &lt;int&gt; | AcceptedCmp4 &lt;int&gt; | AcceptedCmp5 &lt;int&gt; | AcceptedCmp1 &lt;int&gt; | AcceptedCmp2 &lt;int&gt; | Complain &lt;int&gt; | Z_CostContact &lt;int&gt; | Z_Revenue &lt;int&gt; | Response &lt;int&gt; |\n",
       "|---|---|---|---|---|---|---|---|---|---|---|---|---|---|---|---|---|---|---|---|---|---|\n",
       "| 1 | 5524 | 1957 | Graduation | Single   | 58138 | 0 | 0 | 04-09-2012 | 58 | 635 | ⋯ | 7 | 0 | 0 | 0 | 0 | 0 | 0 | 3 | 11 | 1 |\n",
       "| 2 | 2174 | 1954 | Graduation | Single   | 46344 | 1 | 1 | 08-03-2014 | 38 |  11 | ⋯ | 5 | 0 | 0 | 0 | 0 | 0 | 0 | 3 | 11 | 0 |\n",
       "| 3 | 4141 | 1965 | Graduation | Together | 71613 | 0 | 0 | 21-08-2013 | 26 | 426 | ⋯ | 4 | 0 | 0 | 0 | 0 | 0 | 0 | 3 | 11 | 0 |\n",
       "| 4 | 6182 | 1984 | Graduation | Together | 26646 | 1 | 0 | 10-02-2014 | 26 |  11 | ⋯ | 6 | 0 | 0 | 0 | 0 | 0 | 0 | 3 | 11 | 0 |\n",
       "| 5 | 5324 | 1981 | PhD        | Married  | 58293 | 1 | 0 | 19-01-2014 | 94 | 173 | ⋯ | 5 | 0 | 0 | 0 | 0 | 0 | 0 | 3 | 11 | 0 |\n",
       "| 6 | 7446 | 1967 | Master     | Together | 62513 | 0 | 1 | 09-09-2013 | 16 | 520 | ⋯ | 6 | 0 | 0 | 0 | 0 | 0 | 0 | 3 | 11 | 0 |\n",
       "\n"
      ],
      "text/plain": [
       "  ID   Year_Birth Education  Marital_Status Income Kidhome Teenhome Dt_Customer\n",
       "1 5524 1957       Graduation Single         58138  0       0        04-09-2012 \n",
       "2 2174 1954       Graduation Single         46344  1       1        08-03-2014 \n",
       "3 4141 1965       Graduation Together       71613  0       0        21-08-2013 \n",
       "4 6182 1984       Graduation Together       26646  1       0        10-02-2014 \n",
       "5 5324 1981       PhD        Married        58293  1       0        19-01-2014 \n",
       "6 7446 1967       Master     Together       62513  0       1        09-09-2013 \n",
       "  Recency MntWines ⋯ NumWebVisitsMonth AcceptedCmp3 AcceptedCmp4 AcceptedCmp5\n",
       "1 58      635      ⋯ 7                 0            0            0           \n",
       "2 38       11      ⋯ 5                 0            0            0           \n",
       "3 26      426      ⋯ 4                 0            0            0           \n",
       "4 26       11      ⋯ 6                 0            0            0           \n",
       "5 94      173      ⋯ 5                 0            0            0           \n",
       "6 16      520      ⋯ 6                 0            0            0           \n",
       "  AcceptedCmp1 AcceptedCmp2 Complain Z_CostContact Z_Revenue Response\n",
       "1 0            0            0        3             11        1       \n",
       "2 0            0            0        3             11        0       \n",
       "3 0            0            0        3             11        0       \n",
       "4 0            0            0        3             11        0       \n",
       "5 0            0            0        3             11        0       \n",
       "6 0            0            0        3             11        0       "
      ]
     },
     "metadata": {},
     "output_type": "display_data"
    }
   ],
   "source": [
    "data <- read.csv(\"marketing_campaign.csv\", header=TRUE, sep=\"\\t\")\n",
    "head(data)"
   ]
  },
  {
   "cell_type": "code",
   "execution_count": 3,
   "id": "faa575bd-b6ed-4db0-abc0-cc87ef81892a",
   "metadata": {},
   "outputs": [
    {
     "data": {
      "text/plain": [
       "       ID          Year_Birth    Education         Marital_Status    \n",
       " Min.   :    0   Min.   :1893   Length:2240        Length:2240       \n",
       " 1st Qu.: 2828   1st Qu.:1959   Class :character   Class :character  \n",
       " Median : 5458   Median :1970   Mode  :character   Mode  :character  \n",
       " Mean   : 5592   Mean   :1969                                        \n",
       " 3rd Qu.: 8428   3rd Qu.:1977                                        \n",
       " Max.   :11191   Max.   :1996                                        \n",
       "                                                                     \n",
       "     Income          Kidhome          Teenhome      Dt_Customer       \n",
       " Min.   :  1730   Min.   :0.0000   Min.   :0.0000   Length:2240       \n",
       " 1st Qu.: 35303   1st Qu.:0.0000   1st Qu.:0.0000   Class :character  \n",
       " Median : 51382   Median :0.0000   Median :0.0000   Mode  :character  \n",
       " Mean   : 52247   Mean   :0.4442   Mean   :0.5062                     \n",
       " 3rd Qu.: 68522   3rd Qu.:1.0000   3rd Qu.:1.0000                     \n",
       " Max.   :666666   Max.   :2.0000   Max.   :2.0000                     \n",
       " NA's   :24                                                           \n",
       "    Recency         MntWines         MntFruits     MntMeatProducts \n",
       " Min.   : 0.00   Min.   :   0.00   Min.   :  0.0   Min.   :   0.0  \n",
       " 1st Qu.:24.00   1st Qu.:  23.75   1st Qu.:  1.0   1st Qu.:  16.0  \n",
       " Median :49.00   Median : 173.50   Median :  8.0   Median :  67.0  \n",
       " Mean   :49.11   Mean   : 303.94   Mean   : 26.3   Mean   : 166.9  \n",
       " 3rd Qu.:74.00   3rd Qu.: 504.25   3rd Qu.: 33.0   3rd Qu.: 232.0  \n",
       " Max.   :99.00   Max.   :1493.00   Max.   :199.0   Max.   :1725.0  \n",
       "                                                                   \n",
       " MntFishProducts  MntSweetProducts  MntGoldProds    NumDealsPurchases\n",
       " Min.   :  0.00   Min.   :  0.00   Min.   :  0.00   Min.   : 0.000   \n",
       " 1st Qu.:  3.00   1st Qu.:  1.00   1st Qu.:  9.00   1st Qu.: 1.000   \n",
       " Median : 12.00   Median :  8.00   Median : 24.00   Median : 2.000   \n",
       " Mean   : 37.53   Mean   : 27.06   Mean   : 44.02   Mean   : 2.325   \n",
       " 3rd Qu.: 50.00   3rd Qu.: 33.00   3rd Qu.: 56.00   3rd Qu.: 3.000   \n",
       " Max.   :259.00   Max.   :263.00   Max.   :362.00   Max.   :15.000   \n",
       "                                                                     \n",
       " NumWebPurchases  NumCatalogPurchases NumStorePurchases NumWebVisitsMonth\n",
       " Min.   : 0.000   Min.   : 0.000      Min.   : 0.00     Min.   : 0.000   \n",
       " 1st Qu.: 2.000   1st Qu.: 0.000      1st Qu.: 3.00     1st Qu.: 3.000   \n",
       " Median : 4.000   Median : 2.000      Median : 5.00     Median : 6.000   \n",
       " Mean   : 4.085   Mean   : 2.662      Mean   : 5.79     Mean   : 5.317   \n",
       " 3rd Qu.: 6.000   3rd Qu.: 4.000      3rd Qu.: 8.00     3rd Qu.: 7.000   \n",
       " Max.   :27.000   Max.   :28.000      Max.   :13.00     Max.   :20.000   \n",
       "                                                                         \n",
       "  AcceptedCmp3      AcceptedCmp4      AcceptedCmp5      AcceptedCmp1    \n",
       " Min.   :0.00000   Min.   :0.00000   Min.   :0.00000   Min.   :0.00000  \n",
       " 1st Qu.:0.00000   1st Qu.:0.00000   1st Qu.:0.00000   1st Qu.:0.00000  \n",
       " Median :0.00000   Median :0.00000   Median :0.00000   Median :0.00000  \n",
       " Mean   :0.07277   Mean   :0.07455   Mean   :0.07277   Mean   :0.06429  \n",
       " 3rd Qu.:0.00000   3rd Qu.:0.00000   3rd Qu.:0.00000   3rd Qu.:0.00000  \n",
       " Max.   :1.00000   Max.   :1.00000   Max.   :1.00000   Max.   :1.00000  \n",
       "                                                                        \n",
       "  AcceptedCmp2        Complain        Z_CostContact   Z_Revenue \n",
       " Min.   :0.00000   Min.   :0.000000   Min.   :3     Min.   :11  \n",
       " 1st Qu.:0.00000   1st Qu.:0.000000   1st Qu.:3     1st Qu.:11  \n",
       " Median :0.00000   Median :0.000000   Median :3     Median :11  \n",
       " Mean   :0.01339   Mean   :0.009375   Mean   :3     Mean   :11  \n",
       " 3rd Qu.:0.00000   3rd Qu.:0.000000   3rd Qu.:3     3rd Qu.:11  \n",
       " Max.   :1.00000   Max.   :1.000000   Max.   :3     Max.   :11  \n",
       "                                                                \n",
       "    Response     \n",
       " Min.   :0.0000  \n",
       " 1st Qu.:0.0000  \n",
       " Median :0.0000  \n",
       " Mean   :0.1491  \n",
       " 3rd Qu.:0.0000  \n",
       " Max.   :1.0000  \n",
       "                 "
      ]
     },
     "metadata": {},
     "output_type": "display_data"
    }
   ],
   "source": [
    "summary(data)"
   ]
  },
  {
   "cell_type": "markdown",
   "id": "86db757a-3cef-420d-a14e-4f82703a5e44",
   "metadata": {},
   "source": [
    "# II- Analyse unidimensionnelle : "
   ]
  },
  {
   "cell_type": "markdown",
   "id": "abbd3056-7726-407e-ad29-7ac7b880d665",
   "metadata": {},
   "source": [
    "## 2.1 Données inutiles"
   ]
  },
  {
   "cell_type": "markdown",
   "id": "a0e34ba7-b53a-4777-a5d7-bb9d227f97da",
   "metadata": {},
   "source": [
    "On remarque que les colonnes 'Z_CostContact' et 'Z_Revenue' contiennent les mêmes valeurs pour tous les individus et on conclut que ces données nous ne seront pas utiles pour l'analyse que l'on veut effectuer dans le cadre de ce projet. On les retire donc de notre dataset."
   ]
  },
  {
   "cell_type": "code",
   "execution_count": 3,
   "id": "a7ed632e-91a1-42fc-a3ce-79ec4fe44464",
   "metadata": {},
   "outputs": [
    {
     "data": {
      "text/plain": [
       "       ID          Year_Birth    Education         Marital_Status    \n",
       " Min.   :    0   Min.   :1893   Length:2240        Length:2240       \n",
       " 1st Qu.: 2828   1st Qu.:1959   Class :character   Class :character  \n",
       " Median : 5458   Median :1970   Mode  :character   Mode  :character  \n",
       " Mean   : 5592   Mean   :1969                                        \n",
       " 3rd Qu.: 8428   3rd Qu.:1977                                        \n",
       " Max.   :11191   Max.   :1996                                        \n",
       "                                                                     \n",
       "     Income          Kidhome          Teenhome      Dt_Customer       \n",
       " Min.   :  1730   Min.   :0.0000   Min.   :0.0000   Length:2240       \n",
       " 1st Qu.: 35303   1st Qu.:0.0000   1st Qu.:0.0000   Class :character  \n",
       " Median : 51382   Median :0.0000   Median :0.0000   Mode  :character  \n",
       " Mean   : 52247   Mean   :0.4442   Mean   :0.5062                     \n",
       " 3rd Qu.: 68522   3rd Qu.:1.0000   3rd Qu.:1.0000                     \n",
       " Max.   :666666   Max.   :2.0000   Max.   :2.0000                     \n",
       " NA's   :24                                                           \n",
       "    Recency         MntWines         MntFruits     MntMeatProducts \n",
       " Min.   : 0.00   Min.   :   0.00   Min.   :  0.0   Min.   :   0.0  \n",
       " 1st Qu.:24.00   1st Qu.:  23.75   1st Qu.:  1.0   1st Qu.:  16.0  \n",
       " Median :49.00   Median : 173.50   Median :  8.0   Median :  67.0  \n",
       " Mean   :49.11   Mean   : 303.94   Mean   : 26.3   Mean   : 166.9  \n",
       " 3rd Qu.:74.00   3rd Qu.: 504.25   3rd Qu.: 33.0   3rd Qu.: 232.0  \n",
       " Max.   :99.00   Max.   :1493.00   Max.   :199.0   Max.   :1725.0  \n",
       "                                                                   \n",
       " MntFishProducts  MntSweetProducts  MntGoldProds    NumDealsPurchases\n",
       " Min.   :  0.00   Min.   :  0.00   Min.   :  0.00   Min.   : 0.000   \n",
       " 1st Qu.:  3.00   1st Qu.:  1.00   1st Qu.:  9.00   1st Qu.: 1.000   \n",
       " Median : 12.00   Median :  8.00   Median : 24.00   Median : 2.000   \n",
       " Mean   : 37.53   Mean   : 27.06   Mean   : 44.02   Mean   : 2.325   \n",
       " 3rd Qu.: 50.00   3rd Qu.: 33.00   3rd Qu.: 56.00   3rd Qu.: 3.000   \n",
       " Max.   :259.00   Max.   :263.00   Max.   :362.00   Max.   :15.000   \n",
       "                                                                     \n",
       " NumWebPurchases  NumCatalogPurchases NumStorePurchases NumWebVisitsMonth\n",
       " Min.   : 0.000   Min.   : 0.000      Min.   : 0.00     Min.   : 0.000   \n",
       " 1st Qu.: 2.000   1st Qu.: 0.000      1st Qu.: 3.00     1st Qu.: 3.000   \n",
       " Median : 4.000   Median : 2.000      Median : 5.00     Median : 6.000   \n",
       " Mean   : 4.085   Mean   : 2.662      Mean   : 5.79     Mean   : 5.317   \n",
       " 3rd Qu.: 6.000   3rd Qu.: 4.000      3rd Qu.: 8.00     3rd Qu.: 7.000   \n",
       " Max.   :27.000   Max.   :28.000      Max.   :13.00     Max.   :20.000   \n",
       "                                                                         \n",
       "  AcceptedCmp3      AcceptedCmp4      AcceptedCmp5      AcceptedCmp1    \n",
       " Min.   :0.00000   Min.   :0.00000   Min.   :0.00000   Min.   :0.00000  \n",
       " 1st Qu.:0.00000   1st Qu.:0.00000   1st Qu.:0.00000   1st Qu.:0.00000  \n",
       " Median :0.00000   Median :0.00000   Median :0.00000   Median :0.00000  \n",
       " Mean   :0.07277   Mean   :0.07455   Mean   :0.07277   Mean   :0.06429  \n",
       " 3rd Qu.:0.00000   3rd Qu.:0.00000   3rd Qu.:0.00000   3rd Qu.:0.00000  \n",
       " Max.   :1.00000   Max.   :1.00000   Max.   :1.00000   Max.   :1.00000  \n",
       "                                                                        \n",
       "  AcceptedCmp2        Complain           Response     \n",
       " Min.   :0.00000   Min.   :0.000000   Min.   :0.0000  \n",
       " 1st Qu.:0.00000   1st Qu.:0.000000   1st Qu.:0.0000  \n",
       " Median :0.00000   Median :0.000000   Median :0.0000  \n",
       " Mean   :0.01339   Mean   :0.009375   Mean   :0.1491  \n",
       " 3rd Qu.:0.00000   3rd Qu.:0.000000   3rd Qu.:0.0000  \n",
       " Max.   :1.00000   Max.   :1.000000   Max.   :1.0000  \n",
       "                                                      "
      ]
     },
     "metadata": {},
     "output_type": "display_data"
    }
   ],
   "source": [
    "data<-data[,-27]\n",
    "data<-data[,-27]\n",
    "summary(data)"
   ]
  },
  {
   "cell_type": "markdown",
   "id": "949af29a-f64e-41ca-b3f4-6d3045ed5a86",
   "metadata": {},
   "source": [
    "## 2.2 Valeurs manquantes"
   ]
  },
  {
   "cell_type": "markdown",
   "id": "97232c86-d0ad-444c-ad91-412400f87007",
   "metadata": {},
   "source": [
    "Regardons maintenant si certaines données sont manquantes/incomplètes."
   ]
  },
  {
   "cell_type": "code",
   "execution_count": 5,
   "id": "b66c2da8-77a7-4448-b226-6109588cb364",
   "metadata": {},
   "outputs": [
    {
     "data": {
      "text/html": [
       "'Income'"
      ],
      "text/latex": [
       "'Income'"
      ],
      "text/markdown": [
       "'Income'"
      ],
      "text/plain": [
       "[1] \"Income\""
      ]
     },
     "metadata": {},
     "output_type": "display_data"
    }
   ],
   "source": [
    "colnames(data)[apply(data, 2, anyNA)]"
   ]
  },
  {
   "cell_type": "markdown",
   "id": "07b48c26-368a-43e0-a400-29067de3f4fe",
   "metadata": {},
   "source": [
    "Ici on remarque que la variable 'Income' est incomplète (24 valeurs sont manquantes comme on peut le voir dans le summary ci-dessus).\n",
    "On décide donc de remplacer ces valeurs par la médiane des valeurs complètes de Income. \n",
    "On utilise la médiane au lieu de la moyenne pour que les outliers (ici 6666) n'influencent la valeur que l'on va prendre."
   ]
  },
  {
   "cell_type": "code",
   "execution_count": 6,
   "id": "23cc55e6-2201-44d3-82f5-667f94ff1d3e",
   "metadata": {},
   "outputs": [],
   "source": [
    "data$Income <-ifelse(is.na(data$Income), median(data$Income, na.rm = TRUE), data$Income)"
   ]
  },
  {
   "cell_type": "markdown",
   "id": "7c51ab3f-1cf2-4d04-ab37-4dd7aaebef94",
   "metadata": {},
   "source": [
    "## 2.3 Changement du type des données"
   ]
  },
  {
   "cell_type": "code",
   "execution_count": 7,
   "id": "3d01038f-6982-4850-a4e3-30ffdd0856b5",
   "metadata": {},
   "outputs": [
    {
     "data": {
      "text/plain": [
       "       ID          Year_Birth    Education         Marital_Status    \n",
       " Min.   :    0   Min.   :1893   Length:2240        Length:2240       \n",
       " 1st Qu.: 2828   1st Qu.:1959   Class :character   Class :character  \n",
       " Median : 5458   Median :1970   Mode  :character   Mode  :character  \n",
       " Mean   : 5592   Mean   :1969                                        \n",
       " 3rd Qu.: 8428   3rd Qu.:1977                                        \n",
       " Max.   :11191   Max.   :1996                                        \n",
       "     Income          Kidhome          Teenhome      Dt_Customer       \n",
       " Min.   :  1730   Min.   :0.0000   Min.   :0.0000   Length:2240       \n",
       " 1st Qu.: 35539   1st Qu.:0.0000   1st Qu.:0.0000   Class :character  \n",
       " Median : 51382   Median :0.0000   Median :0.0000   Mode  :character  \n",
       " Mean   : 52238   Mean   :0.4442   Mean   :0.5062                     \n",
       " 3rd Qu.: 68290   3rd Qu.:1.0000   3rd Qu.:1.0000                     \n",
       " Max.   :666666   Max.   :2.0000   Max.   :2.0000                     \n",
       "    Recency         MntWines         MntFruits     MntMeatProducts \n",
       " Min.   : 0.00   Min.   :   0.00   Min.   :  0.0   Min.   :   0.0  \n",
       " 1st Qu.:24.00   1st Qu.:  23.75   1st Qu.:  1.0   1st Qu.:  16.0  \n",
       " Median :49.00   Median : 173.50   Median :  8.0   Median :  67.0  \n",
       " Mean   :49.11   Mean   : 303.94   Mean   : 26.3   Mean   : 166.9  \n",
       " 3rd Qu.:74.00   3rd Qu.: 504.25   3rd Qu.: 33.0   3rd Qu.: 232.0  \n",
       " Max.   :99.00   Max.   :1493.00   Max.   :199.0   Max.   :1725.0  \n",
       " MntFishProducts  MntSweetProducts  MntGoldProds    NumDealsPurchases\n",
       " Min.   :  0.00   Min.   :  0.00   Min.   :  0.00   Min.   : 0.000   \n",
       " 1st Qu.:  3.00   1st Qu.:  1.00   1st Qu.:  9.00   1st Qu.: 1.000   \n",
       " Median : 12.00   Median :  8.00   Median : 24.00   Median : 2.000   \n",
       " Mean   : 37.53   Mean   : 27.06   Mean   : 44.02   Mean   : 2.325   \n",
       " 3rd Qu.: 50.00   3rd Qu.: 33.00   3rd Qu.: 56.00   3rd Qu.: 3.000   \n",
       " Max.   :259.00   Max.   :263.00   Max.   :362.00   Max.   :15.000   \n",
       " NumWebPurchases  NumCatalogPurchases NumStorePurchases NumWebVisitsMonth\n",
       " Min.   : 0.000   Min.   : 0.000      Min.   : 0.00     Min.   : 0.000   \n",
       " 1st Qu.: 2.000   1st Qu.: 0.000      1st Qu.: 3.00     1st Qu.: 3.000   \n",
       " Median : 4.000   Median : 2.000      Median : 5.00     Median : 6.000   \n",
       " Mean   : 4.085   Mean   : 2.662      Mean   : 5.79     Mean   : 5.317   \n",
       " 3rd Qu.: 6.000   3rd Qu.: 4.000      3rd Qu.: 8.00     3rd Qu.: 7.000   \n",
       " Max.   :27.000   Max.   :28.000      Max.   :13.00     Max.   :20.000   \n",
       "  AcceptedCmp3      AcceptedCmp4      AcceptedCmp5      AcceptedCmp1    \n",
       " Min.   :0.00000   Min.   :0.00000   Min.   :0.00000   Min.   :0.00000  \n",
       " 1st Qu.:0.00000   1st Qu.:0.00000   1st Qu.:0.00000   1st Qu.:0.00000  \n",
       " Median :0.00000   Median :0.00000   Median :0.00000   Median :0.00000  \n",
       " Mean   :0.07277   Mean   :0.07455   Mean   :0.07277   Mean   :0.06429  \n",
       " 3rd Qu.:0.00000   3rd Qu.:0.00000   3rd Qu.:0.00000   3rd Qu.:0.00000  \n",
       " Max.   :1.00000   Max.   :1.00000   Max.   :1.00000   Max.   :1.00000  \n",
       "  AcceptedCmp2        Complain           Response     \n",
       " Min.   :0.00000   Min.   :0.000000   Min.   :0.0000  \n",
       " 1st Qu.:0.00000   1st Qu.:0.000000   1st Qu.:0.0000  \n",
       " Median :0.00000   Median :0.000000   Median :0.0000  \n",
       " Mean   :0.01339   Mean   :0.009375   Mean   :0.1491  \n",
       " 3rd Qu.:0.00000   3rd Qu.:0.000000   3rd Qu.:0.0000  \n",
       " Max.   :1.00000   Max.   :1.000000   Max.   :1.0000  "
      ]
     },
     "metadata": {},
     "output_type": "display_data"
    }
   ],
   "source": [
    "summary(data)"
   ]
  },
  {
   "cell_type": "code",
   "execution_count": 8,
   "id": "5a3f9189-99b6-4044-a057-597e64292b9c",
   "metadata": {},
   "outputs": [],
   "source": [
    "#on met en facteur les variables qualitatives pour pouvoir travailler dessus\n",
    "data[, \"Education\"] <- as.factor(data[, \"Education\"])\n",
    "data[, \"Marital_Status\"] <- as.factor(data[, \"Marital_Status\"])\n",
    "data[, \"Kidhome\"] <- as.factor(data[, \"Kidhome\"])\n",
    "data[, \"Teenhome\"] <- as.factor(data[, \"Teenhome\"])\n",
    "data[, \"AcceptedCmp3\"] <- as.factor(data[, \"AcceptedCmp3\"])\n",
    "data[, \"AcceptedCmp4\"] <- as.factor(data[, \"AcceptedCmp4\"])\n",
    "data[, \"AcceptedCmp5\"] <- as.factor(data[, \"AcceptedCmp5\"])\n",
    "data[, \"AcceptedCmp1\"] <- as.factor(data[, \"AcceptedCmp1\"])\n",
    "data[, \"AcceptedCmp2\"] <- as.factor(data[, \"AcceptedCmp2\"])\n",
    "data[, \"Complain\"] <- as.factor(data[, \"Complain\"])\n",
    "data[, \"Response\"] <- as.factor(data[, \"Response\"])"
   ]
  },
  {
   "cell_type": "markdown",
   "id": "e04fb246-8c6c-429e-9348-73290c3edfba",
   "metadata": {},
   "source": [
    "On transforme la variable Dt_Customer en Date, puis on la catégorise en trois niveaux d'ancienneté."
   ]
  },
  {
   "cell_type": "code",
   "execution_count": 9,
   "id": "0513c640-cd44-4d74-ae64-1b9951aa5ed4",
   "metadata": {},
   "outputs": [
    {
     "data": {
      "text/plain": [
       "       ID          Year_Birth        Education     Marital_Status\n",
       " Min.   :    0   Min.   :1893   2n Cycle  : 203   Married :864   \n",
       " 1st Qu.: 2828   1st Qu.:1959   Basic     :  54   Together:580   \n",
       " Median : 5458   Median :1970   Graduation:1127   Single  :480   \n",
       " Mean   : 5592   Mean   :1969   Master    : 370   Divorced:232   \n",
       " 3rd Qu.: 8428   3rd Qu.:1977   PhD       : 486   Widow   : 77   \n",
       " Max.   :11191   Max.   :1996                     Alone   :  3   \n",
       "                                                  (Other) :  4   \n",
       "     Income       Kidhome  Teenhome  Dt_Customer            Recency     \n",
       " Min.   :  1730   0:1293   0:1158   Min.   :2012-07-30   Min.   : 0.00  \n",
       " 1st Qu.: 35539   1: 899   1:1030   1st Qu.:2013-01-16   1st Qu.:24.00  \n",
       " Median : 51382   2:  48   2:  52   Median :2013-07-08   Median :49.00  \n",
       " Mean   : 52238                     Mean   :2013-07-10   Mean   :49.11  \n",
       " 3rd Qu.: 68290                     3rd Qu.:2013-12-30   3rd Qu.:74.00  \n",
       " Max.   :666666                     Max.   :2014-06-29   Max.   :99.00  \n",
       "                                                                        \n",
       "    MntWines         MntFruits     MntMeatProducts  MntFishProducts \n",
       " Min.   :   0.00   Min.   :  0.0   Min.   :   0.0   Min.   :  0.00  \n",
       " 1st Qu.:  23.75   1st Qu.:  1.0   1st Qu.:  16.0   1st Qu.:  3.00  \n",
       " Median : 173.50   Median :  8.0   Median :  67.0   Median : 12.00  \n",
       " Mean   : 303.94   Mean   : 26.3   Mean   : 166.9   Mean   : 37.53  \n",
       " 3rd Qu.: 504.25   3rd Qu.: 33.0   3rd Qu.: 232.0   3rd Qu.: 50.00  \n",
       " Max.   :1493.00   Max.   :199.0   Max.   :1725.0   Max.   :259.00  \n",
       "                                                                    \n",
       " MntSweetProducts  MntGoldProds    NumDealsPurchases NumWebPurchases \n",
       " Min.   :  0.00   Min.   :  0.00   Min.   : 0.000    Min.   : 0.000  \n",
       " 1st Qu.:  1.00   1st Qu.:  9.00   1st Qu.: 1.000    1st Qu.: 2.000  \n",
       " Median :  8.00   Median : 24.00   Median : 2.000    Median : 4.000  \n",
       " Mean   : 27.06   Mean   : 44.02   Mean   : 2.325    Mean   : 4.085  \n",
       " 3rd Qu.: 33.00   3rd Qu.: 56.00   3rd Qu.: 3.000    3rd Qu.: 6.000  \n",
       " Max.   :263.00   Max.   :362.00   Max.   :15.000    Max.   :27.000  \n",
       "                                                                     \n",
       " NumCatalogPurchases NumStorePurchases NumWebVisitsMonth AcceptedCmp3\n",
       " Min.   : 0.000      Min.   : 0.00     Min.   : 0.000    0:2077      \n",
       " 1st Qu.: 0.000      1st Qu.: 3.00     1st Qu.: 3.000    1: 163      \n",
       " Median : 2.000      Median : 5.00     Median : 6.000                \n",
       " Mean   : 2.662      Mean   : 5.79     Mean   : 5.317                \n",
       " 3rd Qu.: 4.000      3rd Qu.: 8.00     3rd Qu.: 7.000                \n",
       " Max.   :28.000      Max.   :13.00     Max.   :20.000                \n",
       "                                                                     \n",
       " AcceptedCmp4 AcceptedCmp5 AcceptedCmp1 AcceptedCmp2 Complain Response\n",
       " 0:2073       0:2077       0:2096       0:2210       0:2219   0:1906  \n",
       " 1: 167       1: 163       1: 144       1:  30       1:  21   1: 334  \n",
       "                                                                      \n",
       "                                                                      \n",
       "                                                                      \n",
       "                                                                      \n",
       "                                                                      \n",
       " Customer_Since_Months Customer_Dt_Category\n",
       " Min.   : 6.11         Récent: 557         \n",
       " 1st Qu.:12.05         Moyen :1189         \n",
       " Median :17.79         Ancien: 494         \n",
       " Mean   :17.73                             \n",
       " 3rd Qu.:23.49                             \n",
       " Max.   :29.07                             \n",
       "                                           "
      ]
     },
     "metadata": {},
     "output_type": "display_data"
    },
    {
     "data": {
      "image/png": "[encoded data removed]",
      "text/plain": [
       "plot without title"
      ]
     },
     "metadata": {
      "image/png": {
       "height": 420,
       "width": 420
      }
     },
     "output_type": "display_data"
    }
   ],
   "source": [
    "#on transforme la variable Dt_Customer en Date\n",
    "data[,\"Dt_Customer\"] <- as.Date(data$Dt_Customer, format = \"%d-%m-%Y\")\n",
    "#nombre de jours depuis le 01-01-2015\n",
    "data$Customer_Since_Months <- as.numeric(difftime(as.Date(\"2015-01-01\"), data$Dt_Customer,units = \"days\")) / 30.44\n",
    "#catégories d'ancienneté\n",
    "data$Customer_Dt_Category <- cut(data$Customer_Since_Months,\n",
    "                             breaks = c(-Inf, 12, 24, Inf),\n",
    "                          labels = c(\"Récent\", \"Moyen\", \"Ancien\"))\n",
    "boxplot(data$Customer_Since_Months)\n",
    "summary(data)"
   ]
  },
  {
   "cell_type": "markdown",
   "id": "abb87ee0-bfc7-424e-b5f3-b019c15abae9",
   "metadata": {},
   "source": [
    "## 2.4 Exploration et transformation des données quantitatives"
   ]
  },
  {
   "cell_type": "code",
   "execution_count": 10,
   "id": "f9ff1e05-a37f-4cb0-a95c-63637572059d",
   "metadata": {
    "scrolled": true
   },
   "outputs": [
    {
     "data": {
      "image/png": "[encoded data removed]",
      "text/plain": [
       "plot without title"
      ]
     },
     "metadata": {
      "image/png": {
       "height": 420,
       "width": 420
      }
     },
     "output_type": "display_data"
    }
   ],
   "source": [
    "par(mfrow = c(2, 4))  \n",
    "boxplot(data$Income)\n",
    "boxplot(data$Year_Birth)\n",
    "boxplot(data$Recency)\n",
    "boxplot(data$MntFruits)\n",
    "boxplot(data$MntWines)\n",
    "boxplot(data$MntMeatProducts)\n",
    "boxplot(data$MntFishProducts)"
   ]
  },
  {
   "cell_type": "markdown",
   "id": "5afcf908-a27c-4b3f-9bce-552ea9b7d9ac",
   "metadata": {},
   "source": [
    "### Analyse des outliers :"
   ]
  },
  {
   "cell_type": "markdown",
   "id": "0c720bef-6d6e-469b-8d54-2c7374714235",
   "metadata": {},
   "source": [
    "On fait les boxplots de chaque variables quantitatives pour observer si il y a des valeurs abérrantes.\n",
    "- ici on ne regarde pas la variable Dt_Customer que l'on transformera plus tard en numeric\n",
    "- on remarque plusieurs outliers au niveau de plusieurs variables que l'on va devoir enlever :"
   ]
  },
  {
   "cell_type": "markdown",
   "id": "191c7b18-6a69-4451-ac05-bf4a326d9ec8",
   "metadata": {},
   "source": [
    "Income : on voit un outlier "
   ]
  },
  {
   "cell_type": "code",
   "execution_count": 11,
   "id": "0b7176d2-a851-4fa0-a232-4d5a0249f83b",
   "metadata": {},
   "outputs": [
    {
     "data": {
      "image/png": "[encoded data removed]",
      "text/plain": [
       "Plot with title “Boxplot des Incomes”"
      ]
     },
     "metadata": {
      "image/png": {
       "height": 420,
       "width": 420
      }
     },
     "output_type": "display_data"
    }
   ],
   "source": [
    "boxplot(data$Income, main = \"Boxplot des Incomes\", ylab = \"Income\")"
   ]
  },
  {
   "cell_type": "code",
   "execution_count": 12,
   "id": "edeca095-4e34-4d76-8109-718eabbc8b66",
   "metadata": {},
   "outputs": [
    {
     "data": {
      "image/png": "[encoded data removed]",
      "text/plain": [
       "Plot with title “Boxplot des Incomes”"
      ]
     },
     "metadata": {
      "image/png": {
       "height": 420,
       "width": 420
      }
     },
     "output_type": "display_data"
    }
   ],
   "source": [
    "data_clean <- data[data$Income <= 500000, ]\n",
    "#verification : \n",
    "boxplot(data_clean$Income, main = \"Boxplot des Incomes\", ylab = \"Income\")"
   ]
  },
  {
   "cell_type": "markdown",
   "id": "a81bf5d9-54d2-4913-86ce-352fd2951da7",
   "metadata": {},
   "source": [
    "Year_Birth : plusieurs outliers"
   ]
  },
  {
   "cell_type": "code",
   "execution_count": 13,
   "id": "881e637b-4004-4831-ae51-3cadb38d1239",
   "metadata": {},
   "outputs": [
    {
     "data": {
      "image/png": "[encoded data removed]",
      "text/plain": [
       "Plot with title “Boxplot des années de naissance”"
      ]
     },
     "metadata": {
      "image/png": {
       "height": 420,
       "width": 420
      }
     },
     "output_type": "display_data"
    }
   ],
   "source": [
    "boxplot(data_clean$Year_Birth, main = \"Boxplot des années de naissance\", ylab = \"années de naissance\")"
   ]
  },
  {
   "cell_type": "code",
   "execution_count": 14,
   "id": "56af0258-2c58-4107-a819-19eefe94557a",
   "metadata": {},
   "outputs": [
    {
     "data": {
      "image/png": "[encoded data removed]",
      "text/plain": [
       "Plot with title “Boxplot des années de naissance”"
      ]
     },
     "metadata": {
      "image/png": {
       "height": 420,
       "width": 420
      }
     },
     "output_type": "display_data"
    }
   ],
   "source": [
    "data_clean <- data_clean[data_clean$Year_Birth > 1920, ]\n",
    "#verification :\n",
    "boxplot(data_clean$Year_Birth, main = \"Boxplot des années de naissance\", ylab = \"années de naissance\")"
   ]
  },
  {
   "cell_type": "markdown",
   "id": "9b71a220-db01-42b7-b8c8-42dd7d78ac33",
   "metadata": {},
   "source": [
    "MntMeatProducts : plusieurs outliers (ce ne sont pas forcément des données fausses mais l'objectif est de cibler des clients types, non des clients niches)"
   ]
  },
  {
   "cell_type": "code",
   "execution_count": 15,
   "id": "4fa955f0-79b6-4e12-85ff-b8db3b0b2bb1",
   "metadata": {},
   "outputs": [
    {
     "data": {
      "image/png": "[encoded data removed]",
      "text/plain": [
       "Plot with title “Boxplot des Amount spent on meat in last 2 years per customer”"
      ]
     },
     "metadata": {
      "image/png": {
       "height": 420,
       "width": 420
      }
     },
     "output_type": "display_data"
    }
   ],
   "source": [
    "boxplot(data_clean$MntMeatProducts, main = \"Boxplot des Amount spent on meat in last 2 years per customer\", ylab = \"Amount spent on meat in last 2 years\")"
   ]
  },
  {
   "cell_type": "code",
   "execution_count": 16,
   "id": "adbef13a-8fed-4518-91a6-55400b533f2f",
   "metadata": {},
   "outputs": [
    {
     "data": {
      "image/png": "[encoded data removed]",
      "text/plain": [
       "Plot with title “Boxplot des Amount spent on meat in last 2 years per customer”"
      ]
     },
     "metadata": {
      "image/png": {
       "height": 420,
       "width": 420
      }
     },
     "output_type": "display_data"
    }
   ],
   "source": [
    "data_clean <- data_clean[data_clean$MntMeatProducts < 1500, ]\n",
    "#verification :\n",
    "boxplot(data_clean$MntMeatProducts, main = \"Boxplot des Amount spent on meat in last 2 years per customer\", ylab = \"Amount spent on meat in last 2 years\")"
   ]
  },
  {
   "cell_type": "markdown",
   "id": "a5d7c85d-22fa-40db-9559-f047754cbbbc",
   "metadata": {},
   "source": [
    "Nous venons d'enlever tout les outliers. "
   ]
  },
  {
   "cell_type": "markdown",
   "id": "4f425a18-ed75-474f-99a1-9ff3a91c19c6",
   "metadata": {},
   "source": [
    "Les données sont maintenant prêtes pour l'analyse."
   ]
  },
  {
   "cell_type": "markdown",
   "id": "84130dbc-6a55-47ee-810d-6dfce0903bba",
   "metadata": {},
   "source": [
    "## 2.5 Exploration et transformation des données qualitatives"
   ]
  },
  {
   "cell_type": "markdown",
   "id": "d22765e2-dead-47c1-8d1a-8b429692300a",
   "metadata": {},
   "source": [
    "#### Statut Marital"
   ]
  },
  {
   "cell_type": "code",
   "execution_count": 17,
   "id": "d8477a84-63f7-41dc-99c2-edb29949c848",
   "metadata": {},
   "outputs": [
    {
     "data": {
      "text/html": [
       "<style>\n",
       ".dl-inline {width: auto; margin:0; padding: 0}\n",
       ".dl-inline>dt, .dl-inline>dd {float: none; width: auto; display: inline-block}\n",
       ".dl-inline>dt::after {content: \":\\0020\"; padding-right: .5ex}\n",
       ".dl-inline>dt:not(:first-of-type) {padding-left: .5ex}\n",
       "</style><dl class=dl-inline><dt>Absurd</dt><dd>2</dd><dt>Alone</dt><dd>3</dd><dt>Divorced</dt><dd>231</dd><dt>Married</dt><dd>861</dd><dt>Single</dt><dd>479</dd><dt>Together</dt><dd>576</dd><dt>Widow</dt><dd>77</dd><dt>YOLO</dt><dd>2</dd></dl>\n"
      ],
      "text/latex": [
       "\\begin{description*}\n",
       "\\item[Absurd] 2\n",
       "\\item[Alone] 3\n",
       "\\item[Divorced] 231\n",
       "\\item[Married] 861\n",
       "\\item[Single] 479\n",
       "\\item[Together] 576\n",
       "\\item[Widow] 77\n",
       "\\item[YOLO] 2\n",
       "\\end{description*}\n"
      ],
      "text/markdown": [
       "Absurd\n",
       ":   2Alone\n",
       ":   3Divorced\n",
       ":   231Married\n",
       ":   861Single\n",
       ":   479Together\n",
       ":   576Widow\n",
       ":   77YOLO\n",
       ":   2\n",
       "\n"
      ],
      "text/plain": [
       "  Absurd    Alone Divorced  Married   Single Together    Widow     YOLO \n",
       "       2        3      231      861      479      576       77        2 "
      ]
     },
     "metadata": {},
     "output_type": "display_data"
    }
   ],
   "source": [
    "summary(data_clean$Marital_Status)"
   ]
  },
  {
   "cell_type": "markdown",
   "id": "b2848714-b371-4bdd-82f0-b4c71b9e2811",
   "metadata": {},
   "source": [
    "On décide de supprimer les catégories Absurd et YOLO. De plus, nous allons regrouper les catégories Alone, Single et Widow en Seul et Together, Married  en Couple."
   ]
  },
  {
   "cell_type": "code",
   "execution_count": 20,
   "id": "dc44ea7f-a5aa-4255-a6ab-56e65f5b9b36",
   "metadata": {},
   "outputs": [
    {
     "data": {
      "text/html": [
       "<style>\n",
       ".dl-inline {width: auto; margin:0; padding: 0}\n",
       ".dl-inline>dt, .dl-inline>dd {float: none; width: auto; display: inline-block}\n",
       ".dl-inline>dt::after {content: \":\\0020\"; padding-right: .5ex}\n",
       ".dl-inline>dt:not(:first-of-type) {padding-left: .5ex}\n",
       "</style><dl class=dl-inline><dt>Couple</dt><dd>1437</dd><dt>Divorcé</dt><dd>231</dd><dt>Seul</dt><dd>559</dd></dl>\n"
      ],
      "text/latex": [
       "\\begin{description*}\n",
       "\\item[Couple] 1437\n",
       "\\item[Divorcé] 231\n",
       "\\item[Seul] 559\n",
       "\\end{description*}\n"
      ],
      "text/markdown": [
       "Couple\n",
       ":   1437Divorcé\n",
       ":   231Seul\n",
       ":   559\n",
       "\n"
      ],
      "text/plain": [
       " Couple Divorcé    Seul \n",
       "   1437     231     559 "
      ]
     },
     "metadata": {},
     "output_type": "display_data"
    }
   ],
   "source": [
    "data_clean$Marital_Status <- as.character(data_clean$Marital_Status)\n",
    "\n",
    "data_clean <- filter(data_clean, Marital_Status != \"Absurd\")\n",
    "data_clean <- filter(data_clean, Marital_Status != \"YOLO\")\n",
    "\n",
    "data_clean$Marital_Status[data_clean$Marital_Status == \"Alone\"] <- \"Seul\"\n",
    "data_clean$Marital_Status[data_clean$Marital_Status == \"Widow\"] <- \"Seul\"\n",
    "data_clean$Marital_Status[data_clean$Marital_Status == \"Single\"] <- \"Seul\"\n",
    "data_clean$Marital_Status[data_clean$Marital_Status == \"Together\"] <- \"Couple\"\n",
    "data_clean$Marital_Status[data_clean$Marital_Status == \"Married\"] <- \"Couple\"\n",
    "data_clean$Marital_Status[data_clean$Marital_Status == \"Divorced\"] <- \"Divorcé\"\n",
    "\n",
    "data_clean[, \"Marital_Status\"] <- as.factor(data_clean[, \"Marital_Status\"])\n",
    "\n",
    "summary(data_clean$Marital_Status)"
   ]
  },
  {
   "cell_type": "markdown",
   "id": "06b3f678-0822-4568-9c0f-68e67beb9c63",
   "metadata": {},
   "source": [
    "#### Enfants"
   ]
  },
  {
   "cell_type": "code",
   "execution_count": 21,
   "id": "08a6de4e-350f-4bee-95ce-c018ea3ae42b",
   "metadata": {},
   "outputs": [
    {
     "data": {
      "text/html": [
       "<style>\n",
       ".dl-inline {width: auto; margin:0; padding: 0}\n",
       ".dl-inline>dt, .dl-inline>dd {float: none; width: auto; display: inline-block}\n",
       ".dl-inline>dt::after {content: \":\\0020\"; padding-right: .5ex}\n",
       ".dl-inline>dt:not(:first-of-type) {padding-left: .5ex}\n",
       "</style><dl class=dl-inline><dt>0</dt><dd>632</dd><dt>1</dt><dd>1121</dd><dt>2</dt><dd>421</dd><dt>3</dt><dd>53</dd></dl>\n"
      ],
      "text/latex": [
       "\\begin{description*}\n",
       "\\item[0] 632\n",
       "\\item[1] 1121\n",
       "\\item[2] 421\n",
       "\\item[3] 53\n",
       "\\end{description*}\n"
      ],
      "text/markdown": [
       "0\n",
       ":   6321\n",
       ":   11212\n",
       ":   4213\n",
       ":   53\n",
       "\n"
      ],
      "text/plain": [
       "   0    1    2    3 \n",
       " 632 1121  421   53 "
      ]
     },
     "metadata": {},
     "output_type": "display_data"
    }
   ],
   "source": [
    "data_clean$Kidhome <- as.numeric(as.character(data_clean$Kidhome))\n",
    "data_clean$Teenhome <- as.numeric(as.character(data_clean$Teenhome))\n",
    "\n",
    "# Calculer le nombre total d'enfants\n",
    "data_clean$Enfant <- data_clean$Kidhome + data_clean$Teenhome\n",
    "\n",
    "# Convertir en facteur si tu veux travailler avec des catégories\n",
    "data_clean$Enfant <- as.factor(data_clean$Enfant)\n",
    "\n",
    "# Afficher un résumé de la colonne \"Enfant\"\n",
    "summary(data_clean$Enfant)\n",
    "\n",
    "data_clean <- subset(data_clean, select = -c(Kidhome, Teenhome))"
   ]
  },
  {
   "cell_type": "markdown",
   "id": "92603486-5533-4387-98db-f5343b6cde52",
   "metadata": {},
   "source": [
    "On vient de regrouper ces deux variables pour creer une seule variable Enfant, plus facile à analyser et à interpreter par la suite."
   ]
  },
  {
   "cell_type": "markdown",
   "id": "c4a49ecf-8438-402b-8314-68fd1e413bc3",
   "metadata": {},
   "source": [
    "#### Education\n"
   ]
  },
  {
   "cell_type": "code",
   "execution_count": 22,
   "id": "64e59068-964f-438a-9d34-c4239e90bc1f",
   "metadata": {},
   "outputs": [
    {
     "data": {
      "text/html": [
       "<style>\n",
       ".dl-inline {width: auto; margin:0; padding: 0}\n",
       ".dl-inline>dt, .dl-inline>dd {float: none; width: auto; display: inline-block}\n",
       ".dl-inline>dt::after {content: \":\\0020\"; padding-right: .5ex}\n",
       ".dl-inline>dt:not(:first-of-type) {padding-left: .5ex}\n",
       "</style><dl class=dl-inline><dt>2n Cycle</dt><dd>200</dd><dt>Basic</dt><dd>54</dd><dt>Graduation</dt><dd>1123</dd><dt>Master</dt><dd>369</dd><dt>PhD</dt><dd>481</dd></dl>\n"
      ],
      "text/latex": [
       "\\begin{description*}\n",
       "\\item[2n Cycle] 200\n",
       "\\item[Basic] 54\n",
       "\\item[Graduation] 1123\n",
       "\\item[Master] 369\n",
       "\\item[PhD] 481\n",
       "\\end{description*}\n"
      ],
      "text/markdown": [
       "2n Cycle\n",
       ":   200Basic\n",
       ":   54Graduation\n",
       ":   1123Master\n",
       ":   369PhD\n",
       ":   481\n",
       "\n"
      ],
      "text/plain": [
       "  2n Cycle      Basic Graduation     Master        PhD \n",
       "       200         54       1123        369        481 "
      ]
     },
     "metadata": {},
     "output_type": "display_data"
    }
   ],
   "source": [
    "summary(data_clean$Education)"
   ]
  },
  {
   "cell_type": "markdown",
   "id": "654b7693-be91-481e-94a3-d41eacd215d0",
   "metadata": {},
   "source": [
    "Afin de simplifier notre jeu de données et d'affiner l'analyse, nous allons regrouper les varaibles \"Basic\" et \"Graduation\" en une variable \"Moyen\". Nous allons aussi regrouper les Master et PhD en \"Elevé\". Enfin, nous transformons \"2nd cycle\" en \"Faible\"."
   ]
  },
  {
   "cell_type": "code",
   "execution_count": 23,
   "id": "5c939635-5095-4fbf-9f1d-ffa0ec5acbc9",
   "metadata": {},
   "outputs": [
    {
     "data": {
      "text/html": [
       "<style>\n",
       ".dl-inline {width: auto; margin:0; padding: 0}\n",
       ".dl-inline>dt, .dl-inline>dd {float: none; width: auto; display: inline-block}\n",
       ".dl-inline>dt::after {content: \":\\0020\"; padding-right: .5ex}\n",
       ".dl-inline>dt:not(:first-of-type) {padding-left: .5ex}\n",
       "</style><dl class=dl-inline><dt>Elevé</dt><dd>850</dd><dt>Faible</dt><dd>200</dd><dt>Moyen</dt><dd>1177</dd></dl>\n"
      ],
      "text/latex": [
       "\\begin{description*}\n",
       "\\item[Elevé] 850\n",
       "\\item[Faible] 200\n",
       "\\item[Moyen] 1177\n",
       "\\end{description*}\n"
      ],
      "text/markdown": [
       "Elevé\n",
       ":   850Faible\n",
       ":   200Moyen\n",
       ":   1177\n",
       "\n"
      ],
      "text/plain": [
       " Elevé Faible  Moyen \n",
       "   850    200   1177 "
      ]
     },
     "metadata": {},
     "output_type": "display_data"
    }
   ],
   "source": [
    "data_clean$Education <- as.character(data_clean$Education)\n",
    "data_clean$Education[data_clean$Education == \"2n Cycle\"] <- \"Faible\"\n",
    "data_clean$Education[data_clean$Education == \"Basic\"] <- \"Moyen\"\n",
    "data_clean$Education[data_clean$Education == \"Graduation\"] <- \"Moyen\"\n",
    "data_clean$Education[data_clean$Education == \"Master\"] <- \"Elevé\"\n",
    "data_clean$Education[data_clean$Education == \"PhD\"] <- \"Elevé\"\n",
    "data_clean$Education <- as.factor(data_clean$Education)\n",
    "summary(data_clean$Education)"
   ]
  },
  {
   "cell_type": "markdown",
   "id": "412a9dfb-f36b-493d-840e-fee40f9d8698",
   "metadata": {},
   "source": [
    "#### Campagnes"
   ]
  },
  {
   "cell_type": "markdown",
   "id": "5a8bd2b4-5024-4577-83bc-900a718d9c75",
   "metadata": {},
   "source": [
    "Ici on va créer une nouvelle variable : le nombre de promotion acceptée."
   ]
  },
  {
   "cell_type": "code",
   "execution_count": 24,
   "id": "a4a0621e-3746-486d-bfa5-c0f968fe31c3",
   "metadata": {},
   "outputs": [
    {
     "data": {
      "text/html": [
       "<style>\n",
       ".dl-inline {width: auto; margin:0; padding: 0}\n",
       ".dl-inline>dt, .dl-inline>dd {float: none; width: auto; display: inline-block}\n",
       ".dl-inline>dt::after {content: \":\\0020\"; padding-right: .5ex}\n",
       ".dl-inline>dt:not(:first-of-type) {padding-left: .5ex}\n",
       "</style><dl class=dl-inline><dt>0</dt><dd>1622</dd><dt>1</dt><dd>367</dd><dt>2</dt><dd>142</dd><dt>3</dt><dd>50</dd><dt>4</dt><dd>36</dd><dt>5</dt><dd>10</dd></dl>\n"
      ],
      "text/latex": [
       "\\begin{description*}\n",
       "\\item[0] 1622\n",
       "\\item[1] 367\n",
       "\\item[2] 142\n",
       "\\item[3] 50\n",
       "\\item[4] 36\n",
       "\\item[5] 10\n",
       "\\end{description*}\n"
      ],
      "text/markdown": [
       "0\n",
       ":   16221\n",
       ":   3672\n",
       ":   1423\n",
       ":   504\n",
       ":   365\n",
       ":   10\n",
       "\n"
      ],
      "text/plain": [
       "   0    1    2    3    4    5 \n",
       "1622  367  142   50   36   10 "
      ]
     },
     "metadata": {},
     "output_type": "display_data"
    }
   ],
   "source": [
    "data_clean$AcceptedCmp1 <- as.numeric(as.character(data_clean$AcceptedCmp1))\n",
    "data_clean$AcceptedCmp2 <- as.numeric(as.character(data_clean$AcceptedCmp2))\n",
    "data_clean$AcceptedCmp3 <- as.numeric(as.character(data_clean$AcceptedCmp3))\n",
    "data_clean$AcceptedCmp4 <- as.numeric(as.character(data_clean$AcceptedCmp4))\n",
    "data_clean$AcceptedCmp5 <- as.numeric(as.character(data_clean$AcceptedCmp5))\n",
    "data_clean$Response <- as.numeric(as.character(data_clean$Response))\n",
    "\n",
    "data_clean$Total_Cmp <- data_clean$AcceptedCmp1+ data_clean$AcceptedCmp2 + data_clean$AcceptedCmp3+ data_clean$AcceptedCmp4 +data_clean$AcceptedCmp5+data_clean$Response\n",
    "\n",
    "data_clean[, \"AcceptedCmp2\"] <- as.factor(data_clean[, \"AcceptedCmp2\"])\n",
    "data_clean[, \"AcceptedCmp1\"] <- as.factor(data_clean[, \"AcceptedCmp1\"])\n",
    "data_clean[, \"AcceptedCmp3\"] <- as.factor(data_clean[, \"AcceptedCmp3\"])\n",
    "data_clean[, \"AcceptedCmp4\"] <- as.factor(data_clean[, \"AcceptedCmp4\"])\n",
    "data_clean[, \"AcceptedCmp5\"] <- as.factor(data_clean[, \"AcceptedCmp5\"])\n",
    "data_clean[, \"Response\"] <- as.factor(data_clean[, \"Response\"])\n",
    "data_clean[, \"Total_Cmp\"] <- as.factor(data_clean[, \"Total_Cmp\"])\n",
    "summary(data_clean$Total_Cmp)\n",
    "\n",
    "\n"
   ]
  },
  {
   "cell_type": "markdown",
   "id": "c7aa6cb7-3ddf-4d7d-a3aa-cc5e6c36e288",
   "metadata": {},
   "source": [
    "Cette variable Total_Cmp nous permet de savoir si une personne est influencée par les promotions."
   ]
  },
  {
   "cell_type": "markdown",
   "id": "e37d0694-3b8c-4f16-ace8-c38d573c73be",
   "metadata": {},
   "source": [
    "## 2.6 Création de nouvelles variables "
   ]
  },
  {
   "cell_type": "markdown",
   "id": "9a47c92c-4bc8-4696-b8ab-6024da8507b0",
   "metadata": {},
   "source": [
    "#### Argent dépensé"
   ]
  },
  {
   "cell_type": "markdown",
   "id": "c252a538-5bb9-4dba-acc8-e5fc44a93ae2",
   "metadata": {},
   "source": [
    "On créé une nouvelle variable qui prend le total des dépenses pour chaque catégories (Viandes, Fruits etc) "
   ]
  },
  {
   "cell_type": "code",
   "execution_count": 25,
   "id": "3c5f4ebe-33c7-445f-8a8c-cbb4e38f41b2",
   "metadata": {},
   "outputs": [
    {
     "data": {
      "text/plain": [
       "   Min. 1st Qu.  Median    Mean 3rd Qu.    Max. \n",
       "    5.0    68.5   395.0   603.2  1039.5  2525.0 "
      ]
     },
     "metadata": {},
     "output_type": "display_data"
    }
   ],
   "source": [
    "data_clean$Total_Depense <- data_clean$MntWines+ data_clean$MntFruits + data_clean$MntMeatProducts + data_clean$MntFishProducts +data_clean$MntSweetProducts +data_clean$MntGoldProds\n",
    "summary(data_clean$Total_Depense)"
   ]
  },
  {
   "cell_type": "markdown",
   "id": "92a7df28-9d58-4069-bd68-0970fa7b44e1",
   "metadata": {},
   "source": [
    "#### Achat"
   ]
  },
  {
   "cell_type": "code",
   "execution_count": 26,
   "id": "0317edb0-387a-415f-b8e3-89091017afa9",
   "metadata": {},
   "outputs": [
    {
     "data": {
      "text/plain": [
       "   Min. 1st Qu.  Median    Mean 3rd Qu.    Max. \n",
       "   0.00    6.00   12.00   12.52   18.00   32.00 "
      ]
     },
     "metadata": {},
     "output_type": "display_data"
    }
   ],
   "source": [
    "data_clean$Total_Achat <- data_clean$NumWebPurchases+ data_clean$NumCatalogPurchases + data_clean$NumStorePurchases \n",
    "summary(data_clean$Total_Achat)\n"
   ]
  },
  {
   "cell_type": "markdown",
   "id": "057e304e-dd93-491d-ab9c-45ea5d418a2c",
   "metadata": {},
   "source": [
    "Ici, le minimum est à 0 ce qui signifie que certains clients n'ont rien acheté. Cela ne contredit pas ce que nous avions analysé précedemment sur la variable Total_Depense, qui ne prend en compte que les dépenses sur certaines catégories.  "
   ]
  },
  {
   "cell_type": "markdown",
   "id": "29319ddc-09d5-4721-9c66-027d4040094f",
   "metadata": {},
   "source": [
    "#### Age"
   ]
  },
  {
   "cell_type": "markdown",
   "id": "51b6c1c3-40ab-407e-9690-6056997fe14a",
   "metadata": {},
   "source": [
    "Nous allons maintenant réaliser des catégories d'age à partir de l'année de naissance"
   ]
  },
  {
   "cell_type": "code",
   "execution_count": 27,
   "id": "31a3fe81-23f8-4335-af35-a8776ecba686",
   "metadata": {},
   "outputs": [
    {
     "data": {
      "image/png": "[encoded data removed]",
      "text/plain": [
       "Plot with title “Histogram of data_clean$Year_Birth”"
      ]
     },
     "metadata": {
      "image/png": {
       "height": 420,
       "width": 420
      }
     },
     "output_type": "display_data"
    }
   ],
   "source": [
    "hist(data_clean$Year_Birth)"
   ]
  },
  {
   "cell_type": "code",
   "execution_count": 28,
   "id": "2c4d7708-20a8-4cef-a7cb-dd93c4ec3513",
   "metadata": {},
   "outputs": [
    {
     "data": {
      "image/png": "[encoded data removed]",
      "text/plain": [
       "Plot with title “Histogram of data_clean$Age”"
      ]
     },
     "metadata": {
      "image/png": {
       "height": 420,
       "width": 420
      }
     },
     "output_type": "display_data"
    }
   ],
   "source": [
    "library(tidyr)\n",
    "\n",
    "# Définir l'année de référence\n",
    "annee_actuelle<- 2015\n",
    "\n",
    "# Calcul de l'âge\n",
    "data_clean$Age <- annee_actuelle- data_clean$Year_Birth\n",
    "hist(data_clean$Age)\n",
    "data_clean <- subset(data_clean, select = -Year_Birth)"
   ]
  },
  {
   "cell_type": "code",
   "execution_count": 29,
   "id": "1ccb343d-257f-4ec2-a7ba-9606d84ab2b0",
   "metadata": {},
   "outputs": [
    {
     "name": "stdout",
     "output_type": "stream",
     "text": [
      "    ID Education Marital_Status Income Dt_Customer Recency MntWines MntFruits\n",
      "1 5524     Moyen           Seul  58138  2012-09-04      58      635        88\n",
      "2 2174     Moyen           Seul  46344  2014-03-08      38       11         1\n",
      "3 4141     Moyen         Couple  71613  2013-08-21      26      426        49\n",
      "4 6182     Moyen         Couple  26646  2014-02-10      26       11         4\n",
      "5 5324     Elevé         Couple  58293  2014-01-19      94      173        43\n",
      "6 7446     Elevé         Couple  62513  2013-09-09      16      520        42\n",
      "  MntMeatProducts MntFishProducts MntSweetProducts MntGoldProds\n",
      "1             546             172               88           88\n",
      "2               6               2                1            6\n",
      "3             127             111               21           42\n",
      "4              20              10                3            5\n",
      "5             118              46               27           15\n",
      "6              98               0               42           14\n",
      "  NumDealsPurchases NumWebPurchases NumCatalogPurchases NumStorePurchases\n",
      "1                 3               8                  10                 4\n",
      "2                 2               1                   1                 2\n",
      "3                 1               8                   2                10\n",
      "4                 2               2                   0                 4\n",
      "5                 5               5                   3                 6\n",
      "6                 2               6                   4                10\n",
      "  NumWebVisitsMonth AcceptedCmp3 AcceptedCmp4 AcceptedCmp5 AcceptedCmp1\n",
      "1                 7            0            0            0            0\n",
      "2                 5            0            0            0            0\n",
      "3                 4            0            0            0            0\n",
      "4                 6            0            0            0            0\n",
      "5                 5            0            0            0            0\n",
      "6                 6            0            0            0            0\n",
      "  AcceptedCmp2 Complain Response Customer_Since_Months Customer_Dt_Category\n",
      "1            0        0        1             27.890933               Ancien\n",
      "2            0        0        0              9.822602               Récent\n",
      "3            0        0        0             16.360053                Moyen\n",
      "4            0        0        0             10.676741               Récent\n",
      "5            0        0        0             11.399474               Récent\n",
      "6            0        0        0             15.735874                Moyen\n",
      "  Enfant Total_Cmp Total_Depense Total_Achat Age Age_Categorie\n",
      "1      0         1          1617          22  58         45-60\n",
      "2      2         0            27           4  61           60+\n",
      "3      0         0           776          20  50         45-60\n",
      "4      1         0            53           6  31         30-45\n",
      "5      1         0           422          14  34         30-45\n",
      "6      1         0           716          20  48         45-60\n"
     ]
    }
   ],
   "source": [
    "\n",
    "# Définition des catégories d'âge\n",
    "bins <- c(0, 30, 45, 60, 84)  # Intervalles d'âge\n",
    "labels <- c(\"0-30\", \"30-45\", \"45-60\", \"60+\")  # Noms des catégories\n",
    "\n",
    "# Catégorisation des âges en groupes (convertis en facteur)\n",
    "data_clean <- data_clean %>%\n",
    "  mutate(Age_Categorie = cut(Age, breaks = bins, labels = labels, right = TRUE, include.lowest = TRUE))\n",
    "\n",
    "print(head(data_clean))"
   ]
  },
  {
   "cell_type": "markdown",
   "id": "7e1ce6d8-141c-4d99-a289-ec74bac7202b",
   "metadata": {},
   "source": [
    "## Conclusion du nettoyage des donéees :"
   ]
  },
  {
   "cell_type": "code",
   "execution_count": 30,
   "id": "3fa1f56a-9d51-43a3-9fb0-bd71a007b04c",
   "metadata": {},
   "outputs": [
    {
     "data": {
      "text/plain": [
       "       ID         Education    Marital_Status     Income      \n",
       " Min.   :    0   Elevé : 850   Couple :1437   Min.   :  1730  \n",
       " 1st Qu.: 2828   Faible: 200   Divorcé: 231   1st Qu.: 35428  \n",
       " Median : 5455   Moyen :1177   Seul   : 559   Median : 51382  \n",
       " Mean   : 5588                                Mean   : 51817  \n",
       " 3rd Qu.: 8419                                3rd Qu.: 68145  \n",
       " Max.   :11191                                Max.   :162397  \n",
       "  Dt_Customer            Recency         MntWines        MntFruits     \n",
       " Min.   :2012-07-30   Min.   : 0.00   Min.   :   0.0   Min.   :  0.00  \n",
       " 1st Qu.:2013-01-17   1st Qu.:24.00   1st Qu.:  24.0   1st Qu.:  1.00  \n",
       " Median :2013-07-09   Median :50.00   Median : 174.0   Median :  8.00  \n",
       " Mean   :2013-07-10   Mean   :49.16   Mean   : 304.7   Mean   : 26.29  \n",
       " 3rd Qu.:2013-12-30   3rd Qu.:74.00   3rd Qu.: 505.0   3rd Qu.: 33.00  \n",
       " Max.   :2014-06-29   Max.   :99.00   Max.   :1493.0   Max.   :199.00  \n",
       " MntMeatProducts MntFishProducts  MntSweetProducts  MntGoldProds   \n",
       " Min.   :  0.0   Min.   :  0.00   Min.   :  0.00   Min.   :  0.00  \n",
       " 1st Qu.: 16.0   1st Qu.:  3.00   1st Qu.:  1.00   1st Qu.:  9.00  \n",
       " Median : 67.0   Median : 12.00   Median :  8.00   Median : 24.00  \n",
       " Mean   :163.6   Mean   : 37.48   Mean   : 27.15   Mean   : 43.93  \n",
       " 3rd Qu.:230.0   3rd Qu.: 50.00   3rd Qu.: 33.50   3rd Qu.: 56.00  \n",
       " Max.   :984.0   Max.   :259.00   Max.   :263.00   Max.   :362.00  \n",
       " NumDealsPurchases NumWebPurchases  NumCatalogPurchases NumStorePurchases\n",
       " Min.   : 0.000    Min.   : 0.000   Min.   : 0.000      Min.   : 0.000   \n",
       " 1st Qu.: 1.000    1st Qu.: 2.000   1st Qu.: 0.000      1st Qu.: 3.000   \n",
       " Median : 2.000    Median : 4.000   Median : 2.000      Median : 5.000   \n",
       " Mean   : 2.309    Mean   : 4.095   Mean   : 2.619      Mean   : 5.807   \n",
       " 3rd Qu.: 3.000    3rd Qu.: 6.000   3rd Qu.: 4.000      3rd Qu.: 8.000   \n",
       " Max.   :15.000    Max.   :27.000   Max.   :11.000      Max.   :13.000   \n",
       " NumWebVisitsMonth AcceptedCmp3 AcceptedCmp4 AcceptedCmp5 AcceptedCmp1\n",
       " Min.   : 0.000    0:2064       0:2061       0:2066       0:2084      \n",
       " 1st Qu.: 3.000    1: 163       1: 166       1: 161       1: 143      \n",
       " Median : 6.000                                                       \n",
       " Mean   : 5.331                                                       \n",
       " 3rd Qu.: 7.000                                                       \n",
       " Max.   :20.000                                                       \n",
       " AcceptedCmp2 Complain Response Customer_Since_Months Customer_Dt_Category\n",
       " 0:2197       0:2207   0:1895   Min.   : 6.11         Récent: 554         \n",
       " 1:  30       1:  20   1: 332   1st Qu.:12.04         Moyen :1184         \n",
       "                                Median :17.77         Ancien: 489         \n",
       "                                Mean   :17.71                             \n",
       "                                3rd Qu.:23.46                             \n",
       "                                Max.   :29.07                             \n",
       " Enfant   Total_Cmp Total_Depense     Total_Achat         Age       \n",
       " 0: 632   0:1622    Min.   :   5.0   Min.   : 0.00   Min.   :19.00  \n",
       " 1:1121   1: 367    1st Qu.:  68.5   1st Qu.: 6.00   1st Qu.:38.00  \n",
       " 2: 421   2: 142    Median : 395.0   Median :12.00   Median :45.00  \n",
       " 3:  53   3:  50    Mean   : 603.2   Mean   :12.52   Mean   :46.13  \n",
       "          4:  36    3rd Qu.:1039.5   3rd Qu.:18.00   3rd Qu.:56.00  \n",
       "          5:  10    Max.   :2525.0   Max.   :32.00   Max.   :75.00  \n",
       " Age_Categorie\n",
       " 0-30 :220    \n",
       " 30-45:935    \n",
       " 45-60:756    \n",
       " 60+  :316    \n",
       "              \n",
       "              "
      ]
     },
     "metadata": {},
     "output_type": "display_data"
    }
   ],
   "source": [
    "data_clean <- subset(data_clean)\n",
    "summary(data_clean)"
   ]
  },
  {
   "cell_type": "markdown",
   "id": "514567fb-c640-4ace-b6cb-a34e11d541ae",
   "metadata": {},
   "source": [
    "# III Analyse exploratoire bidimensionnelle :"
   ]
  },
  {
   "cell_type": "markdown",
   "id": "94a167b0-2d0a-471f-b7da-53ca9ad35e0a",
   "metadata": {},
   "source": [
    "L'objectif est de faire une première analyse sur toutes les variables quantitatives et qualitatives."
   ]
  },
  {
   "cell_type": "markdown",
   "id": "2e599adc-b33d-42d1-a613-8b5b2693279a",
   "metadata": {
    "jp-MarkdownHeadingCollapsed": true
   },
   "source": [
    "## 3.1 Comparaison des variables quantitatives/quantitatives"
   ]
  },
  {
   "cell_type": "code",
   "execution_count": null,
   "id": "e5686763-bf01-4cd0-a6e1-a45a22576bfa",
   "metadata": {},
   "outputs": [],
   "source": [
    "library (GGally)\n",
    "library (vcd)"
   ]
  },
  {
   "cell_type": "code",
   "execution_count": null,
   "id": "c349c95d-327b-4725-a50e-5d1ce5d05cfe",
   "metadata": {},
   "outputs": [],
   "source": [
    "col_quanti<-data_clean[, sapply(data_clean, is.numeric) & colnames(data_clean) != \"ID\"]\n",
    "corrplot(cor(col_quanti), method = \"ellipse\")\n",
    "ggpairs(col_quanti)\n"
   ]
  },
  {
   "cell_type": "markdown",
   "id": "888859ab-19f3-4c65-be98-e0cdb0181462",
   "metadata": {},
   "source": [
    "Nous constatons que le revenu et le total des dépenses sont fortement corrélé aux dépenses en viandes et en vin. Cette affirmation est cohérente avec notre intiution. Les personnes ayant un salaire plus élévé achètent plus de viande et de vin (produits onéreux). De manière générale, ces personnes dépensent plus."
   ]
  },
  {
   "cell_type": "markdown",
   "id": "baae50c0-bd14-4083-882b-3122fb2fb92a",
   "metadata": {
    "jp-MarkdownHeadingCollapsed": true
   },
   "source": [
    "## 3.2 Comparaison des variables qualitatives/qualitatives"
   ]
  },
  {
   "cell_type": "markdown",
   "id": "d877081f-66bb-4ae5-a351-ff774b375217",
   "metadata": {},
   "source": [
    "Observons la dépendance entre 2 variables qualitatives à l'aide de l'outil \"mosaic plot\". Nous cherchons un lien entre les caractéristiques d'une personne (Age, enfants éducation..) et sa réponse aux campagnes marketing."
   ]
  },
  {
   "cell_type": "code",
   "execution_count": null,
   "id": "c806bb3a-09d6-4d93-8d5f-0c157d051d87",
   "metadata": {},
   "outputs": [],
   "source": [
    "mosaic( xtabs(~ Age_Categorie +  Marital_Status, data=data_clean),  shade = TRUE, \n",
    "            split_vertical = TRUE,\n",
    "            main=\"Mosaic Plot entre catégorie d'âge et Marital Status\")\n",
    "\n",
    "mosaic( xtabs(~ Total_Cmp +  Enfant, data=data_clean),  shade = TRUE, \n",
    "            split_vertical = TRUE,\n",
    "            main=\"Mosaic Plot entre Total_Cmp et Enfant\")\n",
    "\n",
    "mosaic( xtabs(~ Total_Cmp +  Age_Categorie, data=data_clean),  shade = TRUE, \n",
    "            split_vertical = TRUE,\n",
    "            main=\"Mosaic Plot entre Total_Cmp et Age\")\n",
    "\n",
    "mosaic( xtabs(~ Total_Cmp +  Education, data=data_clean),  shade = TRUE, \n",
    "            split_vertical = TRUE,\n",
    "            main=\"Mosaic Plot entre Total_Cmp et Education\")\n"
   ]
  },
  {
   "cell_type": "markdown",
   "id": "e490884f-7875-4c07-b003-a2cd9b29e38b",
   "metadata": {},
   "source": [
    "On remarque que le niveau d'éducation est indépendant du nombre d'enfants, alors que la catégorie d'âge ne l'est pas. De plus, il y a une relation significative entre catégorie d'âge et statut marital, les moins de 30 ans sont plus souvents seuls."
   ]
  },
  {
   "cell_type": "markdown",
   "id": "ac5fa2cd-9622-41b6-b123-c72c8b1e2036",
   "metadata": {
    "jp-MarkdownHeadingCollapsed": true
   },
   "source": [
    "## 3.3 Comparaison des variables quantitatives/qualitatives"
   ]
  },
  {
   "cell_type": "code",
   "execution_count": null,
   "id": "630ebc10-de80-4887-ac2c-57c2d16e817d",
   "metadata": {},
   "outputs": [],
   "source": [
    "ggplot(data_clean, aes(x = Age_Categorie, y = Total_Depense)) +\n",
    "  geom_violin(fill = \"skyblue\", color = \"black\") +\n",
    "  theme_minimal()+ geom_boxplot(width = 0.1, fill = \"white\")\n",
    "\n",
    "ggplot(data_clean, aes(x = Enfant, y = Total_Depense)) +\n",
    "  geom_violin(fill = \"skyblue\", color = \"black\") +\n",
    "  theme_minimal()+ geom_boxplot(width = 0.1, fill = \"white\") \n",
    "\n",
    "ggplot(data_clean, aes(x = Age_Categorie, y = Income)) +\n",
    "  geom_violin(fill = \"skyblue\", color = \"black\") +\n",
    "  theme_minimal()+ geom_boxplot(width = 0.1, fill = \"white\") \n",
    "\n",
    "ggplot(data_clean, aes(x = Enfant, y = Income)) +\n",
    "  geom_violin(fill = \"skyblue\", color = \"black\") +\n",
    "  theme_minimal()+ geom_boxplot(width = 0.1, fill = \"white\") "
   ]
  },
  {
   "cell_type": "markdown",
   "id": "54293cff-749d-4b77-bc06-42326a4c5411",
   "metadata": {},
   "source": [
    "Le salaire et les dépenses augmentent avec l'âge. Pour autant, ils baissent avec le nombre d'enfants. Une explication plausible est celle que les personnes sans enfants travaillent plus et ainsi gagnent plus d'argent. On peut aussi voir que plus on est agés, plus on a de chances que nos enfants aient quittés la maison."
   ]
  },
  {
   "cell_type": "markdown",
   "id": "68c9ca24-90f2-4ff6-8a7f-5e080630f64b",
   "metadata": {},
   "source": [
    "# IV Analyse multivariée :"
   ]
  },
  {
   "cell_type": "markdown",
   "id": "6546d6e1-c278-46a1-b834-d69d19b7128a",
   "metadata": {
    "jp-MarkdownHeadingCollapsed": true
   },
   "source": [
    "## 4.1 Analyse en composantes principales et clustering sur l'ensemble des données"
   ]
  },
  {
   "cell_type": "code",
   "execution_count": null,
   "id": "e694ded7-8fb4-44ac-9b94-a787e040fba9",
   "metadata": {},
   "outputs": [],
   "source": [
    "library(reshape2)\n",
    "library(gridExtra)"
   ]
  },
  {
   "cell_type": "markdown",
   "id": "61fdd675-fc9f-4af4-8a18-224a904b4040",
   "metadata": {},
   "source": [
    "On ne garde que les variables quantitatives."
   ]
  },
  {
   "cell_type": "code",
   "execution_count": null,
   "id": "e5d59e75-dbaa-4958-8775-625bd3894ceb",
   "metadata": {},
   "outputs": [],
   "source": [
    "data_quanti <- data_clean[, c(\"Income\", \"Recency\", \"MntWines\", \"MntFruits\", \"MntMeatProducts\",\n",
    "                                 \"MntFishProducts\", \"MntSweetProducts\", \"MntGoldProds\",\n",
    "                                 \"NumDealsPurchases\", \"NumWebPurchases\", \"NumCatalogPurchases\",\n",
    "                                 \"NumStorePurchases\", \"NumWebVisitsMonth\", \"Total_Depense\",\n",
    "                                 \"Total_Achat\", \"Total_Cmp\", \"Age\", \"Customer_Since_Months\")]\n"
   ]
  },
  {
   "cell_type": "markdown",
   "id": "cd7480dc-800d-411e-85c3-8962e05fc9cc",
   "metadata": {},
   "source": [
    "On effectue une ACP sur les données quantitatives."
   ]
  },
  {
   "cell_type": "code",
   "execution_count": null,
   "id": "a7763661-498e-43d4-b930-7f1e8f4d5750",
   "metadata": {},
   "outputs": [],
   "source": [
    "data_quanti$Total_Cmp <- as.numeric(as.character(data_quanti$Total_Cmp)) #Total_Cmp était en facteur je la transforme en variable quantitative\n",
    "\n",
    "res_pca <- PCA(data_quanti, scale.unit = TRUE, ncp = 5, graph = FALSE)\n",
    "\n",
    "# Extraction des composantes principales (scores des individus)\n",
    "marketing_pca <- res_pca$ind$coord\n"
   ]
  },
  {
   "cell_type": "markdown",
   "id": "66f7a870-768c-4d79-b9d6-320dd4d874c2",
   "metadata": {},
   "source": [
    "On peut afficher la part de variance de chaque axe."
   ]
  },
  {
   "cell_type": "code",
   "execution_count": null,
   "id": "257341e0-8365-43e2-81ff-3dc43846b77b",
   "metadata": {},
   "outputs": [],
   "source": [
    "library(ggplot2)\n",
    "\n",
    "explained_var <- res_pca$eig[, 2]  \n",
    "n_components <- length(explained_var)\n",
    "df_var <- data.frame(\n",
    "  PC = 1:n_components,\n",
    "  Variance = explained_var\n",
    ")\n",
    "ggplot(df_var, aes(x = PC, y = Variance)) +\n",
    "  geom_bar(stat = \"identity\", fill = \"blue\", alpha = 0.7) +\n",
    "  labs(title = \"Part de variance expliquée par chaque axe\",\n",
    "       x = \"Composantes principales\",\n",
    "       y = \"Variance expliquée (%)\") +\n",
    "  scale_x_continuous(breaks = 1:n_components) +\n",
    "  ylim(0, 60) +\n",
    "  theme_minimal() +\n",
    "  theme(panel.grid.major.y = element_line(linetype = \"dashed\", color = \"gray80\"))\n"
   ]
  },
  {
   "cell_type": "markdown",
   "id": "3d2f3755-0511-4330-b6ba-24b6abc02e65",
   "metadata": {},
   "source": [
    "On voit que les deux premiers axes contiennent à peu près 54% de la variance. Vu que les trois axes suivants forment un \"plateau\", pour cette première analyse nous ne retiendrons que les deux premiers axes. On peut aussi afficher le cercle des corrélations pour visualiser la contribution et la corrélation de chaque variable aux deux premières dimensions de notre ACP."
   ]
  },
  {
   "cell_type": "code",
   "execution_count": null,
   "id": "69d1e954-655f-4da4-979a-943b80a56e94",
   "metadata": {},
   "outputs": [],
   "source": [
    "library(factoextra)\n",
    "fviz_pca_var(res_pca,\n",
    "             col.var = \"blue\",        \n",
    "             repel = TRUE,            \n",
    "             axes = c(1, 2),          \n",
    "             title = \"Cercle des corrélations\")\n"
   ]
  },
  {
   "cell_type": "markdown",
   "id": "ff91e1a5-9aa1-4423-a9a1-4d80f7ea62dc",
   "metadata": {},
   "source": [
    "On remarque que la dimension 1 est fortement expliquée par des variables relatives aux dépenses et au salaire. La deuxième quant à elle est surtout reliée aux nombre d'achats faits en promotion, et à l'ancienneté. Pour y voir plus clair et commencer à distinguer des tendances, on peut afficher la projection des individus sur l'espace de notre ACP, en faisant un habillage avec une variable qualitative, par exemple le nombre d'enfants."
   ]
  },
  {
   "cell_type": "code",
   "execution_count": null,
   "id": "de9daa87-21d8-42a9-94c0-e76d3e1dec59",
   "metadata": {},
   "outputs": [],
   "source": [
    "library(ggplot2)\n",
    "library(dplyr)\n",
    "\n",
    "pca_df <- as.data.frame(res_pca$ind$coord[, 1:2])\n",
    "colnames(pca_df) <- c(\"PC1\", \"PC2\")\n",
    "pca_df$Enfant <- data_clean$Enfant\n",
    "var_expl <- res_pca$eig[1:2, 2]\n",
    "\n",
    "ggplot(pca_df, aes(x = PC1, y = PC2, color = as.factor(Enfant))) +\n",
    "  geom_point(size = 3, alpha = 0.7) +\n",
    "  geom_hline(yintercept = 0, linetype = \"dashed\", color = \"gray50\", linewidth = 0.5) +\n",
    "  geom_vline(xintercept = 0, linetype = \"dashed\", color = \"gray50\", linewidth = 0.5) +\n",
    "  scale_color_brewer(palette = \"Set1\") +  \n",
    "  labs(title = \"Projection des individus (ACP) - Habillage par Total_Enfants\",\n",
    "       x = paste0(\"PC1 (\", round(var_expl[1], 1), \"%)\"),\n",
    "       y = paste0(\"PC2 (\", round(var_expl[2], 1), \"%)\"),\n",
    "       color = \"Enfant\") +\n",
    "  theme_minimal() +\n",
    "  theme(panel.grid.major = element_line(linetype = \"dashed\", color = \"gray80\"))\n"
   ]
  },
  {
   "cell_type": "markdown",
   "id": "cefb3e42-4034-443f-af76-e31bce3bfd89",
   "metadata": {},
   "source": [
    "Un groupe se détache : ceux des individus sans enfants. On peut voir qu'ils sont à droite de l'axe 1, donc cela correspond à des revenus et des dépenses plus élevées. Pour le reste, c'est moins précis."
   ]
  },
  {
   "cell_type": "markdown",
   "id": "64bbeb1d-0910-4b8a-914b-b442df84e342",
   "metadata": {},
   "source": [
    "On va essayer de former des clusters pour y voir plus clair. Commençons par un GMM (Gaussian Mixture Model). Cela suppose que les données sont distribuées selon plusieurs gaussiennes."
   ]
  },
  {
   "cell_type": "code",
   "execution_count": null,
   "id": "e330b595-42d5-45d5-9409-e69183694a2d",
   "metadata": {},
   "outputs": [],
   "source": [
    "library(mclust)\n",
    "\n",
    "gmm_model <- Mclust(res_pca$ind$coord[, 1:2], G = 3)  \n",
    "clusters <- gmm_model$classification\n",
    "\n",
    "# Ajouter les clusters au dataframe data_clean\n",
    "data_clean$Cluster_GMM <- as.factor(clusters)\n"
   ]
  },
  {
   "cell_type": "markdown",
   "id": "d77a3eac-07a2-4c6f-b166-365433edca27",
   "metadata": {},
   "source": [
    "On se représente les indivdus dans l'espace de l'ACP avec leur cluster issu du GMM."
   ]
  },
  {
   "cell_type": "code",
   "execution_count": null,
   "id": "7341d3bf-a8cd-46ea-a31f-069f6b44a73e",
   "metadata": {},
   "outputs": [],
   "source": [
    "df_pca <- as.data.frame(res_pca$ind$coord[, 1:2])\n",
    "colnames(df_pca) <- c(\"PC1\", \"PC2\")\n",
    "df_pca$cluster <- as.factor(data_clean$Cluster_GMM)\n",
    "\n",
    "ggplot(df_pca, aes(x = PC1, y = PC2, color = cluster)) +\n",
    "  geom_point(size = 3, alpha = 0.8) +\n",
    "  scale_color_brewer(palette = \"Set1\") +\n",
    "  labs(title = \"GMM (3 clusters) sur les deux premières composantes de l’ACP\",\n",
    "       x = \"Composante principale 1\",\n",
    "       y = \"Composante principale 2\",\n",
    "       color = \"Cluster\") +\n",
    "  theme_minimal() +\n",
    "  theme(panel.grid.major = element_line(linetype = \"dashed\", color = \"gray80\"))\n"
   ]
  },
  {
   "cell_type": "code",
   "execution_count": null,
   "id": "c6aeb567-90a3-4eca-a87d-4e2d222ebe44",
   "metadata": {},
   "outputs": [],
   "source": [
    "library(gridExtra)\n",
    "\n",
    "# Income\n",
    "p1 <- ggplot(data_clean, aes(x = Cluster_GMM, y = Income, fill = Cluster_GMM)) +\n",
    "  geom_boxplot(alpha = 0.7) +\n",
    "  labs(title = \"Distribution du revenu (Income)\", x = \"Cluster\", y = \"Income\") +\n",
    "  theme_minimal() +\n",
    "  theme(legend.position = \"none\")\n",
    "\n",
    "# Total_Depense\n",
    "p2 <- ggplot(data_clean, aes(x = Cluster_GMM, y = Total_Depense, fill = Cluster_GMM)) +\n",
    "  geom_boxplot(alpha = 0.7) +\n",
    "  labs(title = \"Distribution des dépenses totales\", x = \"Cluster\", y = \"Total_Depense\") +\n",
    "  theme_minimal() +\n",
    "  theme(legend.position = \"none\")\n",
    "\n",
    "# Customer_Since_Months\n",
    "p3 <- ggplot(data_clean, aes(x = Cluster_GMM, y = Customer_Since_Months, fill = Cluster_GMM)) +\n",
    "  geom_boxplot(alpha = 0.7) +\n",
    "  labs(title = \"Ancienneté client (en mois)\", x = \"Cluster\", y = \"Customer_Since_Months\") +\n",
    "  theme_minimal() +\n",
    "  theme(legend.position = \"none\")\n",
    "\n",
    "grid.arrange(p1, p2, p3, ncol = 3)"
   ]
  },
  {
   "cell_type": "markdown",
   "id": "e45cc927-c627-4756-b805-51344fd5933c",
   "metadata": {},
   "source": [
    "On remarque le cluster 1 est celui qui contient les revenus et les dépenses les plus élevées, tandis que le cluster 3 contient des clients plus récents qui gagnent et dépensent moins. On observe maintant la répartition des variables quantitatives dans chaque cluster."
   ]
  },
  {
   "cell_type": "code",
   "execution_count": null,
   "id": "1f25ea82-8315-42e8-ab67-3b12bca2b39d",
   "metadata": {},
   "outputs": [],
   "source": [
    "library(ggplot2)\n",
    "library(gridExtra)\n",
    "\n",
    "# Palette manuelle pour clusters 1, 2, 3\n",
    "cluster_colors <- c(\"1\" = \"red\", \"2\" = \"blue\", \"3\" = \"green\")\n",
    "\n",
    "# Plot 1 : Total_Enfants\n",
    "p1 <- ggplot(data_clean, aes(x = as.factor(Enfant), fill = Cluster_GMM)) +\n",
    "  geom_bar(position = \"dodge\") +\n",
    "  scale_fill_manual(values = cluster_colors) +\n",
    "  labs(title = \"Répartition du nombre d'enfants par cluster\", x = \"Total_Enfants\", fill = \"Cluster\") +\n",
    "  theme_minimal()\n",
    "\n",
    "# Plot 2 : Marital_Status\n",
    "p2 <- ggplot(data_clean, aes(x = Marital_Status, fill = Cluster_GMM)) +\n",
    "  geom_bar(position = \"dodge\") +\n",
    "  scale_fill_manual(values = cluster_colors) +\n",
    "  labs(title = \"Répartition du statut marital par cluster\", x = \"Marital_Status\", fill = \"Cluster\") +\n",
    "  theme_minimal()\n",
    "\n",
    "# Plot 3 : Age_Categorie\n",
    "p3 <- ggplot(data_clean, aes(x = Age_Categorie, fill = Cluster_GMM)) +\n",
    "  geom_bar(position = \"dodge\") +\n",
    "  scale_fill_manual(values = cluster_colors) +\n",
    "  labs(title = \"Répartition de la catégorie d'âge par cluster\", x = \"Age_Categorie\", fill = \"Cluster\") +\n",
    "  theme_minimal()\n",
    "\n",
    "# Affichage côte à côte\n",
    "grid.arrange(p1, p2, p3, ncol = 3)\n",
    "\n"
   ]
  },
  {
   "cell_type": "markdown",
   "id": "e869aa37-730d-47ee-9dd4-8b7e7ea106ca",
   "metadata": {},
   "source": [
    "On voit que le cluster 1 a moins d'enfants, et est plus âgé. Le cluster 3 quant à lui est plus jeune et a plus d'enfants. Le statut marital est équilibré entre chaque cluster."
   ]
  },
  {
   "cell_type": "markdown",
   "id": "a0c4d554-0460-445e-bb93-b1cb9bb46edc",
   "metadata": {},
   "source": [
    "Ainsi, cette première ACP et ce premier clustering commencent à confirmer les tendances aperçues lors des analyses uni et bi dimensionnelles, mais ils manquent d'interprétabilité, notamment dû au fait du grand nombre de variables présentes. On va donc se concentrer sur un nombre restreint de variables pour affiner notre étude."
   ]
  },
  {
   "cell_type": "markdown",
   "id": "158a4108-4d9b-40d9-95f1-06a67b27c511",
   "metadata": {
    "jp-MarkdownHeadingCollapsed": true
   },
   "source": [
    "## 4.2 Profil des personnes achetant du vin (ACP)"
   ]
  },
  {
   "cell_type": "markdown",
   "id": "f38cda16-8636-406d-85fc-ea3f16c1fc1c",
   "metadata": {},
   "source": [
    "On sélectionne quatre variables pour notre analyse sur les dépenses en vin."
   ]
  },
  {
   "cell_type": "code",
   "execution_count": null,
   "id": "c19b9fa0-eb77-4ff0-86ea-f8a65dd34ae1",
   "metadata": {},
   "outputs": [],
   "source": [
    "X <- data_clean[, c(\"Income\", \"Age\", \"Customer_Since_Months\", \"Total_Depense\")]"
   ]
  },
  {
   "cell_type": "markdown",
   "id": "985f94bd-0db2-4b0c-b19e-8fb1f8d2999e",
   "metadata": {},
   "source": [
    "On effectue une nouvelle ACP."
   ]
  },
  {
   "cell_type": "code",
   "execution_count": null,
   "id": "94e6e116-bd5c-4e48-a025-256376a4ab6b",
   "metadata": {},
   "outputs": [],
   "source": [
    "res_pca <- PCA(X, scale.unit = TRUE, ncp = 5, graph = FALSE)"
   ]
  },
  {
   "cell_type": "markdown",
   "id": "da31eab8-d47a-4126-9ea7-948073d5b310",
   "metadata": {},
   "source": [
    "On trace le graphique des variances cumulées, avec un trait à 80 % de variance expliquée"
   ]
  },
  {
   "cell_type": "code",
   "execution_count": null,
   "id": "e3fd9819-4a9b-44eb-b963-df726b08e134",
   "metadata": {},
   "outputs": [],
   "source": [
    "var_explained <- cumsum(res_pca$eig[1:4, 2]) / 100  \n",
    "composantes <- 0:3\n",
    "plot(composantes, var_explained,\n",
    "     type = \"b\", col = \"blue\", pch = 16,\n",
    "     xlab = \"Composantes principales\", ylab = \"Variance cumulée expliquée (%)\",\n",
    "     main = \"Part de variance cumulée expliquée par chaque axe\",\n",
    "     xaxt = \"n\")\n",
    "axis(1, at = composantes)\n",
    "abline(h = 0.8, col = \"red\", lty = 2)\n"
   ]
  },
  {
   "cell_type": "markdown",
   "id": "b44971e5-f31a-43b8-b43d-238759e08a76",
   "metadata": {},
   "source": [
    "On décide de garder deux dimensions. On se représente aussi le cercle des corrélations."
   ]
  },
  {
   "cell_type": "code",
   "execution_count": null,
   "id": "1b3fad9f-3ddf-47e9-a94d-6f151bf833b7",
   "metadata": {},
   "outputs": [],
   "source": [
    "fviz_pca_var(res_pca,\n",
    "             axes = c(1, 2),\n",
    "             col.var = \"blue\", \n",
    "             repel = TRUE,       \n",
    "             title = \"Cercle des corrélations\")"
   ]
  },
  {
   "cell_type": "markdown",
   "id": "1676ad9b-69d4-41b9-bc12-dd49e585219c",
   "metadata": {},
   "source": [
    "L'axe principal 1 est fortement engendré par Total_Depense et Income qui sont corrélés, il va donc séparer les personnes qui gagnent le plus (et qui donc dépensent plus) des personnes moins aisées. L'axe 2 est très fortement engendré par l'ancienneté, il va séparer les clients adhérents depuis longtemps des nouveaux clients. Ainsi, on peut assimiler le première dimension à un axe \"Niveau de vie\" et la deuxième à un axe \"Fidélité\"."
   ]
  },
  {
   "cell_type": "markdown",
   "id": "d6b04c4d-60e8-4abb-8073-9b98d4f3ab00",
   "metadata": {},
   "source": [
    "On projète les individus sur l'espace de l'ACP en faisant un habillage en fonction des dépenses en vin."
   ]
  },
  {
   "cell_type": "code",
   "execution_count": null,
   "id": "241b2850-21cb-49f5-add3-472e7f77ac26",
   "metadata": {},
   "outputs": [],
   "source": [
    "library(FactoMineR)\n",
    "library(ggplot2)\n",
    "library(viridis)\n",
    "\n",
    "ind_coords <- as.data.frame(res_pca$ind$coord)\n",
    "ind_coords$MntWines <- data_clean$MntWines\n",
    "ggplot(ind_coords, aes(x = Dim.1, y = Dim.2, fill = MntWines)) +\n",
    "  geom_point(shape = 21, color = \"black\", size = 3, alpha = 0.8) +\n",
    "  scale_fill_viridis(option = \"plasma\", name = \"Dépenses en vin\") +\n",
    "  labs(title = \"ACP - Coloration par Dépenses en vin\",\n",
    "       x = \"Composante principale 1 (Income / Dépenses Totales)\",\n",
    "       y = \"Composante principale 2 (Ancienneté)\") +\n",
    "  theme_minimal(base_size = 14) +\n",
    "  theme(plot.title = element_text(hjust = 0.5)) +\n",
    "  coord_fixed()\n",
    "\n"
   ]
  },
  {
   "cell_type": "markdown",
   "id": "e2d1755f-8770-4e32-b420-046665e0359f",
   "metadata": {},
   "source": [
    "On remarque que les personnes moins aisées dépensent très peu de vin et c'est cohérent. Tout d'abord car ils vont moins dépenser globalement donc cela implique limiter les \"gros achats\" comme du vin. Plus on évolue dans l'axe 1, plus les personnes sont aisées et vont généralement dépenser plus en vin ou du moins ils vont avoir le choix de le faire. Il existe plusieurs cas de personnes aisées qui dépensent pas beaucoup dans le vin car ce sont sûrement des gens qui n'aiment tout simplement pas le vin. Par contre il n'y a pas de cas de personnes avec une niveau de vie faible qui dépensent beaucoup dans le vin car elles ne peuvent pas se le permettre. Le long de l'axe 2, il n'y a pas de structure apparente. L'ancienneté ne semble pas influencer la consommation de vin."
   ]
  },
  {
   "cell_type": "markdown",
   "id": "44b2b1c0-8614-422d-968d-9d6840fb1a37",
   "metadata": {},
   "source": [
    "On peut aussi discrétiser la dépense en vin en 2 catégories de même taille : Faible et Elevé puis faire un habillage selon ces classes pour solidifier nos hypothèses."
   ]
  },
  {
   "cell_type": "code",
   "execution_count": null,
   "id": "e4259fa1-1358-46de-af04-637ebc0f2786",
   "metadata": {},
   "outputs": [],
   "source": [
    "# Discrétisation en 2 groupes égaux\n",
    "ind_coords <- as.data.frame(res_pca$ind$coord)\n",
    "ind_coords$MntWines <- data_clean$MntWines\n",
    "\n",
    "quantiles <- quantile(ind_coords$MntWines, probs = c(0, 0.5, 1))\n",
    "ind_coords$Wines_Cat <- cut(ind_coords$MntWines,\n",
    "                            breaks = quantiles,\n",
    "                            include.lowest = TRUE,\n",
    "                            labels = c(\"Faible\", \"Élevé\"))\n",
    "couleurs <- c(\"Faible\" = \"blue\", \"Élevé\" = \"orange\") #pour garder les mêmes couleurs que sur Python\n",
    "ggplot(ind_coords, aes(x = Dim.1, y = Dim.2, color = Wines_Cat)) +\n",
    "  geom_point(size = 3, alpha = 0.7) +\n",
    "  scale_color_manual(values = couleurs, name = \"Dépenses en vin\") +\n",
    "  labs(title = \"ACP - Dépenses en vin (2 classes)\",\n",
    "       x = \"Composante principale 1 (Income / Dépenses Totales)\",\n",
    "       y = \"Composante principale 2 (Ancienneté)\") +\n",
    "  theme_minimal(base_size = 14) +\n",
    "  theme(plot.title = element_text(hjust = 0.5)) +\n",
    "  coord_fixed()\n"
   ]
  },
  {
   "cell_type": "markdown",
   "id": "f77b2145-0973-4dab-b88f-6a4e01f06b12",
   "metadata": {},
   "source": [
    "On a clairement 2 clusters visibles. On peut s'intéresser à une autre catégorie de produits, les bonbons par exemple, pour voir si cette différence est autant marquée."
   ]
  },
  {
   "cell_type": "code",
   "execution_count": null,
   "id": "a37c39eb-d67d-4b02-ac2b-98cb04ad208b",
   "metadata": {},
   "outputs": [],
   "source": [
    "# Discrétisation en 2 groupes égaux sur MntSweetProducts\n",
    "ind_coords <- as.data.frame(res_pca$ind$coord)\n",
    "ind_coords$MntSweetProducts <- data_clean$MntSweetProducts\n",
    "quantiles <- quantile(ind_coords$MntSweetProducts, probs = c(0, 0.5, 1))\n",
    "ind_coords$S_Cat <- cut(ind_coords$MntSweetProducts,\n",
    "                        breaks = quantiles,\n",
    "                        include.lowest = TRUE,\n",
    "                        labels = c(\"Faible\", \"Élevé\"))\n",
    "couleurs <- c(\"Faible\" = \"blue\", \"Élevé\" = \"orange\")\n",
    "ggplot(ind_coords, aes(x = Dim.1, y = Dim.2, color = S_Cat)) +\n",
    "  geom_point(size = 3, alpha = 0.5) +\n",
    "  scale_color_manual(values = couleurs, name = \"Dépenses en bonbons\") +\n",
    "  labs(title = \"ACP - Dépenses en bonbons (2 classes)\",\n",
    "       x = \"Composante principale 1 (Income / Dépenses Totales)\",\n",
    "       y = \"Composante principale 2 (Ancienneté)\") +\n",
    "  theme_minimal(base_size = 14) +\n",
    "  theme(plot.title = element_text(hjust = 0.5)) +\n",
    "  coord_fixed()\n"
   ]
  },
  {
   "cell_type": "markdown",
   "id": "a21b6ea1-5d23-4e7c-8546-b80054b55037",
   "metadata": {},
   "source": [
    "La projection de la consommation de bonbons sur le plan factoriel montre, contrairement aux dépenses en vin, une structure moins claire le long des axes principaux. Cette comparaison met en évidence que ce sont entre autres les dépenses en vin qui présentent une relation marquée avec les dimensions socio-économiques extraites par l’ACP. Ce produit parfois onéreux apparait ainsi comme un indicateur pertinent pour différencier les profils de clients, notamment en fonction de leur niveau de revenu ou de leur propension à dépenser."
   ]
  },
  {
   "cell_type": "markdown",
   "id": "4672b329-31a0-475e-8d97-d5ea06a675da",
   "metadata": {},
   "source": [
    "Cette première analyse étant faite, on veut maintenant essayer de dessiner des profils types de clients en prenant en compte toutes les variables quantitatives."
   ]
  },
  {
   "cell_type": "markdown",
   "id": "23dca75c-d470-4aa1-b031-f0e4733e9a9c",
   "metadata": {
    "jp-MarkdownHeadingCollapsed": true
   },
   "source": [
    "## Quel est le profil des gens qui dépensent le plus (est ce qu’ils ont des enfants, sont-ils mariés ?...) "
   ]
  },
  {
   "cell_type": "markdown",
   "id": "3018cf4b-3ea2-4f7b-964c-cd5bc8b69572",
   "metadata": {},
   "source": [
    "Via l'ACP dans la section precédente, on remarque tout de même que les personnes qui dépensent le plus sont celles qui sont le plus influencées par les promotions.  On remarque aussi que la variable Income est trés corrélée avec celle de Total_Dépenses, ce qui nous dit (et cela est logique) que les personnes qui dépensent le plus sont celles avec le plus de revenus."
   ]
  },
  {
   "cell_type": "markdown",
   "id": "3d10e384-4059-44b1-9011-2c09206503a2",
   "metadata": {},
   "source": [
    "### AMC"
   ]
  },
  {
   "cell_type": "markdown",
   "id": "2dccb7bd-7ed7-4795-b85b-2198284b0490",
   "metadata": {},
   "source": [
    "L'objectif est de créer des profils types de clients pour essayer d'identifier ceux dépensant le plus, se basant sur les variables qualitatives."
   ]
  },
  {
   "cell_type": "code",
   "execution_count": null,
   "id": "a93213a7-3d9c-47e9-a7c4-5d1507b4a5f2",
   "metadata": {},
   "outputs": [],
   "source": [
    "# Créer data_qual sans NA\n",
    "data_qual <- na.omit(data_clean[, c(\"Education\", \"Marital_Status\", \"Age_Categorie\", \"Enfant\", \"Customer_Dt_Category\")])\n",
    "\n",
    "# Refaire AMC\n",
    "mca <- MCA(data_qual, graph = FALSE, ncp = 10)\n",
    "\n",
    "# le scree plot pour visualiser la chute des valeurs propres\n",
    "fviz_screeplot(mca, addlabels = TRUE, ylim = c(0, 50))\n"
   ]
  },
  {
   "cell_type": "markdown",
   "id": "e16e74a1-ac2b-4505-b9d2-8047dd8b0a6f",
   "metadata": {},
   "source": [
    "Etant en MCA, il est normal que les valeurs propres soient plus faibles que en ACP. On va regarder le représentativité des variables sur les dimensions. "
   ]
  },
  {
   "cell_type": "code",
   "execution_count": null,
   "id": "cc5bf418-2265-48bd-9574-380212253126",
   "metadata": {},
   "outputs": [],
   "source": [
    "# Visualiser les modalités avec une couleur selon leur cos²\n",
    "fviz_mca_var(mca, \n",
    "             col.var = \"cos2\",      # colorer par la qualité de représentation\n",
    "             gradient.cols = c(\"#00AFBB\", \"#E7B800\", \"#FC4E07\"),  # du bleu au rouge\n",
    "             repel = TRUE)          # évite le chevauchement des label"
   ]
  },
  {
   "cell_type": "markdown",
   "id": "dd6beeb0-668e-4147-8560-d3ee92f6a754",
   "metadata": {},
   "source": [
    "On voit bien que kes variables mieux representées sont les ages (0-30, 0-45, 60+), l'éducation élevée, seul "
   ]
  },
  {
   "cell_type": "markdown",
   "id": "98f03187-6cfe-45e1-b8f4-37b5fe5e03da",
   "metadata": {},
   "source": [
    "On va essayer de voir si naturellement des classes se forment en faisant des garphes d'individus et un habillage par variables."
   ]
  },
  {
   "cell_type": "code",
   "execution_count": null,
   "id": "9c9368f0-0bbf-47b6-893a-b25c2636f80a",
   "metadata": {},
   "outputs": [],
   "source": [
    "# Visualisation avec habillage par 'Education'\n",
    "fviz_mca_ind(mca, label = \"none\", habillage = data_qual$Education, addEllipses = TRUE)"
   ]
  },
  {
   "cell_type": "code",
   "execution_count": null,
   "id": "502f320d-efa0-41cc-86eb-ef1e255e91e7",
   "metadata": {},
   "outputs": [],
   "source": [
    "# Visualisation avec habillage par 'Marital_Status'\n",
    "fviz_mca_ind(mca, label = \"none\", habillage = data_qual$Marital_Status, addEllipses = TRUE)"
   ]
  },
  {
   "cell_type": "code",
   "execution_count": null,
   "id": "f2101ffb-277a-41ac-ba48-5a68edc44bf1",
   "metadata": {},
   "outputs": [],
   "source": [
    "# Visualisation avec habillage par 'Enfants'\n",
    "fviz_mca_ind(mca, label = \"none\", habillage = data_qual$Enfant, addEllipses = TRUE)"
   ]
  },
  {
   "cell_type": "code",
   "execution_count": null,
   "id": "e6a04320-87c1-46ae-9f3e-503052066a5a",
   "metadata": {},
   "outputs": [],
   "source": [
    "# Visualisation avec habillage par 'Customer_Dt_Category'\n",
    "fviz_mca_ind(mca, label = \"none\", habillage = data_qual$Customer_Dt_Category, addEllipses = TRUE)"
   ]
  },
  {
   "cell_type": "markdown",
   "id": "889f4051-7fbc-4c1c-98c7-302069ab048b",
   "metadata": {},
   "source": [
    "Il n'y a pas de difference entre les membre récents, moyens et anciens."
   ]
  },
  {
   "cell_type": "code",
   "execution_count": null,
   "id": "f90c8e49-db00-4480-b3f6-01b79dcb5691",
   "metadata": {},
   "outputs": [],
   "source": [
    "# Visualisation avec habillage par \"Age_Categorie'\n",
    "fviz_mca_ind(mca, label = \"none\", habillage = data_qual$Age_Categorie, addEllipses = TRUE)"
   ]
  },
  {
   "cell_type": "markdown",
   "id": "2ec86d75-ffd0-4c6e-8015-edba99246f2d",
   "metadata": {},
   "source": [
    "On peut remarquer que le groupe des individus de 0-30 se différencie par rapport au autres catégories d'age sur la dim 1. A l'inverse, sur la dim 2, se sont les catégories d'age 60+ et 30-45 qui s'opposent (on n'analyse pas la catégorie 45-60 vu qu'elle n'est pas bien réprésentée)."
   ]
  },
  {
   "cell_type": "markdown",
   "id": "7325fd26-9c15-43bb-8aea-7af44231b5f7",
   "metadata": {},
   "source": [
    "On peut voir un groupe s'extraire de cette analyse : les 0-30 ans qui sont seuls et sans enfant, qui s'oppose sur la dimension 1 aux autres catégories d'age qui ont des enfants et qui sont soit en couple soit divorcés."
   ]
  },
  {
   "cell_type": "markdown",
   "id": "df9ed566-6a1e-481c-9eb9-f30865fed9f6",
   "metadata": {},
   "source": [
    "Nous allons utiliser une méthode de clustering pour mieux catégoriser, en testant d'abord Kmean puis GMM."
   ]
  },
  {
   "cell_type": "markdown",
   "id": "60390728-2b34-4d4e-b0c0-c20dc4c512d7",
   "metadata": {
    "jp-MarkdownHeadingCollapsed": true
   },
   "source": [
    "#### K-means"
   ]
  },
  {
   "cell_type": "code",
   "execution_count": null,
   "id": "270fbfdd-aac1-4f7a-a44d-9d84734f06ed",
   "metadata": {},
   "outputs": [],
   "source": [
    "#on a gardé 5 dimensions\n",
    "data_kmeans <- mca$ind$coord\n",
    "\n",
    "# Elbow method pour choisir k optimal\n",
    "fviz_nbclust(data_kmeans, kmeans, method = \"wss\")"
   ]
  },
  {
   "cell_type": "markdown",
   "id": "e4fe825d-ab09-48b2-8597-501920aef4d1",
   "metadata": {},
   "source": [
    "Nous allons séparer en  5 classes."
   ]
  },
  {
   "cell_type": "code",
   "execution_count": null,
   "id": "9c89e493-5c52-4da6-803b-63163067ed7e",
   "metadata": {},
   "outputs": [],
   "source": [
    "res_km <- kmeans(data_kmeans, centers = 5, nstart = 42)\n",
    "fviz_cluster(list(data = data_kmeans, cluster = res_km$cluster), geom = \"point\",ellipse = FALSE)"
   ]
  },
  {
   "cell_type": "code",
   "execution_count": null,
   "id": "2cbe3eb4-4327-4e8b-b6d4-e00993524e97",
   "metadata": {},
   "outputs": [],
   "source": [
    "moyenne_depenses <- tapply(data_clean$Total_Depense, res_km$cluster, mean)\n",
    "# Créer un dataframe avec les moyennes des dépenses par cluster\n",
    "moyennes_df <- data.frame(cluster = as.factor(1:5), moyenne_depenses = moyenne_depenses)\n",
    "\n",
    "# Visualiser avec ggplot\n",
    "ggplot(moyennes_df, aes(x = cluster, y = moyenne_depenses)) +\n",
    "  geom_bar(stat = \"identity\", fill = \"skyblue\") +\n",
    "  ggtitle(\"Moyenne des dépenses par cluster\") +\n",
    "  xlab(\"Cluster\") +\n",
    "  ylab(\"Moyenne des dépenses\")"
   ]
  },
  {
   "cell_type": "markdown",
   "id": "243505ef-27e2-422c-a0d9-76808aacd1bc",
   "metadata": {},
   "source": [
    "Info sur le cluster 3 (depensent le moins):"
   ]
  },
  {
   "cell_type": "code",
   "execution_count": null,
   "id": "d099def3-7900-4ad6-b592-9861d8710a26",
   "metadata": {},
   "outputs": [],
   "source": [
    "cluster_3_data <- data_clean[res_km$cluster == 3, ]\n",
    "\n",
    "ggplot(cluster_3_data, aes(x = Education)) +\n",
    "  geom_bar(fill = \"blue\") +\n",
    "  ggtitle(\"Répartition des catégories de var_qual dans le cluster 3\")\n",
    "\n",
    "ggplot(cluster_3_data, aes(x = Enfant)) +\n",
    "  geom_bar(fill = \"blue\") +\n",
    "  ggtitle(\"Répartition des catégories de var_qual dans le cluster 3\")\n",
    "\n",
    "ggplot(cluster_3_data, aes(x = Age_Categorie)) +\n",
    "  geom_bar(fill = \"blue\") +\n",
    "  ggtitle(\"Répartition des catégories de var_qual dans le cluster 3\")\n",
    "\n",
    "ggplot(cluster_3_data, aes(x = Marital_Status)) +\n",
    "  geom_bar(fill = \"blue\") +\n",
    "  ggtitle(\"Répartition des catégories de var_qual dans le cluster 3\")\n",
    "\n"
   ]
  },
  {
   "cell_type": "markdown",
   "id": "62c95b1f-274c-4507-a2da-8bca325d9962",
   "metadata": {},
   "source": [
    "Analyse du cluster 1 (qui dépensent le plus)"
   ]
  },
  {
   "cell_type": "code",
   "execution_count": null,
   "id": "39385895-de27-485d-8117-d46d412a8e24",
   "metadata": {},
   "outputs": [],
   "source": [
    "cluster_1_data <- data_clean[res_km$cluster == 1, ]\n",
    "\n",
    "ggplot(cluster_1_data, aes(x = Education)) +\n",
    "  geom_bar(fill = \"blue\") +\n",
    "  ggtitle(\"Répartition des catégories de var_qual dans le cluster 1\")\n",
    "\n",
    "ggplot(cluster_1_data, aes(x = Enfant)) +\n",
    "  geom_bar(fill = \"blue\") +\n",
    "  ggtitle(\"Répartition des catégories de var_qual dans le cluster 1\")\n",
    "\n",
    "ggplot(cluster_1_data, aes(x = Age_Categorie)) +\n",
    "  geom_bar(fill = \"blue\") +\n",
    "  ggtitle(\"Répartition des catégories de var_qual dans le cluster 1\")\n",
    "\n",
    "ggplot(cluster_1_data, aes(x = Marital_Status)) +\n",
    "  geom_bar(fill = \"blue\") +\n",
    "  ggtitle(\"Répartition des catégories de var_qual dans le cluster 1\")\n"
   ]
  },
  {
   "cell_type": "markdown",
   "id": "4da98417-ae2d-403e-ae8b-bc87ae7d6379",
   "metadata": {
    "jp-MarkdownHeadingCollapsed": true
   },
   "source": [
    "### GMM"
   ]
  },
  {
   "cell_type": "code",
   "execution_count": null,
   "id": "19b7520e-d1ad-4190-a282-547f803aa6a3",
   "metadata": {},
   "outputs": [],
   "source": [
    "set.seed(5)\n",
    "library(mclust)\n",
    "\n",
    "coord_amc<- mca$ind$coord\n",
    "# Appliquer GMM sur les coordonnées AMC\n",
    "gmm_model <- Mclust(coord_amc)\n",
    "\n",
    "# Afficher le résumé\n",
    "summary(gmm_model)"
   ]
  },
  {
   "cell_type": "code",
   "execution_count": null,
   "id": "16e93cfc-8049-4cc6-8596-7ef30b388cb7",
   "metadata": {},
   "outputs": [],
   "source": [
    "data_clean$Cluster_GMM <- as.factor(gmm_model$classification)\n"
   ]
  },
  {
   "cell_type": "code",
   "execution_count": null,
   "id": "e175d965-1b57-405d-b79f-f2a1881ed0e4",
   "metadata": {},
   "outputs": [],
   "source": [
    "data_clean %>%\n",
    "  group_by(Cluster_GMM) %>%\n",
    "  summarise(Depense_Moyenne = mean(Total_Depense, na.rm = TRUE),\n",
    "            Nombre_Clients = n())"
   ]
  },
  {
   "cell_type": "code",
   "execution_count": null,
   "id": "2d426e69-f8ec-4357-a841-feedd343cad8",
   "metadata": {},
   "outputs": [],
   "source": [
    "fviz_mclust(gmm_model, \"classification\", geom = \"point\", ellipse.type = \"norm\", palette = \"jco\")"
   ]
  },
  {
   "cell_type": "code",
   "execution_count": null,
   "id": "13273f7a-43b3-4d43-b718-73a0273fc8d4",
   "metadata": {},
   "outputs": [],
   "source": [
    "ggplot(data_clean, aes(x = Cluster_GMM, y = Total_Depense, fill = Cluster_GMM)) +\n",
    "  geom_boxplot() +\n",
    "  labs(title = \"Dépense totale par cluster\")"
   ]
  },
  {
   "cell_type": "code",
   "execution_count": null,
   "id": "4ea0a5e6-00ee-4935-990f-45951e9371cc",
   "metadata": {},
   "outputs": [],
   "source": [
    "# Calculer la dépense moyenne par cluster\n",
    "depenses_clusters <- data_clean %>%\n",
    "  group_by(Cluster_GMM) %>%\n",
    "  summarise(Depense_Moyenne = mean(Total_Depense, na.rm = TRUE)) %>%\n",
    "  arrange(desc(Depense_Moyenne))\n",
    "\n",
    "depenses_clusters #classe les cluster du plus au moins dépensier\n",
    "\n",
    "cluster_top <- depenses_clusters$Cluster_GMM[1]  # ID du cluster avec dépense max\n",
    "\n",
    "# Filtrer les clients de ce cluster\n",
    "data_top <- data_clean %>% filter(Cluster_GMM == cluster_top)"
   ]
  },
  {
   "cell_type": "code",
   "execution_count": null,
   "id": "dfddbed8-b31a-4ed5-a86a-b285bf4a923a",
   "metadata": {},
   "outputs": [],
   "source": [
    "summary(data_top[, c(\"Education\", \"Marital_Status\", \"Age_Categorie\", \"Enfant\", \"Customer_Dt_Category\")])"
   ]
  },
  {
   "cell_type": "code",
   "execution_count": null,
   "id": "27614633-479d-442b-8013-5ae6c5adb4c9",
   "metadata": {},
   "outputs": [],
   "source": [
    "prop.table(table(data_top$Education))/prop.table(table(data_clean$Education))"
   ]
  },
  {
   "cell_type": "code",
   "execution_count": null,
   "id": "43364d02-136e-4891-a841-1aeea9226b29",
   "metadata": {},
   "outputs": [],
   "source": [
    "prop.table(table(data_top$Marital_Status))/prop.table(table(data_clean$Marital_Status))"
   ]
  },
  {
   "cell_type": "code",
   "execution_count": null,
   "id": "2149f915-6ec8-4890-b5b4-217e2d7a93bb",
   "metadata": {},
   "outputs": [],
   "source": [
    "prop.table(table(data_top$Age_Categorie))/prop.table(table(data_clean$Age_Categorie))"
   ]
  },
  {
   "cell_type": "code",
   "execution_count": null,
   "id": "0ebfe4f3-9554-46cc-b3cf-a65416d4b494",
   "metadata": {},
   "outputs": [],
   "source": [
    "prop.table(table(data_top$Enfant))/prop.table(table(data_clean$Enfant))"
   ]
  },
  {
   "cell_type": "markdown",
   "id": "3843259a-1a26-417d-95ed-bd50aaf5dcb5",
   "metadata": {},
   "source": [
    "On peut interpreter que le groupe dépensant le plus est celui sans enfant, jeune.\n",
    "\n",
    "Nous allons faire un clustering DBScan pour appronfondir notre clustering et comfirmer ces groupes (qui sont aléatoires dans le cas du GMM)."
   ]
  },
  {
   "cell_type": "markdown",
   "id": "a789875e-4052-4c4c-aaf2-27bce5af474d",
   "metadata": {},
   "source": [
    "### CAH"
   ]
  },
  {
   "cell_type": "code",
   "execution_count": null,
   "id": "0b8d8d50-a4aa-4750-bf7d-1d6d77aaaefa",
   "metadata": {},
   "outputs": [],
   "source": [
    "# Extraire les cinq premières composantes principales\n",
    "acp_scores <- acp$ind$coord[, 1:5] \n",
    "dist_matrix <- dist(acp_scores, method = \"euclidean\")\n",
    "cah_result <- hclust(dist_matrix, method = \"ward.D2\")"
   ]
  },
  {
   "cell_type": "code",
   "execution_count": null,
   "id": "c8e892e7-ed07-44a1-a083-c7c6e3e902a5",
   "metadata": {},
   "outputs": [],
   "source": [
    "plot(cah_result, main = \"Dendrogramme de la CAH\", xlab = \"\", sub = \"\")"
   ]
  },
  {
   "cell_type": "code",
   "execution_count": null,
   "id": "0b0c5d75-e247-4567-823b-ffdb2f612431",
   "metadata": {},
   "outputs": [],
   "source": [
    "# Découper l'arbre en 4 clusters\n",
    "clusters <- cutree(cah_result, k = 3)\n",
    "\n",
    "# Afficher les clusters\n",
    "table(clusters)"
   ]
  },
  {
   "cell_type": "code",
   "execution_count": null,
   "id": "75edb708-3a17-4953-b2ff-6f0feac6f3ec",
   "metadata": {},
   "outputs": [],
   "source": [
    "#Ajouter les clusters au score des composantes principales\n",
    "acp_scores_df <- data.frame(acp_scores, Cluster = as.factor(clusters))\n",
    "# Associer les clusters aux données\n",
    "data_with_clusters <- cbind(col_acp, Cluster = as.factor(clusters))\n",
    "# Visualiser les clusters sur les 2 premières composantes principales, la dim 1 expliquant trés bien le Total des dépenses\n",
    "library(ggplot2)\n",
    "ggplot(acp_scores_df, aes(x = Dim.1, y = Dim.2, color = Cluster)) +\n",
    "  geom_point(size = 3) +\n",
    "  labs(title = \"CAH sur les 2 premières composantes principales\", x = \"Composante 1\", y = \"Composante 2\") +\n",
    "  theme_minimal()"
   ]
  },
  {
   "cell_type": "code",
   "execution_count": null,
   "id": "66d75312-19d3-4e62-807e-3b81e5b70224",
   "metadata": {},
   "outputs": [],
   "source": [
    "# Visualiser la distribution des variables quantitatives par cluster\n",
    "ggplot(data_with_clusters, aes(x = Cluster, y = Total_Depense, fill = Cluster)) +\n",
    "  geom_boxplot() +\n",
    "  labs(title = \"Distribution des dépenses totales par cluster\", x = \"Cluster\", y = \"Total Dépenses\")"
   ]
  },
  {
   "cell_type": "markdown",
   "id": "da63a233-4949-4595-8fcb-c481733a13bf",
   "metadata": {},
   "source": [
    "On remarque que la classe 1 est trés corrélée avec la dim 1 de l'ACP qui représentée trés bien le Total de dépense. Cela se traduit trés bien dans les boxplots, ou la classe 1 dépense bcp plus que les autres.\n",
    "\n",
    "Analysons la :"
   ]
  },
  {
   "cell_type": "code",
   "execution_count": null,
   "id": "6970175c-6732-454f-8a63-cd6a44a1aa8d",
   "metadata": {},
   "outputs": [],
   "source": [
    "ggplot(data_with_clusters, aes(x = Cluster, y = Income, fill = Cluster)) +\n",
    "  geom_boxplot() +\n",
    "  labs(title = \"Distribution des dépenses totales par cluster\", x = \"Cluster\", y = \"Income\")"
   ]
  },
  {
   "cell_type": "code",
   "execution_count": null,
   "id": "37558a37-1d1b-4865-a256-2ac61de7b54b",
   "metadata": {},
   "outputs": [],
   "source": [
    "ggplot(data_with_clusters, aes(x = Cluster, y = MntMeatProducts, fill = Cluster)) +\n",
    "  geom_boxplot() +\n",
    "  labs(title = \"Distribution des dépenses totales par cluster\", x = \"Cluster\", y = \"MntMeatProducts\")"
   ]
  },
  {
   "cell_type": "code",
   "execution_count": null,
   "id": "253d1e2f-3710-424e-8200-5be1bdc68b5f",
   "metadata": {},
   "outputs": [],
   "source": [
    "ggplot(data_with_clusters, aes(x = Cluster, y = MntSweetProducts, fill = Cluster)) +\n",
    "  geom_boxplot() +\n",
    "  labs(title = \"Distribution des dépenses totales par cluster\", x = \"Cluster\", y = \"MntSweetProducts\")"
   ]
  },
  {
   "cell_type": "markdown",
   "id": "d0ad5df6-9d54-4048-9f62-57f84b2285d8",
   "metadata": {},
   "source": [
    "Bon en gros ca suit vraiment la dimension 1."
   ]
  },
  {
   "cell_type": "code",
   "execution_count": null,
   "id": "da01d8b8-a11e-4829-a072-a294ed3f2cd9",
   "metadata": {},
   "outputs": [],
   "source": [
    "ggplot(data_with_clusters, aes(x = Marital_Status, fill = Cluster)) +\n",
    "  geom_bar(position = \"fill\") +\n",
    "  labs(title = \"Répartition du statut marital par cluster\", x = \"Statut marital\", y = \"Proportion\")"
   ]
  },
  {
   "cell_type": "code",
   "execution_count": null,
   "id": "706b5b8c-5692-439b-bcfb-026efe7ae8ac",
   "metadata": {},
   "outputs": [],
   "source": [
    "ggplot(data_with_clusters, aes(x = Enfant, fill = Cluster)) +\n",
    "  geom_bar(position = \"fill\") +\n",
    "  labs(title = \"Répartition du statut marital par cluster\", x = \"Enfants\", y = \"Proportion\")"
   ]
  },
  {
   "cell_type": "code",
   "execution_count": null,
   "id": "85add7d1-6a24-4bfa-bb91-c0bd15388647",
   "metadata": {},
   "outputs": [],
   "source": [
    "ggplot(data_with_clusters, aes(x = Age_Categorie, fill = Cluster)) +\n",
    "  geom_bar(position = \"fill\") +\n",
    "  labs(title = \"Répartition du statut marital par cluster\", x = \"Age_Categorie\", y = \"Proportion\")"
   ]
  },
  {
   "cell_type": "code",
   "execution_count": null,
   "id": "a78cf70a-5d13-4568-ab36-9143a1463418",
   "metadata": {},
   "outputs": [],
   "source": [
    "ggplot(data_with_clusters, aes(x = Education, fill = Cluster)) +\n",
    "  geom_bar(position = \"fill\") +\n",
    "  labs(title = \"Répartition du statut marital par cluster\", x = \"Education\", y = \"Proportion\")"
   ]
  },
  {
   "cell_type": "markdown",
   "id": "565b120d-fadf-491d-aaac-11f0d20db19b",
   "metadata": {},
   "source": [
    "Bon le gros du gros c'est que les personnes qui dépensent le plus sont celle qui n'ont pas d'enfant, soit jeune soit trés vieux, peu importe l'éducation mais globalement plutot seul. C'est ce que on avait vu dans les autres types de clusters mais la c'ets le plus évident, ce suit les dimensions de l'ACP. Les résultats sont cohérents avec ceux de l'ACM.\n"
   ]
  },
  {
   "cell_type": "markdown",
   "id": "c50c8ed1-c876-4a99-aca7-7d79b3a94cee",
   "metadata": {},
   "source": [
    "idée : les gens qui dépensent le plus sont ceux sans enfants => pas utilse de faire un rayon enfant. Développer les rayon vin et viande, qui coutent plus cher mais qui interressent les gens qui ont de l'argent et pas d'enfants."
   ]
  },
  {
   "cell_type": "code",
   "execution_count": null,
   "id": "3ccc20e2-9668-4467-b4d5-e23ab92d3653",
   "metadata": {},
   "outputs": [],
   "source": []
  },
  {
   "cell_type": "markdown",
   "id": "5d6f6f4e-a788-4c7a-9f98-2a4eabda42a9",
   "metadata": {},
   "source": [
    "## 4.3 Profil type des clients en fonction des données quantitatives (NMF + K-means)"
   ]
  },
  {
   "cell_type": "markdown",
   "id": "b954cba3-4b1c-4a3c-a317-511509d08f22",
   "metadata": {},
   "source": [
    "Pour cela, on effectue une réduction de dimension non linéaire au travers d'une NMF (Non negative Matrix Factorisation). On peut directement réutiliser les données quantitatives car elles sont toutes positives.\n"
   ]
  },
  {
   "cell_type": "code",
   "execution_count": 88,
   "id": "6bd196bf-5997-46c8-b8f3-8c652f719690",
   "metadata": {},
   "outputs": [],
   "source": [
    "data_clean$Total_Cmp<-as.integer(as.character(data_clean$Total_Cmp))\n",
    "\n",
    "features_nmf <- c(\n",
    "  \"Income\", \"Recency\", \"MntWines\", \"MntFruits\", \"MntMeatProducts\",\n",
    "  \"MntFishProducts\", \"MntSweetProducts\", \"MntGoldProds\",\n",
    "  \"NumDealsPurchases\", \"NumWebPurchases\", \"NumCatalogPurchases\",\n",
    "  \"NumStorePurchases\", \"NumWebVisitsMonth\", \"Total_Depense\",\n",
    "  \"Total_Achat\", \"Total_Cmp\", \"Customer_Since_Months\"\n",
    ")\n"
   ]
  },
  {
   "cell_type": "markdown",
   "id": "5894b608-d66c-4186-ab4a-ba63c9f3ccf7",
   "metadata": {},
   "source": [
    "On applique la NMF."
   ]
  },
  {
   "cell_type": "code",
   "execution_count": 94,
   "id": "419ffee3-595b-47f0-9b66-70ccb74ffe82",
   "metadata": {},
   "outputs": [
    {
     "name": "stderr",
     "output_type": "stream",
     "text": [
      "NMF algorithm: 'brunet'\n",
      "\n",
      "NMF seeding method: random\n",
      "\n"
     ]
    },
    {
     "name": "stdout",
     "output_type": "stream",
     "text": [
      "Iterations:  450/2000 \n",
      "DONE (converged at 460/2000 iterations)\n"
     ]
    }
   ],
   "source": [
    "X <- data_clean[, features_nmf]\n",
    "\n",
    "# Application de NMF avec 3 composantes\n",
    "set.seed(3)\n",
    "nmf_result <- nmf(X, rank = 3, method = \"brunet\", .options = \"v\")\n",
    "\n",
    "# Extraire les matrices W et H\n",
    "W <- basis(nmf_result)  # Clients x composantes\n",
    "H <- coef(nmf_result)   # Composantes x variables\n"
   ]
  },
  {
   "cell_type": "markdown",
   "id": "65d18090-9479-430d-97bc-82eb9c3e9297",
   "metadata": {},
   "source": [
    "On affiche la matrice H qui correspond à la représentation latente des variables."
   ]
  },
  {
   "cell_type": "code",
   "execution_count": 95,
   "id": "cb4deec6-d22e-43ea-b0c1-583af242702e",
   "metadata": {},
   "outputs": [
    {
     "data": {
      "text/html": [
       "<table class=\"dataframe\">\n",
       "<caption>A data.frame: 17 × 3</caption>\n",
       "<thead>\n",
       "\t<tr><th></th><th scope=col>Composante_0</th><th scope=col>Composante_1</th><th scope=col>Composante_2</th></tr>\n",
       "\t<tr><th></th><th scope=col>&lt;dbl&gt;</th><th scope=col>&lt;dbl&gt;</th><th scope=col>&lt;dbl&gt;</th></tr>\n",
       "</thead>\n",
       "<tbody>\n",
       "\t<tr><th scope=row>Income</th><td>2.016239e-01</td><td>1.837202e-01</td><td>2.566554e-01</td></tr>\n",
       "\t<tr><th scope=row>Total_Depense</th><td>7.271093e-03</td><td>6.062074e-05</td><td>4.891241e-05</td></tr>\n",
       "\t<tr><th scope=row>MntWines</th><td>3.714111e-03</td><td>1.344164e-05</td><td>2.290182e-11</td></tr>\n",
       "\t<tr><th scope=row>MntMeatProducts</th><td>2.001733e-03</td><td>4.018963e-08</td><td>3.881969e-08</td></tr>\n",
       "\t<tr><th scope=row>MntFishProducts</th><td>4.416359e-04</td><td>1.789559e-07</td><td>1.753831e-05</td></tr>\n",
       "\t<tr><th scope=row>MntGoldProds</th><td>4.122547e-04</td><td>7.753269e-05</td><td>4.845022e-05</td></tr>\n",
       "\t<tr><th scope=row>MntSweetProducts</th><td>3.160131e-04</td><td>3.159971e-06</td><td>1.358078e-05</td></tr>\n",
       "\t<tr><th scope=row>MntFruits</th><td>3.094038e-04</td><td>4.884563e-06</td><td>7.650933e-06</td></tr>\n",
       "\t<tr><th scope=row>Total_Achat</th><td>8.422636e-05</td><td>3.171963e-05</td><td>3.836837e-05</td></tr>\n",
       "\t<tr><th scope=row>Recency</th><td>5.262643e-05</td><td>2.369540e-04</td><td>3.218924e-04</td></tr>\n",
       "\t<tr><th scope=row>Customer_Since_Months</th><td>3.371145e-05</td><td>7.228848e-05</td><td>1.144704e-04</td></tr>\n",
       "\t<tr><th scope=row>NumStorePurchases</th><td>3.090152e-05</td><td>1.802390e-05</td><td>2.280673e-05</td></tr>\n",
       "\t<tr><th scope=row>NumCatalogPurchases</th><td>3.005136e-05</td><td>1.192320e-06</td><td>8.105635e-07</td></tr>\n",
       "\t<tr><th scope=row>NumWebPurchases</th><td>2.388950e-05</td><td>1.203157e-05</td><td>1.460844e-05</td></tr>\n",
       "\t<tr><th scope=row>Total_Cmp</th><td>4.206442e-06</td><td>5.995918e-07</td><td>6.796166e-07</td></tr>\n",
       "\t<tr><th scope=row>NumDealsPurchases</th><td>1.432354e-06</td><td>1.216806e-05</td><td>1.509994e-05</td></tr>\n",
       "\t<tr><th scope=row>NumWebVisitsMonth</th><td>2.752166e-07</td><td>2.531855e-05</td><td>4.097886e-05</td></tr>\n",
       "</tbody>\n",
       "</table>\n"
      ],
      "text/latex": [
       "A data.frame: 17 × 3\n",
       "\\begin{tabular}{r|lll}\n",
       "  & Composante\\_0 & Composante\\_1 & Composante\\_2\\\\\n",
       "  & <dbl> & <dbl> & <dbl>\\\\\n",
       "\\hline\n",
       "\tIncome & 2.016239e-01 & 1.837202e-01 & 2.566554e-01\\\\\n",
       "\tTotal\\_Depense & 7.271093e-03 & 6.062074e-05 & 4.891241e-05\\\\\n",
       "\tMntWines & 3.714111e-03 & 1.344164e-05 & 2.290182e-11\\\\\n",
       "\tMntMeatProducts & 2.001733e-03 & 4.018963e-08 & 3.881969e-08\\\\\n",
       "\tMntFishProducts & 4.416359e-04 & 1.789559e-07 & 1.753831e-05\\\\\n",
       "\tMntGoldProds & 4.122547e-04 & 7.753269e-05 & 4.845022e-05\\\\\n",
       "\tMntSweetProducts & 3.160131e-04 & 3.159971e-06 & 1.358078e-05\\\\\n",
       "\tMntFruits & 3.094038e-04 & 4.884563e-06 & 7.650933e-06\\\\\n",
       "\tTotal\\_Achat & 8.422636e-05 & 3.171963e-05 & 3.836837e-05\\\\\n",
       "\tRecency & 5.262643e-05 & 2.369540e-04 & 3.218924e-04\\\\\n",
       "\tCustomer\\_Since\\_Months & 3.371145e-05 & 7.228848e-05 & 1.144704e-04\\\\\n",
       "\tNumStorePurchases & 3.090152e-05 & 1.802390e-05 & 2.280673e-05\\\\\n",
       "\tNumCatalogPurchases & 3.005136e-05 & 1.192320e-06 & 8.105635e-07\\\\\n",
       "\tNumWebPurchases & 2.388950e-05 & 1.203157e-05 & 1.460844e-05\\\\\n",
       "\tTotal\\_Cmp & 4.206442e-06 & 5.995918e-07 & 6.796166e-07\\\\\n",
       "\tNumDealsPurchases & 1.432354e-06 & 1.216806e-05 & 1.509994e-05\\\\\n",
       "\tNumWebVisitsMonth & 2.752166e-07 & 2.531855e-05 & 4.097886e-05\\\\\n",
       "\\end{tabular}\n"
      ],
      "text/markdown": [
       "\n",
       "A data.frame: 17 × 3\n",
       "\n",
       "| <!--/--> | Composante_0 &lt;dbl&gt; | Composante_1 &lt;dbl&gt; | Composante_2 &lt;dbl&gt; |\n",
       "|---|---|---|---|\n",
       "| Income | 2.016239e-01 | 1.837202e-01 | 2.566554e-01 |\n",
       "| Total_Depense | 7.271093e-03 | 6.062074e-05 | 4.891241e-05 |\n",
       "| MntWines | 3.714111e-03 | 1.344164e-05 | 2.290182e-11 |\n",
       "| MntMeatProducts | 2.001733e-03 | 4.018963e-08 | 3.881969e-08 |\n",
       "| MntFishProducts | 4.416359e-04 | 1.789559e-07 | 1.753831e-05 |\n",
       "| MntGoldProds | 4.122547e-04 | 7.753269e-05 | 4.845022e-05 |\n",
       "| MntSweetProducts | 3.160131e-04 | 3.159971e-06 | 1.358078e-05 |\n",
       "| MntFruits | 3.094038e-04 | 4.884563e-06 | 7.650933e-06 |\n",
       "| Total_Achat | 8.422636e-05 | 3.171963e-05 | 3.836837e-05 |\n",
       "| Recency | 5.262643e-05 | 2.369540e-04 | 3.218924e-04 |\n",
       "| Customer_Since_Months | 3.371145e-05 | 7.228848e-05 | 1.144704e-04 |\n",
       "| NumStorePurchases | 3.090152e-05 | 1.802390e-05 | 2.280673e-05 |\n",
       "| NumCatalogPurchases | 3.005136e-05 | 1.192320e-06 | 8.105635e-07 |\n",
       "| NumWebPurchases | 2.388950e-05 | 1.203157e-05 | 1.460844e-05 |\n",
       "| Total_Cmp | 4.206442e-06 | 5.995918e-07 | 6.796166e-07 |\n",
       "| NumDealsPurchases | 1.432354e-06 | 1.216806e-05 | 1.509994e-05 |\n",
       "| NumWebVisitsMonth | 2.752166e-07 | 2.531855e-05 | 4.097886e-05 |\n",
       "\n"
      ],
      "text/plain": [
       "                      Composante_0 Composante_1 Composante_2\n",
       "Income                2.016239e-01 1.837202e-01 2.566554e-01\n",
       "Total_Depense         7.271093e-03 6.062074e-05 4.891241e-05\n",
       "MntWines              3.714111e-03 1.344164e-05 2.290182e-11\n",
       "MntMeatProducts       2.001733e-03 4.018963e-08 3.881969e-08\n",
       "MntFishProducts       4.416359e-04 1.789559e-07 1.753831e-05\n",
       "MntGoldProds          4.122547e-04 7.753269e-05 4.845022e-05\n",
       "MntSweetProducts      3.160131e-04 3.159971e-06 1.358078e-05\n",
       "MntFruits             3.094038e-04 4.884563e-06 7.650933e-06\n",
       "Total_Achat           8.422636e-05 3.171963e-05 3.836837e-05\n",
       "Recency               5.262643e-05 2.369540e-04 3.218924e-04\n",
       "Customer_Since_Months 3.371145e-05 7.228848e-05 1.144704e-04\n",
       "NumStorePurchases     3.090152e-05 1.802390e-05 2.280673e-05\n",
       "NumCatalogPurchases   3.005136e-05 1.192320e-06 8.105635e-07\n",
       "NumWebPurchases       2.388950e-05 1.203157e-05 1.460844e-05\n",
       "Total_Cmp             4.206442e-06 5.995918e-07 6.796166e-07\n",
       "NumDealsPurchases     1.432354e-06 1.216806e-05 1.509994e-05\n",
       "NumWebVisitsMonth     2.752166e-07 2.531855e-05 4.097886e-05"
      ]
     },
     "metadata": {},
     "output_type": "display_data"
    }
   ],
   "source": [
    "# Transposition de H\n",
    "H_t <- t(H)\n",
    "\n",
    "rownames(H_t) <- features_nmf\n",
    "colnames(H_t) <- paste0(\"Composante_\", 1:ncol(H_t) - 1)\n",
    "\n",
    "H_df <- as.data.frame(H_t)\n",
    "H_df[order(-H_df$Composante_0), , drop = FALSE]\n"
   ]
  },
  {
   "cell_type": "markdown",
   "id": "4e8c5bb9-de13-41d3-8009-54e964855637",
   "metadata": {},
   "source": [
    "On a réduit nos données en 3 composantes latentes. On voit que le poids des achats et dépenses en tout genre est le plus fort dans la composante 0, avec le salaire en plus. On peut assimiler la composante 0 au pouvoir d'achat. La composante 1 est surtout influencée par l'ancienneté, la fréquentation du site web, et le nombre d'achats en promotion. On peut y voir une composante liée à la fidélite. La composante 2 correspond au nombre de jours depuis le dernier achat.\n",
    "\n",
    "Pour dessiner des profils types, on va effectuer un clustering K-means sur la matrice W. Elle correspond à la représentation latente des individus sur nos trois composantes. On commence par la méthode du coude pour déterminer le nombre de clusters optimaux."
   ]
  },
  {
   "cell_type": "code",
   "execution_count": 96,
   "id": "805129ba-b61b-4e28-9850-814c7effbd72",
   "metadata": {},
   "outputs": [
    {
     "data": {
      "image/png": "[encoded data removed]",
      "text/plain": [
       "plot without title"
      ]
     },
     "metadata": {
      "image/png": {
       "height": 420,
       "width": 420
      }
     },
     "output_type": "display_data"
    }
   ],
   "source": [
    "inerties <- c()\n",
    "K_range <- 1:12\n",
    "\n",
    "for (k in K_range) {\n",
    "  kmeans_model <- kmeans(W, centers = k, nstart = 10)\n",
    "  inerties <- c(inerties, kmeans_model$tot.withinss)\n",
    "}\n",
    "\n",
    "elbow_df <- data.frame(k = K_range, inertia = inerties)\n",
    "\n",
    "ggplot(elbow_df, aes(x = k, y = inertia)) +\n",
    "  geom_line() +\n",
    "  geom_point() +\n",
    "  ggtitle(\"Méthode du coude pour KMeans (sur la matrice NMF)\") +\n",
    "  xlab(\"Nombre de clusters (k)\") +\n",
    "  ylab(\"Inertie intra-cluster\") \n"
   ]
  },
  {
   "cell_type": "markdown",
   "id": "c67754c2-4919-41ab-8659-444ba4196534",
   "metadata": {},
   "source": [
    "On décide de garder 3 clusters."
   ]
  },
  {
   "cell_type": "code",
   "execution_count": 97,
   "id": "b4522fd2-6a35-4c2d-9622-acc0d87ad042",
   "metadata": {},
   "outputs": [],
   "source": [
    "# Appliquer le clustering KMeans avec 3 clusters\n",
    "set.seed(0)\n",
    "kmeans_final <- kmeans(W, centers = 3, nstart = 10)\n",
    "\n",
    "\n",
    "data_clean$Cluster_NMF <- kmeans_final$cluster"
   ]
  },
  {
   "cell_type": "markdown",
   "id": "c557d930-4578-4baf-8736-7d9bd18ab8a9",
   "metadata": {},
   "source": [
    "On représente graphiquement la répartition des clusters selon les composantes latentes 0 et 1."
   ]
  },
  {
   "cell_type": "code",
   "execution_count": 98,
   "id": "b4229368-2616-4f17-96b7-fbbcebdf251f",
   "metadata": {},
   "outputs": [
    {
     "data": {
      "image/png": "[encoded data removed]",
      "text/plain": [
       "plot without title"
      ]
     },
     "metadata": {
      "image/png": {
       "height": 420,
       "width": 420
      }
     },
     "output_type": "display_data"
    }
   ],
   "source": [
    "cluster_names <- c(\"Frileux\", \"Fidèles\", \"Premium\")\n",
    "\n",
    "data_clean$Cluster_NMF_Nom <- factor(cluster_names[data_clean$Cluster_NMF],\n",
    "                                   levels = cluster_names)\n",
    "\n",
    "df_plot <- data.frame(\n",
    "  Composante0 = W[, 1],\n",
    "  Composante1 = W[, 2],\n",
    "  Composante2 = W[, 3],\n",
    "  Cluster = data_clean$Cluster_NMF_Nom\n",
    ")\n",
    "\n",
    "custom_palette <- c(\"Fidèles\" = \"#0080FF\",   # bleu\n",
    "                    \"Premium\" = \"#FF0000\",   # rouge\n",
    "                    \"Frileux\" = \"#008000\")   # vert\n",
    "\n",
    "centroids <- kmeans_final$centers\n",
    "\n",
    "ggplot(df_plot, aes(x = Composante0, y = Composante1, color = Cluster)) +\n",
    "  geom_point(size = 3, alpha = 0.7) +\n",
    "  geom_point(data = as.data.frame(centroids), \n",
    "             aes(x = V1, y = V2), \n",
    "             color = \"black\", size = 6, shape = 4) + \n",
    "  scale_color_manual(values = custom_palette) +\n",
    "  labs(title = \"Projection des individus dans l'espace NMF avec centroïdes\",\n",
    "       x = \"Composante 0 (Pouvoir d'achat)\",\n",
    "       y = \"Composante 1 (Fidélité)\") +\n",
    "  theme_minimal() +\n",
    "  theme(legend.title = element_blank()) +\n",
    "  guides(color = guide_legend(override.aes = list(size=5)))"
   ]
  },
  {
   "cell_type": "markdown",
   "id": "24491de2-e70b-479e-9740-fb004ffca847",
   "metadata": {},
   "source": [
    "On affiche la moyenne de chaque variable dans les clusters."
   ]
  },
  {
   "cell_type": "code",
   "execution_count": 99,
   "id": "b4a4c683-4640-45fa-aaae-82f41e64ee3e",
   "metadata": {},
   "outputs": [
    {
     "name": "stdout",
     "output_type": "stream",
     "text": [
      "  Cluster   Income  Recency  MntWines MntFruits MntMeatProducts MntFishProducts\n",
      "1       1 38098.40 48.64547  91.73432  8.630662        41.43728        12.81446\n",
      "2       2 57596.10 49.55506 275.09663 25.483146       125.30112        33.65618\n",
      "3       3 72599.69 49.82334 711.09779 58.847003       411.76656        84.84385\n",
      "  MntSweetProducts MntGoldProds NumDealsPurchases NumWebPurchases\n",
      "1         9.336237     22.55488          2.379791        2.984321\n",
      "2        25.714607     49.73708          2.716854        4.665169\n",
      "3        60.430599     78.54732          1.894322        5.705047\n",
      "  NumCatalogPurchases NumStorePurchases NumWebVisitsMonth Total_Depense\n",
      "1           0.9268293          3.992160          6.346690      186.5078\n",
      "2           2.7617978          6.487640          4.957303      534.9888\n",
      "3           5.5820189          8.615142          3.753943     1405.5331\n",
      "  Total_Achat Total_Cmp Customer_Since_Months\n",
      "1     7.90331 0.2020906              17.22773\n",
      "2    13.91461 0.3483146              16.93160\n",
      "3    19.90221 0.9589905              19.14362\n"
     ]
    }
   ],
   "source": [
    "cluster_profiles <- aggregate(data_clean[, features_nmf], \n",
    "                              by = list(Cluster = data_clean$Cluster_NMF), \n",
    "                              FUN = mean)\n",
    "\n",
    "print(cluster_profiles)\n"
   ]
  },
  {
   "cell_type": "markdown",
   "id": "74ad3be2-254c-443a-823b-3c2242a58355",
   "metadata": {},
   "source": [
    "On remarque 3 groupes différents:\n",
    "\n",
    "Cluster 0 : revenus les plus faibles, peu de dépenses malgré une fréquence élevée de visites du site. Sont les clients les plus récents. -> LES FRILEUX\n",
    "\n",
    "Cluster 1 : revenus peu élevés, mais visitent le plus le site et ahcètent plus que le Cluster 2 qui a les mêmes revenus. Profitent des promotions. Sont les plus anciens. -> LES FIDELES\n",
    "\n",
    "Cluster 2 : revenus les plus élevés, achètent le plus de chaque produit, profitent peu des promotions, achètent beacoup en catalogue et en magasin. Visitent peu le site web. -> LES PREMIUM\n",
    "\n",
    "Ainsi, on a pu tracer trois profils types de clients. On retrouve certaines tendances aperçues lors du premier clustering GMM. Il est intéressant maintenant de voir si on retrouve ces profils en étudiant les variables qualitatives.\n"
   ]
  }
 ],
 "metadata": {
  "kernelspec": {
   "display_name": "R",
   "language": "R",
   "name": "ir"
  },
  "language_info": {
   "codemirror_mode": "r",
   "file_extension": ".r",
   "mimetype": "text/x-r-source",
   "name": "R",
   "pygments_lexer": "r",
   "version": "4.5.0"
  }
 },
 "nbformat": 4,
 "nbformat_minor": 5
}
